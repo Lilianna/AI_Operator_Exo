{
 "cells": [
  {
   "cell_type": "markdown",
   "metadata": {},
   "source": [
    "# Good practices\n",
    "\n",
    "In python as in other languages, there are conventions on how to write code. You don't have to respect all of them, but some of them have become unanimously used. Let's see together a summary of the most important rules.\n",
    "\n",
    "## PEP8 in summary!\n",
    "\n",
    "[PEP 8 (for Python Extension Proposal)](https://peps.python.org/pep-0008/) is a set of rules that allows to homogenize the code and to apply good practices. \n",
    "\n",
    "Python aims to be a language \"that can be read\" rather than \"a language that can be written\". Writing understandable code for a machine is rather easy, but writing understandable code by the greatest number of coders (of any level) is a different story...\n",
    "\n",
    "PEP 8 provides rules and conventions to make reading easier and thus less stressed and more productive. You can tell from reading a script that the author hasn't followed these basic rules and may assume is not a good coder. \n",
    "\n",
    "As an data professional, you will often be part of teams and having good coding practices will ensure your code is unerstandable, readble, and usable!\n",
    "\n",
    "### Indentation\n",
    "\n",
    "The indentation in your code must be 4 characters. More is too much, less is not enough. "
   ]
  },
  {
   "cell_type": "markdown",
   "metadata": {},
   "source": [
    "👌 Good :"
   ]
  },
  {
   "cell_type": "code",
   "execution_count": 1,
   "metadata": {},
   "outputs": [],
   "source": [
    "def indent():\n",
    "    my_var = \"Use 4 characters for indent\""
   ]
  },
  {
   "cell_type": "markdown",
   "metadata": {},
   "source": [
    "❌ Bad :"
   ]
  },
  {
   "cell_type": "code",
   "execution_count": 2,
   "metadata": {},
   "outputs": [],
   "source": [
    "def indent():\n",
    "    my_var = \"Use 4 characters for indent\""
   ]
  },
  {
   "cell_type": "markdown",
   "metadata": {},
   "source": [
    "### Code layout\n",
    "\n",
    "79 characters per line, no more.\n",
    "\n",
    "Writing in Python is like writing a kind of poem in the Alexandrine verse form. There is the content but also the form. If you're a perfectionist, review your code, even for a single overflow; it won't change anything in the execution of your code, it will only waste your time;\n",
    "but passion is passion, rules are rules."
   ]
  },
  {
   "cell_type": "markdown",
   "metadata": {},
   "source": [
    "👌 Good :"
   ]
  },
  {
   "cell_type": "code",
   "execution_count": 3,
   "metadata": {},
   "outputs": [],
   "source": [
    "def my_function(\n",
    "    context, width, height, size=10000, \n",
    "    color=\"black\", emphasis=None, highlight=0\n",
    "):\n",
    "    pass"
   ]
  },
  {
   "cell_type": "markdown",
   "metadata": {},
   "source": [
    "❌ Bad :"
   ]
  },
  {
   "cell_type": "code",
   "execution_count": 4,
   "metadata": {},
   "outputs": [],
   "source": [
    "def my_function(\n",
    "    context, width, height, size=10000, color=\"black\", emphasis=None, highlight=0\n",
    "):\n",
    "    pass"
   ]
  },
  {
   "cell_type": "markdown",
   "metadata": {},
   "source": [
    "### Import\n",
    "\n",
    "\n",
    "Imports are declared at the beginning of the script. You can add some in a function too (if you can't do otherwise or for exceptional reasons) but after the docstring. Here are some tips:\n",
    "\n",
    "* Allow one line per import. \n",
    "* Separate imports in the following order:\n",
    "    * First you have to put the modules that are internal to Python.\n",
    "    * Then you have to import the third party libraries like `bs4`, `numpy`, etc.\n",
    "    * Then you import your own modules.    \n",
    "* Each part of the modules must be separated by a line that spaces them out."
   ]
  },
  {
   "cell_type": "markdown",
   "metadata": {},
   "source": [
    "👌 Good :  \n",
    "```python\n",
    "import os  # Standard library imports first\n",
    "import sys  # alphabetical\n",
    "\n",
    "import some_third_party_lib  # 3rd party stuff next\n",
    "import some_third_party_other_lib  # alphabetical\n",
    "\n",
    "import local_stuff  # local stuff last\n",
    "import more_local_stuff\n",
    "```"
   ]
  },
  {
   "cell_type": "markdown",
   "metadata": {},
   "source": [
    "❌ Bad :  \n",
    "```python\n",
    "import local_stuff, more_local_stuff, dont_import_two, modules_in_one_line  # IMPORTANT!\n",
    "import os, sys\n",
    "import some_third_party_lib\n",
    "```"
   ]
  },
  {
   "cell_type": "markdown",
   "metadata": {},
   "source": [
    "### Spaces\n",
    "Operators must be surrounded by spaces. The following should be done :"
   ]
  },
  {
   "cell_type": "markdown",
   "metadata": {},
   "source": [
    "👌 Good :\n",
    "```python\n",
    "name = 'Batman'\n",
    "color == 'black'\n",
    "1 + 2\n",
    "```"
   ]
  },
  {
   "cell_type": "markdown",
   "metadata": {},
   "source": [
    "❌ Bad :  \n",
    "```python\n",
    "name='name'\n",
    "color=='black'\n",
    "1+2\n",
    "```"
   ]
  },
  {
   "cell_type": "markdown",
   "metadata": {},
   "source": [
    "There are two notable exceptions.\n",
    "\n",
    "The first is that the mathematical operators with the highest priority are grouped together to distinguish groups :\n",
    "\n",
    "👌 Good :\n",
    "\n",
    "```python\n",
    "a = x*2 - 1\n",
    "b = x*x + y*y\n",
    "c = (a+b) * (a-b)\n",
    "\n",
    "```\n",
    "The second is the = sign in argument declaration and parameter passing :\n",
    "\n",
    "👌 Good :\n",
    "\n",
    "```python\n",
    "def my_function(arg='value'):\n",
    "    pass\n",
    " \n",
    "result = my_fonction(arg='value')\n",
    "\n",
    "```\n"
   ]
  },
  {
   "cell_type": "markdown",
   "metadata": {},
   "source": [
    "There is no space inside parentheses, brackets or braces.  \n",
    "\n",
    "👌 Good :\n",
    "\n",
    "```python\n",
    "2 * (3 + 4)\n",
    " \n",
    "def fonction(arg='valeur'):\n",
    " \n",
    "{str(x): x for x in range(10)}\n",
    " \n",
    "val = dic['key']\n",
    "```\n",
    "\n",
    "❌ Bad :\n",
    "\n",
    "```python\n",
    "2 * ( 3 + 4 ) \n",
    " \n",
    "def fonction( arg= 'valeur' ):\n",
    " \n",
    "{ str( x ): x for x in range( 10 )}\n",
    " \n",
    "val = dic  ['key']\n",
    "```\n",
    "\n",
    "\n",
    "\n",
    "You don't put a space before colons and commas, but you do afterwards.  \n",
    "\n",
    "👌 Good :\n",
    "\n",
    "```python\n",
    "def my_function(arg1='valeur', arg2=None):\n",
    " \n",
    "dic = {'a': 1}\n",
    "```\n",
    "❌ Bad :\n",
    "\n",
    "```python\n",
    "def my_function(arg='value' , arg2=None) :\n",
    " \n",
    "dico = {'a' : 1}\n",
    "\n",
    "```"
   ]
  },
  {
   "cell_type": "markdown",
   "metadata": {},
   "source": [
    "### Docstrings\n",
    "\n",
    "There are both single and multi-line docstrings that can be used in Python. However, the single line comment fits in one line, triple quotes are used in both cases. These are used to define a particular program or define a particular function.\n",
    "Example:\n",
    "```python\n",
    "def exam():\n",
    "    \"\"\"This is single line docstring\"\"\"\n",
    "\n",
    "    \"\"\"This is\n",
    "    a\n",
    "    multiline comment\"\"\"\n",
    "```"
   ]
  },
  {
   "cell_type": "markdown",
   "metadata": {},
   "source": [
    "### Naming Conventions \n",
    "There are few naming conventions that should be followed in order to make the program less complex and more readable. For example, you should prioritize naming that reflect usage rather than implementation.\n",
    "\n",
    "Here are few other naming conventions:\n",
    "\n",
    "**1. variable, function and module** : Use [snake_case.](https://en.wikipedia.org/wiki/Snake_case)\n",
    "\n",
    "👌 Good :\n",
    "\n",
    "```python\n",
    "my_variable = 'Hello'\n",
    "\n",
    "def my_function(element):\n",
    "    pass\n",
    "\n",
    "```\n",
    "❌ Bad :\n",
    "\n",
    "```python\n",
    "myVariable = 'Hello'\n",
    "MyVariable = 'Hello'\n",
    "\n",
    "def myFunction(element):\n",
    "    pass\n",
    "\n",
    "```\n",
    "\n",
    "**2. class** : Use [PascalCase](https://techterms.com/definition/pascalcase)  \n",
    "\n",
    "👌 Good :\n",
    "\n",
    "```python\n",
    "class MyClass:\n",
    "\n",
    "```\n",
    "❌ Bad :\n",
    "```python\n",
    "class my_class:\n",
    "\n",
    "```\n",
    "\n",
    "In the image below, you find a summary of other best practices.\n",
    "\n",
    "![naming conventions](https://i.stack.imgur.com/uBr10.png)"
   ]
  },
  {
   "cell_type": "markdown",
   "metadata": {},
   "source": [
    "###  In summary "
   ]
  },
  {
   "cell_type": "code",
   "execution_count": null,
   "metadata": {},
   "outputs": [],
   "source": [
    "#! /usr/bin/env python\n",
    "# -*- coding: utf-8 -*-\n",
    "\"\"\"This module's docstring summary line.\n",
    "This is a multi-line docstring. Paragraphs are separated with blank lines.\n",
    "Lines conform to 79-column limit.\n",
    "Module and packages names should be short, lower_case_with_underscores.\n",
    "Notice that this in not PEP8-cheatsheet.py\n",
    "Seriously, use flake8. Atom.io with https://atom.io/packages/linter-flake8\n",
    "is awesome!\n",
    "See http://www.python.org/dev/peps/pep-0008/ for more PEP-8 details\n",
    "\"\"\"\n",
    "\n",
    "\n",
    "import os  # STD lib imports first\n",
    "import sys  # alphabetical\n",
    "\n",
    "import some_third_party_lib  # 3rd party stuff next\n",
    "import some_third_party_other_lib  # alphabetical\n",
    "\n",
    "import local_stuff  # local stuff last\n",
    "import more_local_stuff\n",
    "import dont_import_two, modules_in_one_line  # IMPORTANT!\n",
    "from pyflakes_cannot_handle import *  # and there are other reasons it should be avoided # noqa\n",
    "\n",
    "# Using # noqa in the line above avoids flake8 warnings about line length!\n",
    "\n",
    "\n",
    "_a_global_var = 2  # so it won't get imported by 'from foo import *'\n",
    "_b_global_var = 3\n",
    "\n",
    "A_CONSTANT = \"ugh.\"\n",
    "\n",
    "\n",
    "# 2 empty lines between top-level funcs + classes\n",
    "def naming_convention():\n",
    "    \"\"\"Write docstrings for ALL public classes, funcs and methods.\n",
    "    Functions use snake_case.\n",
    "    \"\"\"\n",
    "    if x == 4:  # x is blue <== USEFUL 1-liner comment (2 spaces before #)\n",
    "        x, y = y, x  # inverse x and y <== USELESS COMMENT (1 space after #)\n",
    "    c = (a + b) * (a - b)  # operator spacing should improve readability.\n",
    "    dict[\"key\"] = dict[0] = {\"x\": 2, \"cat\": \"not a dog\"}\n",
    "\n",
    "\n",
    "class NamingConvention(object):\n",
    "    \"\"\"First line of a docstring is short and next to the quotes.\n",
    "    Class and exception names are CapWords.\n",
    "    Closing quotes are on their own line\n",
    "    \"\"\"\n",
    "\n",
    "    a = 2\n",
    "    b = 4\n",
    "    _internal_variable = 3\n",
    "    class_ = \"foo\"  # trailing underscore to avoid conflict with builtin\n",
    "\n",
    "    # this will trigger name mangling to further discourage use from outside\n",
    "    # this is also very useful if you intend your class to be subclassed, and\n",
    "    # the children might also use the same var name for something else; e.g.\n",
    "    # for simple variables like 'a' above. Name mangling will ensure that\n",
    "    # *your* a and the children's a will not collide.\n",
    "    __internal_var = 4\n",
    "\n",
    "    # NEVER use double leading and trailing underscores for your own names\n",
    "    __nooooooodontdoit__ = 0\n",
    "\n",
    "    # don't call anything (because some fonts are hard to distiguish):\n",
    "    l = 1\n",
    "    O = 2\n",
    "    I = 3\n",
    "\n",
    "    # some examples of how to wrap code to conform to 79-columns limit:\n",
    "    def __init__(self, width, height, color=\"black\", emphasis=None, highlight=0):\n",
    "        if (\n",
    "            width == 0\n",
    "            and height == 0\n",
    "            and color == \"red\"\n",
    "            and emphasis == \"strong\"\n",
    "            or highlight > 100\n",
    "        ):\n",
    "            raise ValueError(\"sorry, you lose\")\n",
    "        if width == 0 and height == 0 and (color == \"red\" or emphasis is None):\n",
    "            raise ValueError(\"I don't think so -- values are %s, %s\" % (width, height))\n",
    "        Blob.__init__(self, width, height, color, emphasis, highlight)\n",
    "\n",
    "    # empty lines within method to enhance readability; no set rule\n",
    "    short_foo_dict = {\n",
    "        \"loooooooooooooooooooong_element_name\": \"cat\",\n",
    "        \"other_element\": \"dog\",\n",
    "    }\n",
    "\n",
    "    long_foo_dict_with_many_elements = {\"foo\": \"cat\", \"bar\": \"dog\"}\n",
    "\n",
    "    # 1 empty line between in-class def'ns\n",
    "    def foo_method(self, x, y=None):\n",
    "        \"\"\"Method and function names are lower_case_with_underscores.\n",
    "        Always use self as first arg.\n",
    "        \"\"\"\n",
    "        pass\n",
    "\n",
    "    @classmethod\n",
    "    def bar(cls):\n",
    "        \"\"\"Use cls!\"\"\"\n",
    "        pass\n",
    "\n",
    "\n",
    "# a 79-char ruler:\n",
    "# 34567891123456789212345678931234567894123456789512345678961234567897123456789\n",
    "\n",
    "\"\"\"\n",
    "Common naming convention names:\n",
    "snake_case\n",
    "MACRO_CASE\n",
    "camelCase\n",
    "CapWords\n",
    "\"\"\"\n",
    "\n",
    "# Newline at end of file"
   ]
  },
  {
   "cell_type": "markdown",
   "metadata": {},
   "source": [
    "## Bonus\n",
    "* [black](https://pypi.org/project/black/) is the uncompromising Python code formatter and can be easily integrated with many editors such as Vim, Emacs, VSCode, Atom or a version control system like Git. \n",
    "\n",
    "* [flake8](https://flake8.pycqa.org/en/latest/) is an excellent linter that will check your code style. It is available as a command line or plugin for most editors.\n",
    "\n",
    "* [mccabe](https://pypi.org/project/mccabe/) will check the complexity of your code and tell you if you are smoking by giving you a score. It is also available as a flake8 plugin and can be activated via an option.\n",
    "\n",
    "* [tox](https://pypi.org/project/tox/) allows you to orchestrate all this, in addition to your unit tests. \n",
    "\n",
    "If you see comments like # noqa or # xxx: ignore or # xxx: disable=YYYY, these are comments to tell these tools to disregard these lines.\n",
    "\n",
    "Because remember, these rules are there to help you. If at any time they cease to be useful, you have every right to ignore them.\n",
    "\n",
    "But these common rules make Python an exceptional ecosystem language. They make teamwork, sharing, and productivity much easier. Once you get used to this, working under other conditions will seem like an unnecessary burden.\n",
    "\n",
    "## Additional Resources\n",
    "\n",
    "* [How to Auto-Format Your Python Code with Black](https://www.freecodecamp.org/news/auto-format-your-python-code-with-black/)\n",
    "* [Good coding practices- Version control with git](https://foundations-of-scientific-computing.readthedocs.io/en/latest/lessons/L3/coding.html)\n",
    "* [The Hitchicker's Guide to Python - Code Style](https://docs.python-guide.org/writing/style/)\n",
    "* [pep8 Python tool](https://pep8.readthedocs.io/en/release-1.7.x/intro.html)"
   ]
  }
 ],
 "metadata": {
  "kernelspec": {
   "display_name": "Python 3.9.13 64-bit (windows store)",
   "language": "python",
   "name": "python3"
  },
  "language_info": {
   "codemirror_mode": {
    "name": "ipython",
    "version": 3
   },
   "file_extension": ".py",
   "mimetype": "text/x-python",
   "name": "python",
   "nbconvert_exporter": "python",
   "pygments_lexer": "ipython3",
   "version": "3.9.13"
  },
  "vscode": {
   "interpreter": {
    "hash": "5af58ead5434bcaec4ba320c097b4ab95f4d47b5cc097d838e053a401accc545"
   }
  }
 },
 "nbformat": 4,
 "nbformat_minor": 2
}
