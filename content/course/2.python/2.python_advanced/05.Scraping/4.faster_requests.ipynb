{
 "cells": [
  {
   "cell_type": "markdown",
   "metadata": {},
   "source": [
    "# Make your requests faster\n",
    "\n",
    "When you start scraping web-pages or requesting APIs, you will be facing a problem when doing a lot of requests: this is really slow!\n",
    "\n",
    "It's because python is slow! You could say, well it should not be. Let's see how we can speed things up!\n",
    "\n",
    "## Measure performances\n",
    "\n",
    "In this notebook we will need to track how much time some code is taking to execute.\n",
    "To make things easier, we will create a simple decorator that will print the number of micro-seconds a function takes to execute.\n",
    "\n",
    "A good opportonity to practice decorators in a practical example!\n",
    "\n",
    "*Note that you need python3.3 or higher.*"
   ]
  },
  {
   "cell_type": "code",
   "execution_count": 1,
   "metadata": {},
   "outputs": [
    {
     "name": "stdout",
     "output_type": "stream",
     "text": [
      "example took 2.0 sec\n"
     ]
    }
   ],
   "source": [
    "import time\n",
    "\n",
    "def print_timing(func):\n",
    "    '''Create a timing decorator function use @print_timing just above the function you want to time.'''\n",
    "\n",
    "    def wrapper(*arg):\n",
    "        start = time.perf_counter()\n",
    "        \n",
    "        # Run the function decorated\n",
    "        result = func(*arg)\n",
    "\n",
    "        end = time.perf_counter()\n",
    "        execution_time = round((end - start), 2)\n",
    "        print(f'{func.__name__} took {execution_time} sec')\n",
    "        return result\n",
    "\n",
    "    return wrapper\n",
    "\n",
    "\n",
    "@print_timing\n",
    "def example():\n",
    "    time.sleep(2)\n",
    "\n",
    "\n",
    "example()"
   ]
  },
  {
   "cell_type": "markdown",
   "metadata": {},
   "source": [
    "## The API\n",
    "\n",
    "For this example, we will use the [quotable.io](https://api.quotable.io) API. It's an online API you can use to generate random quote.\n",
    "\n",
    "But feel free to replace `api_url` value with any API you'd like."
   ]
  },
  {
   "cell_type": "code",
   "execution_count": 2,
   "metadata": {},
   "outputs": [],
   "source": [
    "api_url = \"https://api.quotable.io/random\""
   ]
  },
  {
   "cell_type": "markdown",
   "metadata": {},
   "source": [
    "## The \"classic\" way\n",
    "\n",
    "If you start playing with requests, your should probably have something like this:"
   ]
  },
  {
   "cell_type": "code",
   "execution_count": 3,
   "metadata": {},
   "outputs": [
    {
     "name": "stdout",
     "output_type": "stream",
     "text": [
      "A single lamp may light hundreds of thousands of lamps without itself being diminished.\n",
      "Friendship is Love without his wings!\n",
      "Love cures people - both the ones who give it and the ones who receive it.\n",
      "I care not so much what I am to others as what I am to myself. I will be rich by myself, and not by borrowing.\n",
      "The sincere friends of this world are as ship lights in the stormiest of nights.\n",
      "What the caterpillar calls the end of the world, the master calls a butterfly.\n",
      "And as we let our own light shine, we unconsciously give other people permission to do the same.\n",
      "Every time you smile at someone, it is an action of love, a gift to that person, a beautiful thing.\n",
      "Let yourself be silently drawn by the stronger pull of what you really love.\n",
      "We can only learn to love by loving.\n",
      "I know that inner wisdom is more precious than wealth. The more you spend it, the more you gain.\n",
      "All I can say about life is, Oh God, enjoy it!\n",
      "We can change our lives. We can do, have, and be exactly what we wish.\n",
      "Don't believe what your eyes are telling you. All they show is limitation. Look with your understanding, find out what you already know, and you'll see the way to fly.\n",
      "People don't notice whether it's winter or summer when they're happy.\n",
      "Successful people ask better questions, and as a result, they get better answers.\n",
      "Laughter is not at all a bad beginning for a friendship, and it is far the best ending for one.\n",
      "I never see what has been done; I only see what remains to be done.\n",
      "Eighty percent of success is showing up.\n",
      "The poor man is not he who is without a cent, but he who is without a dream.\n",
      "It is only the great hearted who can be true friends. The mean and cowardly, can never know what true friendship means.\n",
      "Waste no more time arguing about what a good man should be. Be one.\n",
      "Ignorant men don't know what good they hold in their hands until they've flung it away.\n",
      "Opportunity is missed by most because it is dressed in overalls and looks like work.\n",
      "Love is the flower you've got to let grow.\n",
      "The beginning of knowledge is the discovery of something we do not understand.\n",
      "Eighty percent of success is showing up.\n",
      "The superior man acts before he speaks, and afterwards speaks according to his action.\n",
      "It is not wisdom but Authority that makes a law.\n",
      "All serious daring starts from within.\n",
      "It is impossible to escape the impression that people commonly use false standards of measurement — that they seek power, success and wealth for themselves and admire them in others, and that they underestimate what is of true value in life.\n",
      "We need to find the courage to say NO to the things and people that are not serving us if we want to rediscover ourselves and live our lives with authenticity.\n",
      "Be slow in choosing a friend, slower in changing.\n",
      "Knowing is not enough; we must apply!\n",
      "A brand for a company is like a reputation for a person. You earn reputation by trying to do hard things well.\n",
      "The essence of true friendship is to make allowance for another's little lapses.\n",
      "Commitment is an act, not a word.\n",
      "We must become the change we want to see.\n",
      "It requires wisdom to understand wisdom: the music is nothing if the audience is deaf.\n",
      "There is more wisdom in your body than in your deepest philosophy.\n",
      "If you surrender to the wind, you can ride it.\n",
      "It isn't where you come from, it's where you're going that counts.\n",
      "Computers are useless. They can only give you answers.\n",
      "Hatred is never appeased by hatred in this world. By non-hatred alone is hatred appeased. This is a law eternal.\n",
      "Many sophisticated, intelligent people lack wisdom and common sense.\n",
      "The doctor of the future will give no medicine, but will interest her or his patients in the care of the human frame, in a proper diet, and in the cause and prevention of disease.\n",
      "A person who never made a mistake never tried anything new.\n",
      "When you meet someone better than yourself, turn your thoughts to becoming his equal. When you meet someone not as good as you are, look within and examine your own self.\n",
      "Each day provides its own gifts.\n",
      "We are what our thoughts have made us; so take care about what you think. Words are secondary. Thoughts live; they travel far.\n",
      "basic_loop_request took 39.2 sec\n"
     ]
    }
   ],
   "source": [
    "import requests\n",
    "\n",
    "\n",
    "def basic_request(url: str):\n",
    "    response = requests.get(url)\n",
    "    response_json = response.json()\n",
    "    print(response_json[\"content\"])\n",
    "\n",
    "\n",
    "@print_timing\n",
    "def basic_loop_request(url: str):\n",
    "    # Query 50 times the API\n",
    "    for _ in range(50):\n",
    "        basic_request(url)\n",
    "\n",
    "\n",
    "basic_loop_request(api_url)"
   ]
  },
  {
   "cell_type": "markdown",
   "metadata": {},
   "source": [
    "### Results\n",
    "\n",
    "On my machine it took **17.06 sec for 50 requests**. \n",
    "\n",
    "Pretty slow right? But why is that?\n",
    "\n",
    "Each time you make a request, your computer needs to create a new \"session\", format your request, send it and wait to receive the response before doing it again with the next request."
   ]
  },
  {
   "cell_type": "markdown",
   "metadata": {},
   "source": [
    "## The \"session\" way\n",
    "\n",
    "To speed this, we can use a **\"session\"** that will be share by all the requests.\n",
    "\n",
    "You can picture it as a postman that knows you already, so he knows which bell to ring, where is the mailbox,... Instead of having to search for those each time."
   ]
  },
  {
   "cell_type": "code",
   "execution_count": 4,
   "metadata": {},
   "outputs": [
    {
     "name": "stdout",
     "output_type": "stream",
     "text": [
      "You are always free to change your mind and choose a different future, or a different past.\n",
      "The first step to getting the things you want out of life is this: decide what you want.\n",
      "The biggest room in the world is room for improvement.\n",
      "Important principles may, and must, be inflexible.\n",
      "You always succeed in producing a result.\n",
      "Never reach out your hand unless you're willing to extend an arm.\n",
      "The only limit to our realization of tomorrow will be our doubts of today.\n",
      "Only two things are infinite, the universe and human stupidity, and I'm not sure about the former.\n",
      "Wisdom comes alone through suffering.\n",
      "I'd rather attempt to do something great and fail than to attempt to do nothing and succeed.\n",
      "Wisdom begins in wonder.\n",
      "Dost thou love life? Then do not squander time, for that is the stuff life is made of.\n",
      "There is nothing so useless as doing efficiently that which should not be done at all.\n",
      "The possibilities are numerous once we decide to act and not react.\n",
      "What sweetness is left in life, if you take away friendship? Robbing life of friendship is like robbing the world of the sun. A true friend is more to be esteemed than kinsfolk.\n",
      "People usually compare the computer to the head of the human being. I would say that hardware is the bone of the head, the skull. The semiconductor is the brain within the head. The software is the wisdom. And data is the knowledge.\n",
      "There is a difference between happiness and wisdom: he that thinks himself the happiest man is really so; but he that thinks himself the wisest is generally the greatest fool.\n",
      "Never tell people how to do things. Tell them what to do and they will surprise you with their ingenuity.\n",
      "The best way out is always through.\n",
      "Friendship is a very taxing and arduous form of leisure activity.\n",
      "Argue for your limitations, and sure enough they're yours.\n",
      "You cannot step twice into the same river, for other waters are continually flowing in.\n",
      "The foolish man seeks happiness in the distance, the wise grows it under his feet.\n",
      "A man is great by deeds, not by birth.\n",
      "Friendship is always a sweet responsibility, never an opportunity.\n",
      "The greatest achievement of humanity is not its works of art, science, or technology, but the recognition of its own dysfunction.\n",
      "Don't ruin the present with the ruined past.\n",
      "In all chaos there is a cosmos, in all disorder a secret order.\n",
      "A man who doesn't trust himself can never really trust anyone else.\n",
      "Where is the Life we have lost in living? Where is the wisdom we have lost in knowledge? Where is the knowledge we have lost in information?\n",
      "And as we let our own light shine, we unconsciously give other people permission to do the same.\n",
      "The greatest remedy for anger is delay.\n",
      "Be as you wish to seem.\n",
      "The rule of friendship means there should be mutual sympathy between them, each supplying what the other lacks and trying to benefit the other, always using friendly and sincere words.\n",
      "To do all that one is able to do, is to be a man; to do all that one would like to do, is to be a god.\n",
      "All men have a sweetness in their life. That is what helps them go on. It is towards that they turn when they feel too worn out.\n",
      "Argue for your limitations, and sure enough they're yours.\n",
      "Do I speak at the right time, or not? Do I speak of facts, or not? Do I speak gently or harshly? Do I speak profitable words or not? Do I speak with a kindly heart, or inwardly malicious?\n",
      "There is a difference between happiness and wisdom: he that thinks himself the happiest man is really so; but he that thinks himself the wisest is generally the greatest fool.\n",
      "Speak low, if you speak love.\n",
      "Not what we have but what we enjoy constitutes our abundance.\n",
      "Appreciation is the highest form of prayer, for it acknowledges the presence of good wherever you shine the light of your thankful thoughts.\n",
      "The person born with a talent they are meant to use will find their greatest happiness in using it.\n",
      "The awareness of our own strength makes us modest.\n",
      "Only through our connectedness to others can we really know and enhance the self. And only through working on the self can we begin to enhance our connectedness to others.\n",
      "Faith in oneself is the best and safest course.\n",
      "If it turns out that there is a God, I don't think that he's evil. But the worst that you can say about him is that basically he's an underachiever.\n",
      "I have an everyday religion that works for me. Love yourself first, and everything else falls into line.\n",
      "We must embrace pain and burn it as fuel for our journey.\n",
      "Absence makes the heart grow fonder.\n",
      "session_loop_request took 6.69 sec\n"
     ]
    }
   ],
   "source": [
    "from requests import Session\n",
    "\n",
    "\n",
    "def session_request(url: str, session: Session):\n",
    "    # Instead of using request.get, we use our session\n",
    "    response = session.get(url)\n",
    "    response_json = response.json()\n",
    "    print(response_json[\"content\"])\n",
    "\n",
    "\n",
    "@print_timing\n",
    "def session_loop_request(url: str):\n",
    "    # Create shared session for all of your requests\n",
    "    with Session() as session:\n",
    "        # Query 50 times the API\n",
    "        for _ in range(50):\n",
    "            session_request(url, session)\n",
    "\n",
    "\n",
    "session_loop_request(api_url)"
   ]
  },
  {
   "cell_type": "markdown",
   "metadata": {},
   "source": [
    "### Results\n",
    "\n",
    "It took me **5.99 sec for 50 requests**. That's better!\n",
    "\n",
    "And as you can see, I didn't change that much in the code."
   ]
  },
  {
   "cell_type": "markdown",
   "metadata": {},
   "source": [
    "## The \"Async\" way\n",
    "\n",
    "If you need even more performances, you will need to use [AsyncIo](https://docs.python.org/3/library/asyncio.html).\n",
    "\n",
    "This is a library to allow you to run asynchronous code.\n",
    "\n",
    "Why is that more efficiant? Well, when you send a request you need to wait for the response. And during the waiting time, our computer does nothing.\n",
    "If you count all the time the computer is just \"waiting\" on 50 or more requests, you will be surprised to see that most of the computing time is just waiting for the server to respond.\n",
    "\n",
    "[AsyncIo](https://docs.python.org/3/library/asyncio.html) allow you to bypass that.\n",
    "\n",
    "But as always, it has a cost: complexity.\n",
    "\n",
    "Making your code async will complixify the code a lot and make the debugging not a pleasant experience. Also, you will go so fast that you could be banned by the server.\n",
    "\n",
    "My advice? Use it only if you need it.\n",
    "\n",
    "I will show you a simple example but you want to understand it better, I really advice you **[this video](https://www.youtube.com/watch?v=qAh5dDODJ5k)**!\n",
    "\n",
    "### Requirements\n",
    "In order to simplify a bit the code, I will use [httpx](https://www.python-httpx.org/) a python library that is working the same way as the `requests` module but with few helpers for async."
   ]
  },
  {
   "cell_type": "code",
   "execution_count": 5,
   "metadata": {},
   "outputs": [
    {
     "name": "stdout",
     "output_type": "stream",
     "text": [
      "Collecting httpx\n",
      "  Obtaining dependency information for httpx from https://files.pythonhosted.org/packages/33/0d/d9ce469af019741c8999711d36b270ff992ceb1a0293f73f9f34fdf131e9/httpx-0.25.0-py3-none-any.whl.metadata\n",
      "  Downloading httpx-0.25.0-py3-none-any.whl.metadata (7.6 kB)\n",
      "Requirement already satisfied: certifi in c:\\users\\becode\\appdata\\local\\programs\\python\\python311\\lib\\site-packages (from httpx) (2023.7.22)\n",
      "Collecting httpcore<0.19.0,>=0.18.0 (from httpx)\n",
      "  Obtaining dependency information for httpcore<0.19.0,>=0.18.0 from https://files.pythonhosted.org/packages/ac/97/724afbb7925339f6214bf1fdb5714d1a462690466832bf8fb3fd497649f1/httpcore-0.18.0-py3-none-any.whl.metadata\n",
      "  Downloading httpcore-0.18.0-py3-none-any.whl.metadata (18 kB)\n",
      "Requirement already satisfied: idna in c:\\users\\becode\\appdata\\local\\programs\\python\\python311\\lib\\site-packages (from httpx) (3.4)\n",
      "Requirement already satisfied: sniffio in c:\\users\\becode\\appdata\\local\\programs\\python\\python311\\lib\\site-packages (from httpx) (1.3.0)\n",
      "Collecting anyio<5.0,>=3.0 (from httpcore<0.19.0,>=0.18.0->httpx)\n",
      "  Obtaining dependency information for anyio<5.0,>=3.0 from https://files.pythonhosted.org/packages/36/55/ad4de788d84a630656ece71059665e01ca793c04294c463fd84132f40fe6/anyio-4.0.0-py3-none-any.whl.metadata\n",
      "  Downloading anyio-4.0.0-py3-none-any.whl.metadata (4.5 kB)\n",
      "Requirement already satisfied: h11<0.15,>=0.13 in c:\\users\\becode\\appdata\\local\\programs\\python\\python311\\lib\\site-packages (from httpcore<0.19.0,>=0.18.0->httpx) (0.14.0)\n",
      "Downloading httpx-0.25.0-py3-none-any.whl (75 kB)\n",
      "   ---------------------------------------- 0.0/75.7 kB ? eta -:--:--\n",
      "   ------------------------------------- -- 71.7/75.7 kB 2.0 MB/s eta 0:00:01\n",
      "   ---------------------------------------- 75.7/75.7 kB 1.4 MB/s eta 0:00:00\n",
      "Downloading httpcore-0.18.0-py3-none-any.whl (76 kB)\n",
      "   ---------------------------------------- 0.0/76.0 kB ? eta -:--:--\n",
      "   ---------------------------------------- 76.0/76.0 kB ? eta 0:00:00\n",
      "Downloading anyio-4.0.0-py3-none-any.whl (83 kB)\n",
      "   ---------------------------------------- 0.0/83.1 kB ? eta -:--:--\n",
      "   ---------------------------------------- 83.1/83.1 kB ? eta 0:00:00\n",
      "Installing collected packages: anyio, httpcore, httpx\n",
      "Successfully installed anyio-4.0.0 httpcore-0.18.0 httpx-0.25.0\n"
     ]
    }
   ],
   "source": [
    "!pip install httpx"
   ]
  },
  {
   "cell_type": "markdown",
   "metadata": {},
   "source": [
    "### Warning!\n",
    "This code won't work in jupyter notebook, there are subtilities for async in jupyter notebook. See [this thread](https://stackoverflow.com/questions/47518874/how-do-i-run-python-asyncio-code-in-a-jupyter-notebook) for more informations.\n",
    "\n",
    "To make it simpler, I will put this code in a .py file and run it in command line:"
   ]
  },
  {
   "cell_type": "markdown",
   "metadata": {},
   "source": [
    "```python\n",
    "from httpx import AsyncClient\n",
    "import asyncio\n",
    "import time\n",
    "\n",
    "\n",
    "api_url = \"https://api.quotable.io/random\"\n",
    "\n",
    "\n",
    "async def session_request_async(url: str, session: AsyncClient):\n",
    "    # Instead of using request.get, we use our session\n",
    "    response = await session.get(url)\n",
    "    response_json = response.json()\n",
    "    print(response_json[\"content\"])\n",
    "    return response_json\n",
    "\n",
    "\n",
    "async def session_loop_request_async(url: str):\n",
    "    # Create shared session for all of your requests\n",
    "    async with AsyncClient() as session:\n",
    "        # Create a list of empty tasks\n",
    "        tasks = []\n",
    "        # Query 50 times the API\n",
    "        for _ in range(50):\n",
    "            # Add a request to tasks\n",
    "            tasks.append(\n",
    "                asyncio.create_task(\n",
    "                    session_request_async(url, session)        \n",
    "                )\n",
    "            )\n",
    "        # Now that all the tasks are registred, run them\n",
    "        responses = await asyncio.gather(*tasks)\n",
    "            \n",
    "            \n",
    "\n",
    "\n",
    "start = time.perf_counter()\n",
    "\n",
    "# We need to use asyncio.run to run the async function\n",
    "asyncio.run(session_loop_request_async(api_url))\n",
    "\n",
    "end = time.perf_counter()\n",
    "execution_time = round((end - start), 2)\n",
    "print(f'session_loop_request_async took {execution_time} sec')\n",
    "```"
   ]
  },
  {
   "cell_type": "code",
   "execution_count": 6,
   "metadata": {},
   "outputs": [
    {
     "name": "stderr",
     "output_type": "stream",
     "text": [
      "Python was not found; run without arguments to install from the Microsoft Store, or disable this shortcut from Settings > Manage App Execution Aliases.\n"
     ]
    }
   ],
   "source": [
    "!python3 ./assets/async_requests.py"
   ]
  },
  {
   "cell_type": "markdown",
   "metadata": {},
   "source": [
    "### Results\n",
    "It only took me **0.8 sec for 50 requests**! That's impressive.\n",
    "\n",
    "But as you can see, it is harder to write, structure and debug. So make sure you **really** need it if you consider using this method."
   ]
  },
  {
   "cell_type": "markdown",
   "metadata": {},
   "source": [
    "## Summary\n",
    "\n",
    "If we gather all our results:\n",
    "\n",
    "| Method                     | Execution time for 50 requests |\n",
    "|----------------------------|--------------------------------|\n",
    "| `requests.get` loop        | 17.06 sec                  |\n",
    "| `requests` with `Session`  | 5.99 sec                   |\n",
    "| `httpx` with `AsyncClient` | 0.8 sec                   |"
   ]
  },
  {
   "cell_type": "markdown",
   "metadata": {},
   "source": []
  }
 ],
 "metadata": {
  "kernelspec": {
   "display_name": "Python 3.10.5 64-bit",
   "language": "python",
   "name": "python3"
  },
  "language_info": {
   "codemirror_mode": {
    "name": "ipython",
    "version": 3
   },
   "file_extension": ".py",
   "mimetype": "text/x-python",
   "name": "python",
   "nbconvert_exporter": "python",
   "pygments_lexer": "ipython3",
   "version": "3.11.5"
  },
  "orig_nbformat": 4,
  "vscode": {
   "interpreter": {
    "hash": "b460384b52104c1e5b9cf54bee46a255d22b2bef338f75ac4ad5d48196028d3c"
   }
  }
 },
 "nbformat": 4,
 "nbformat_minor": 2
}
