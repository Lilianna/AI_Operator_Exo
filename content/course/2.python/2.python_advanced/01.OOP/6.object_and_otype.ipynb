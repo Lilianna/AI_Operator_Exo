{
 "cells": [
  {
   "cell_type": "code",
   "execution_count": 33,
   "metadata": {},
   "outputs": [
    {
     "name": "stdout",
     "output_type": "stream",
     "text": [
      "The current time is 2023-09-12T16:45:14.711495.\n",
      "Math constants: pi=3.142, e = 2.718\n",
      "****************************\n",
      "Sun, Moon, Starts and unknow\n",
      "****************************\n",
      "Tue Sep 12 16:45:14 2023\n",
      "................\n",
      "Hello from Earth\n",
      "................\n",
      "I accidentlly destroyed the whole universe\n",
      "_______________________\n",
      "This is a beautiful day\n",
      "_______________________\n",
      "{'Fm': 100, 'H': 1, 'Rf': 104, 'Tc': 43, 'Xe': 54}\n"
     ]
    }
   ],
   "source": [
    "import time\n",
    "import datetime\n",
    "import math\n",
    "from pprint import pprint as pp \n",
    "\n",
    "\n",
    "print(f'The current time is {datetime.datetime.now().isoformat()}.')\n",
    "time.ctime()\n",
    "print(f'Math constants: pi={math.pi:.3f}, e = {math.e:.3f}')\n",
    "\n",
    "\n",
    "def add_to_list():\n",
    "    \"\"\" List.index(), list.insert(), list.delete()\"\"\"\n",
    "    list1 = \"I accidentlly the whole universe\".split()\n",
    "    list1.insert(2, \"destroyed\")\n",
    "    return \" \".join(list1)\n",
    "\n",
    "def show_default(arg=time.ctime()):\n",
    "    print(arg)\n",
    "    \n",
    "\n",
    "def banner(message, border = '_'):\n",
    "    line = border * len(message)\n",
    "    print (line)\n",
    "    # for word in (enumerate(message)):\n",
    "    print (message)\n",
    "    print(line)\n",
    "    \n",
    "    \n",
    "banner(\"Sun, Moon, Starts and unknow\", border = \"*\")\n",
    "show_default()\n",
    "banner(border = \".\", message = \"Hello from Earth\")\n",
    "print(add_to_list())\n",
    "banner(\"This is a beautiful day\")\n",
    "\"\"\"banner1 = banner(\"Sun, Moon and Starts\", \"*\")\"\"\"\n",
    "\n",
    "dictionary1 = {'H': 1, 'Tc': 43, 'Xe': 54, 'Rf': 104, 'Fm': 100}\n",
    "pp(dictionary1)\n",
    "\n",
    "# dir (banner)\n",
    "# print(\"Another\")\n",
    "# dir(show_default)\n",
    "\n",
    "\n",
    "\n",
    "def __init__(self, hour=0, minute=0, second=0):\n",
    "        self.hour = hour\n",
    "        self.minute = minute\n",
    "        self.second = second\n",
    "\n",
    "def __str__(self):\n",
    "    return '%.2d:%.2d:%.2d' % (self.hour, self.minute, self.second)\n",
    "    \n"
   ]
  }
 ],
 "metadata": {
  "kernelspec": {
   "display_name": "Python 3",
   "language": "python",
   "name": "python3"
  },
  "language_info": {
   "codemirror_mode": {
    "name": "ipython",
    "version": 3
   },
   "file_extension": ".py",
   "mimetype": "text/x-python",
   "name": "python",
   "nbconvert_exporter": "python",
   "pygments_lexer": "ipython3",
   "version": "3.11.5"
  },
  "orig_nbformat": 4
 },
 "nbformat": 4,
 "nbformat_minor": 2
}
