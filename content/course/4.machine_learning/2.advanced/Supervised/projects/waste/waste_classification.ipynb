{
 "cells": [
  {
   "cell_type": "markdown",
   "metadata": {},
   "source": [
    "#### Context\n",
    "We want to automate the waste sorting between organic (O) and Recyclable (R) wastes.\n",
    "Download the dataset from the Kaggle page (link below).\n",
    "\n",
    "Dataset is divided into train data (85%) and test data (15%)\n",
    "- Training data - 22564 images \n",
    "- Test data - 2513 images\n",
    "\n",
    "the label of the data is given by the subfolder the image is in (O or R)\n",
    "\n",
    "\n",
    "Source : [Kaggle](https://www.kaggle.com/datasets/techsash/waste-classification-data)"
   ]
  },
  {
   "cell_type": "code",
   "execution_count": null,
   "metadata": {
    "vscode": {
     "languageId": "plaintext"
    }
   },
   "outputs": [],
   "source": [
    "from PIL import Image\n",
    "import os\n",
    "import matplotlib.pyplot as plt\n",
    "\n",
    "# Example path to your dataset (update accordingly)\n",
    "train_data_path = \"C:\\Users\\becode\\Downloads\\DATASET\\TRAIN\"\n",
    "\n",
    "def read_images(folder_path, num_images=5):\n",
    "    images = []\n",
    "    labels = []\n",
    "\n",
    "    for filename in os.listdir(folder_path):\n",
    "        if filename.endswith(\".jpg\") or filename.endswith(\".png\"):\n",
    "            # Read image\n",
    "            img_path = os.path.join(folder_path, filename)\n",
    "            img = Image.open(img_path)\n",
    "\n",
    "            # Resize or preprocess the image if needed\n",
    "            # img = img.resize((desired_width, desired_height))\n",
    "\n",
    "            # Convert the image to a numpy array and normalize pixel values\n",
    "            img_array = np.array(img) / 255.0\n",
    "\n",
    "            # Extract the label from the filename or another source\n",
    "            label = get_label_from_filename(filename)\n",
    "\n",
    "            images.append(img_array)\n",
    "            labels.append(label)\n",
    "\n",
    "    return np.array(images), np.array(labels)\n",
    "\n",
    "# Read training data\n",
    "X_train, y_train = read_images(train_data_path, num_images=5)\n",
    "\n",
    "# Visualize some images\n",
    "fig, axes = plt.subplots(1, 5, figsize=(15, 3))\n",
    "\n",
    "for i in range(5):\n",
    "    axes[i].imshow(X_train[i])\n",
    "    axes[i].set_title(f\"Label: {y_train[i]}\")\n",
    "    axes[i].axis('off')\n",
    "\n",
    "plt.show()\n"
   ]
  },
  {
   "cell_type": "markdown",
   "metadata": {},
   "source": []
  }
 ],
 "metadata": {
  "language_info": {
   "name": "python"
  }
 },
 "nbformat": 4,
 "nbformat_minor": 2
}
