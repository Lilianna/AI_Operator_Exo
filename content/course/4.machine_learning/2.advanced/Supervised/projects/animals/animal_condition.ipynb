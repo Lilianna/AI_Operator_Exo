{
 "cells": [
  {
   "cell_type": "markdown",
   "metadata": {},
   "source": [
    "The \"Animal Condition Classification Dataset\" presents a unique and intricate data challenge in the realm of animal health assessment. Featuring a diverse array of animal species, ranging from birds to mammals, this dataset enables the development of predictive models to determine whether an animal's condition is dangerous or not based on five distinct symptoms. The dataset's diversity opens doors to creating a classification system that transcends taxonomic boundaries, making it particularly valuable for people interested in animal welfare and wildlife conservation. \n",
    "\n",
    "However, its manual collection process introduces potential sources of error, including spelling mistakes and variations in symptom representation. This necessitates meticulous data-cleaning efforts.\n",
    "\n",
    "As you delve into the \"Animal Condition Classification Dataset,\" they are poised to confront challenges such as class imbalance and the need for feature engineering. Addressing these challenges will be crucial for achieving robust classification models. Thus, this dataset serves as a rich resource for those eager to make a meaningful impact in the field of animal health assessment, with the understanding that it demands careful handling and methodological rigour to deliver insightful and ethically sound results.\n",
    "\n",
    "\n",
    "- `AnimalName`: Contains the animal kind. Like dog, cat, etc\n",
    "- `symptoms1-5`: Contain symptoms\n",
    "- `Dangerous`: Contains whether the condition is dangerous or not.\n",
    "\n",
    "source : [kaggle](https://www.kaggle.com/datasets/gracehephzibahm/animal-disease/)"
   ]
  },
  {
   "cell_type": "code",
   "execution_count": 20,
   "metadata": {},
   "outputs": [],
   "source": [
    "import pandas as pd\n"
   ]
  },
  {
   "cell_type": "code",
   "execution_count": 32,
   "metadata": {},
   "outputs": [
    {
     "data": {
      "text/html": [
       "<div>\n",
       "<style scoped>\n",
       "    .dataframe tbody tr th:only-of-type {\n",
       "        vertical-align: middle;\n",
       "    }\n",
       "\n",
       "    .dataframe tbody tr th {\n",
       "        vertical-align: top;\n",
       "    }\n",
       "\n",
       "    .dataframe thead th {\n",
       "        text-align: right;\n",
       "    }\n",
       "</style>\n",
       "<table border=\"1\" class=\"dataframe\">\n",
       "  <thead>\n",
       "    <tr style=\"text-align: right;\">\n",
       "      <th></th>\n",
       "      <th>AnimalName</th>\n",
       "      <th>symptoms1</th>\n",
       "      <th>symptoms2</th>\n",
       "      <th>symptoms3</th>\n",
       "      <th>symptoms4</th>\n",
       "      <th>symptoms5</th>\n",
       "      <th>Dangerous</th>\n",
       "    </tr>\n",
       "  </thead>\n",
       "  <tbody>\n",
       "    <tr>\n",
       "      <th>0</th>\n",
       "      <td>Dog</td>\n",
       "      <td>Fever</td>\n",
       "      <td>Diarrhea</td>\n",
       "      <td>Vomiting</td>\n",
       "      <td>Weight loss</td>\n",
       "      <td>Dehydration</td>\n",
       "      <td>Yes</td>\n",
       "    </tr>\n",
       "    <tr>\n",
       "      <th>1</th>\n",
       "      <td>Dog</td>\n",
       "      <td>Fever</td>\n",
       "      <td>Diarrhea</td>\n",
       "      <td>Coughing</td>\n",
       "      <td>Tiredness</td>\n",
       "      <td>Pains</td>\n",
       "      <td>Yes</td>\n",
       "    </tr>\n",
       "    <tr>\n",
       "      <th>2</th>\n",
       "      <td>Dog</td>\n",
       "      <td>Fever</td>\n",
       "      <td>Diarrhea</td>\n",
       "      <td>Coughing</td>\n",
       "      <td>Vomiting</td>\n",
       "      <td>Anorexia</td>\n",
       "      <td>Yes</td>\n",
       "    </tr>\n",
       "    <tr>\n",
       "      <th>3</th>\n",
       "      <td>Dog</td>\n",
       "      <td>Fever</td>\n",
       "      <td>Difficulty breathing</td>\n",
       "      <td>Coughing</td>\n",
       "      <td>Lethargy</td>\n",
       "      <td>Sneezing</td>\n",
       "      <td>Yes</td>\n",
       "    </tr>\n",
       "    <tr>\n",
       "      <th>4</th>\n",
       "      <td>Dog</td>\n",
       "      <td>Fever</td>\n",
       "      <td>Diarrhea</td>\n",
       "      <td>Coughing</td>\n",
       "      <td>Lethargy</td>\n",
       "      <td>Blue Eye</td>\n",
       "      <td>Yes</td>\n",
       "    </tr>\n",
       "  </tbody>\n",
       "</table>\n",
       "</div>"
      ],
      "text/plain": [
       "  AnimalName symptoms1             symptoms2 symptoms3    symptoms4  \\\n",
       "0        Dog     Fever              Diarrhea  Vomiting  Weight loss   \n",
       "1        Dog     Fever              Diarrhea  Coughing    Tiredness   \n",
       "2        Dog     Fever              Diarrhea  Coughing     Vomiting   \n",
       "3        Dog     Fever  Difficulty breathing  Coughing     Lethargy   \n",
       "4        Dog     Fever              Diarrhea  Coughing     Lethargy   \n",
       "\n",
       "     symptoms5 Dangerous  \n",
       "0  Dehydration       Yes  \n",
       "1        Pains       Yes  \n",
       "2     Anorexia       Yes  \n",
       "3     Sneezing       Yes  \n",
       "4     Blue Eye       Yes  "
      ]
     },
     "execution_count": 32,
     "metadata": {},
     "output_type": "execute_result"
    }
   ],
   "source": [
    "df=pd.read_csv(\"data.csv\")\n",
    "df.head()"
   ]
  },
  {
   "cell_type": "markdown",
   "metadata": {},
   "source": []
  },
  {
   "cell_type": "code",
   "execution_count": 39,
   "metadata": {},
   "outputs": [
    {
     "name": "stdout",
     "output_type": "stream",
     "text": [
      "<class 'pandas.core.frame.DataFrame'>\n",
      "RangeIndex: 869 entries, 0 to 868\n",
      "Data columns (total 7 columns):\n",
      " #   Column      Non-Null Count  Dtype \n",
      "---  ------      --------------  ----- \n",
      " 0   AnimalName  869 non-null    object\n",
      " 1   symptoms1   869 non-null    object\n",
      " 2   symptoms2   869 non-null    object\n",
      " 3   symptoms3   869 non-null    object\n",
      " 4   symptoms4   869 non-null    object\n",
      " 5   symptoms5   869 non-null    object\n",
      " 6   Dangerous   869 non-null    object\n",
      "dtypes: object(7)\n",
      "memory usage: 47.7+ KB\n",
      "\n",
      "Column: AnimalName\n",
      "AnimalName\n",
      "Buffaloes            128\n",
      "Sheep                109\n",
      "Pig                   63\n",
      "Fowl                  62\n",
      "Elephant              59\n",
      "Duck                  56\n",
      "Deer                  38\n",
      "Donkey                38\n",
      "Birds                 37\n",
      "cat                   36\n",
      "Dog                   34\n",
      "Monkey                28\n",
      "Goat                  26\n",
      "Cattle                21\n",
      "Hamster               18\n",
      "Tiger                 17\n",
      "Lion                  16\n",
      "Rabbit                11\n",
      "Horse                 10\n",
      "Chicken                9\n",
      "Fox                    7\n",
      "Other Birds            6\n",
      "horse                  5\n",
      "chicken                4\n",
      "Turtle                 4\n",
      "Pigs                   3\n",
      "cow                    3\n",
      "donkey                 2\n",
      "Goats                  2\n",
      "White-tailed deer      1\n",
      "Hyaenas                1\n",
      "Wolves                 1\n",
      "Dogs                   1\n",
      "Fox                    1\n",
      "Moos                   1\n",
      "Reindeer               1\n",
      "mammal                 1\n",
      "Sika deer              1\n",
      "cattle                 1\n",
      "Mule deer              1\n",
      "Wapiti                 1\n",
      "Elk                    1\n",
      "mules                  1\n",
      "duck                   1\n",
      "snake                  1\n",
      "Black-tailed deer      1\n",
      "Name: count, dtype: int64\n",
      "\n",
      "Column: symptoms1\n",
      "symptoms1\n",
      "Fever                      257\n",
      "Fetopelvic dispropotion     21\n",
      "wasting                     20\n",
      "fever                       14\n",
      "loss of appetite            12\n",
      "                          ... \n",
      "Tear production              1\n",
      "Dizzines                     1\n",
      "Thivk skin                   1\n",
      "Head tossing                 1\n",
      "Radip onset                  1\n",
      "Name: count, Length: 231, dtype: int64\n",
      "\n",
      "Column: symptoms2\n",
      "symptoms2\n",
      "Diarrhea                   119\n",
      "Difficulty in breathing     26\n",
      "Depression                  26\n",
      "Loss of appetite            26\n",
      "Uteria inertia              21\n",
      "                          ... \n",
      "Larynx                       1\n",
      "Stealing                     1\n",
      "Difficulty in walking        1\n",
      "Aversion to light            1\n",
      "Diffulty Swallowing          1\n",
      "Name: count, Length: 229, dtype: int64\n",
      "\n",
      "Column: symptoms3\n",
      "symptoms3\n",
      "Coughing              95\n",
      "Vomiting              59\n",
      "loss of appetite      28\n",
      "Malpresentation       22\n",
      "Lethargy              22\n",
      "                      ..\n",
      "Bloody Diarrhea        1\n",
      "Swelling on jaw        1\n",
      "Grinding of teeth      1\n",
      "Tear produce           1\n",
      "Excessive drooling     1\n",
      "Name: count, Length: 229, dtype: int64\n",
      "\n",
      "Column: symptoms4\n",
      "symptoms4\n",
      "Weight loss          117\n",
      "Death                 51\n",
      "Lethargy              47\n",
      "Depression            28\n",
      "Weakness              25\n",
      "                    ... \n",
      "Irritation             1\n",
      "Heat                   1\n",
      "Pawing at bedding      1\n",
      "Bleeding wounds        1\n",
      "Scartches              1\n",
      "Name: count, Length: 216, dtype: int64\n",
      "\n",
      "Column: symptoms5\n",
      "symptoms5\n",
      "Pains                 99\n",
      "Pain                  68\n",
      "Nasal Discharge       37\n",
      "Anorexia              37\n",
      "Weight loss           24\n",
      "                      ..\n",
      "lameness               2\n",
      "weakness               1\n",
      "Neck Vein Swelling     1\n",
      "Redness on ear         1\n",
      "Blister                1\n",
      "Name: count, Length: 202, dtype: int64\n",
      "\n",
      "Column: Dangerous\n",
      "Dangerous\n",
      "Yes    849\n",
      "No      20\n",
      "Name: count, dtype: int64\n"
     ]
    }
   ],
   "source": [
    "# Assuming 'df' is your DataFrame\n",
    "df.dropna(subset=['Dangerous'], inplace=True)\n",
    "\n",
    "# Reset the index\n",
    "df.reset_index(drop=True, inplace=True)\n",
    "\n",
    "# Create a new DataFrame without rows where 'Dangerous' is missing and reset the index\n",
    "#df = df.dropna(subset=['Dangerous']).reset_index(drop=True)\n",
    "\n",
    "\n",
    "\n",
    "# Assuming 'df' is your DataFrame\n",
    "df.info()\n",
    "\n",
    "# To check unique values for each column\n",
    "for column in df.columns:\n",
    "    print(f\"\\nColumn: {column}\")\n",
    "    print(df[column].value_counts())\n"
   ]
  },
  {
   "cell_type": "markdown",
   "metadata": {},
   "source": [
    "### Create dataframe"
   ]
  },
  {
   "cell_type": "code",
   "execution_count": 40,
   "metadata": {},
   "outputs": [
    {
     "name": "stderr",
     "output_type": "stream",
     "text": [
      "c:\\Users\\becode\\AppData\\Local\\Programs\\Python\\Python311\\Lib\\site-packages\\sklearn\\preprocessing\\_encoders.py:975: FutureWarning: `sparse` was renamed to `sparse_output` in version 1.2 and will be removed in 1.4. `sparse_output` is ignored unless you leave `sparse` to its default value.\n",
      "  warnings.warn(\n"
     ]
    }
   ],
   "source": [
    "import pandas as pd\n",
    "from sklearn.model_selection import train_test_split\n",
    "from sklearn.linear_model import LogisticRegression\n",
    "from sklearn.metrics import accuracy_score, classification_report\n",
    "from sklearn.preprocessing import OneHotEncoder, LabelEncoder\n",
    "\n",
    "# Features (X)\n",
    "X = df[['AnimalName', 'symptoms1', 'symptoms2', 'symptoms3', 'symptoms4', 'symptoms5']]\n",
    "\n",
    "# Target variable (y)\n",
    "y = df['Dangerous']\n",
    "\n",
    "# Label encoding for the target variable\n",
    "le = LabelEncoder()\n",
    "y = le.fit_transform(y)\n",
    "\n",
    "# One-hot encoding for other categorical variables\n",
    "encoder = OneHotEncoder(drop='first', sparse=False)\n",
    "X_encoded = encoder.fit_transform(X)\n",
    "columns = encoder.get_feature_names_out(X.columns)\n",
    "X_encoded = pd.DataFrame(X_encoded, columns=columns)\n",
    "\n",
    "# Concatenate the encoded columns with the rest of the features\n",
    "X = pd.concat([X.drop(['AnimalName', 'symptoms1', 'symptoms2', 'symptoms3', 'symptoms4', 'symptoms5'], axis=1), X_encoded], axis=1)\n",
    "\n"
   ]
  },
  {
   "cell_type": "markdown",
   "metadata": {},
   "source": [
    "### 1. Logistic Regression"
   ]
  },
  {
   "cell_type": "code",
   "execution_count": 42,
   "metadata": {},
   "outputs": [
    {
     "name": "stdout",
     "output_type": "stream",
     "text": [
      "Accuracy: 0.9885057471264368\n"
     ]
    }
   ],
   "source": [
    "# Split the data into training and testing sets\n",
    "X_train, X_test, y_train, y_test = train_test_split(X, y, test_size=0.2, random_state=42)\n",
    "\n",
    "# Create a logistic regression model\n",
    "logreg_model = LogisticRegression()\n",
    "\n",
    "# Train the model\n",
    "logreg_model.fit(X_train, y_train)\n",
    "\n",
    "# Make predictions on the test set\n",
    "y_pred = logreg_model.predict(X_test)\n",
    "\n",
    "# Inverse transform for label encoding to get original 'Dangerous' values\n",
    "y_test_original = le.inverse_transform(y_test)\n",
    "y_pred_original = le.inverse_transform(y_pred)\n",
    "\n",
    "# Evaluate the model\n",
    "accuracy = accuracy_score(y_test, y_pred)\n",
    "print(f'Accuracy: {accuracy}')"
   ]
  },
  {
   "cell_type": "markdown",
   "metadata": {},
   "source": [
    "### 2. Decision Trees:\n"
   ]
  },
  {
   "cell_type": "code",
   "execution_count": 43,
   "metadata": {},
   "outputs": [
    {
     "name": "stdout",
     "output_type": "stream",
     "text": [
      "Accuracy: 0.9942528735632183\n",
      "              precision    recall  f1-score   support\n",
      "\n",
      "           0       1.00      0.50      0.67         2\n",
      "           1       0.99      1.00      1.00       172\n",
      "\n",
      "    accuracy                           0.99       174\n",
      "   macro avg       1.00      0.75      0.83       174\n",
      "weighted avg       0.99      0.99      0.99       174\n",
      "\n"
     ]
    }
   ],
   "source": [
    "from sklearn.tree import DecisionTreeClassifier\n",
    "\n",
    "# Create a decision tree model\n",
    "tree_model = DecisionTreeClassifier()\n",
    "\n",
    "# Train the model\n",
    "tree_model.fit(X_train, y_train)\n",
    "\n",
    "# Make predictions on the test set\n",
    "y_pred = tree_model.predict(X_test)\n",
    "\n",
    "# Evaluate the model\n",
    "accuracy = accuracy_score(y_test, y_pred)\n",
    "print(f'Accuracy: {accuracy}')\n",
    "print(classification_report(y_test, y_pred))\n"
   ]
  },
  {
   "cell_type": "markdown",
   "metadata": {},
   "source": [
    "### 3. Random Forest:\n"
   ]
  },
  {
   "cell_type": "code",
   "execution_count": 44,
   "metadata": {},
   "outputs": [
    {
     "name": "stdout",
     "output_type": "stream",
     "text": [
      "Accuracy: 0.9885057471264368\n",
      "              precision    recall  f1-score   support\n",
      "\n",
      "           0       0.00      0.00      0.00         2\n",
      "           1       0.99      1.00      0.99       172\n",
      "\n",
      "    accuracy                           0.99       174\n",
      "   macro avg       0.49      0.50      0.50       174\n",
      "weighted avg       0.98      0.99      0.98       174\n",
      "\n"
     ]
    },
    {
     "name": "stderr",
     "output_type": "stream",
     "text": [
      "c:\\Users\\becode\\AppData\\Local\\Programs\\Python\\Python311\\Lib\\site-packages\\sklearn\\metrics\\_classification.py:1469: UndefinedMetricWarning: Precision and F-score are ill-defined and being set to 0.0 in labels with no predicted samples. Use `zero_division` parameter to control this behavior.\n",
      "  _warn_prf(average, modifier, msg_start, len(result))\n",
      "c:\\Users\\becode\\AppData\\Local\\Programs\\Python\\Python311\\Lib\\site-packages\\sklearn\\metrics\\_classification.py:1469: UndefinedMetricWarning: Precision and F-score are ill-defined and being set to 0.0 in labels with no predicted samples. Use `zero_division` parameter to control this behavior.\n",
      "  _warn_prf(average, modifier, msg_start, len(result))\n",
      "c:\\Users\\becode\\AppData\\Local\\Programs\\Python\\Python311\\Lib\\site-packages\\sklearn\\metrics\\_classification.py:1469: UndefinedMetricWarning: Precision and F-score are ill-defined and being set to 0.0 in labels with no predicted samples. Use `zero_division` parameter to control this behavior.\n",
      "  _warn_prf(average, modifier, msg_start, len(result))\n"
     ]
    }
   ],
   "source": [
    "from sklearn.ensemble import RandomForestClassifier\n",
    "\n",
    "# Create a random forest model\n",
    "rf_model = RandomForestClassifier()\n",
    "\n",
    "# Train the model\n",
    "rf_model.fit(X_train, y_train)\n",
    "\n",
    "# Make predictions on the test set\n",
    "y_pred = rf_model.predict(X_test)\n",
    "\n",
    "# Evaluate the model\n",
    "accuracy = accuracy_score(y_test, y_pred)\n",
    "print(f'Accuracy: {accuracy}')\n",
    "print(classification_report(y_test, y_pred))\n"
   ]
  },
  {
   "cell_type": "markdown",
   "metadata": {},
   "source": [
    "### 4. Support Vector Machines (SVM):\n"
   ]
  },
  {
   "cell_type": "code",
   "execution_count": 47,
   "metadata": {},
   "outputs": [
    {
     "name": "stdout",
     "output_type": "stream",
     "text": [
      "Accuracy: 0.9885057471264368\n",
      "              precision    recall  f1-score   support\n",
      "\n",
      "           0       0.00      0.00      0.00         2\n",
      "           1       0.99      1.00      0.99       172\n",
      "\n",
      "    accuracy                           0.99       174\n",
      "   macro avg       0.49      0.50      0.50       174\n",
      "weighted avg       0.98      0.99      0.98       174\n",
      "\n"
     ]
    },
    {
     "name": "stderr",
     "output_type": "stream",
     "text": [
      "c:\\Users\\becode\\AppData\\Local\\Programs\\Python\\Python311\\Lib\\site-packages\\sklearn\\metrics\\_classification.py:1469: UndefinedMetricWarning: Precision and F-score are ill-defined and being set to 0.0 in labels with no predicted samples. Use `zero_division` parameter to control this behavior.\n",
      "  _warn_prf(average, modifier, msg_start, len(result))\n",
      "c:\\Users\\becode\\AppData\\Local\\Programs\\Python\\Python311\\Lib\\site-packages\\sklearn\\metrics\\_classification.py:1469: UndefinedMetricWarning: Precision and F-score are ill-defined and being set to 0.0 in labels with no predicted samples. Use `zero_division` parameter to control this behavior.\n",
      "  _warn_prf(average, modifier, msg_start, len(result))\n",
      "c:\\Users\\becode\\AppData\\Local\\Programs\\Python\\Python311\\Lib\\site-packages\\sklearn\\metrics\\_classification.py:1469: UndefinedMetricWarning: Precision and F-score are ill-defined and being set to 0.0 in labels with no predicted samples. Use `zero_division` parameter to control this behavior.\n",
      "  _warn_prf(average, modifier, msg_start, len(result))\n"
     ]
    }
   ],
   "source": [
    "from sklearn.svm import SVC\n",
    "from sklearn.preprocessing import StandardScaler\n",
    "\n",
    "# Standardize features\n",
    "scaler = StandardScaler()\n",
    "X_train_scaled = scaler.fit_transform(X_train)\n",
    "X_test_scaled = scaler.transform(X_test)\n",
    "\n",
    "# Create an SVM model\n",
    "svm_model = SVC()\n",
    "\n",
    "# Train the model\n",
    "svm_model.fit(X_train_scaled, y_train)\n",
    "\n",
    "# Make predictions on the scaled test set\n",
    "y_pred = svm_model.predict(X_test_scaled)\n",
    "\n",
    "# Evaluate the model\n",
    "accuracy = accuracy_score(y_test, y_pred)\n",
    "print(f'Accuracy: {accuracy}')\n",
    "print(classification_report(y_test, y_pred))\n"
   ]
  },
  {
   "cell_type": "markdown",
   "metadata": {},
   "source": [
    "### 5. Naive Bayes:\n"
   ]
  },
  {
   "cell_type": "code",
   "execution_count": 48,
   "metadata": {},
   "outputs": [
    {
     "name": "stdout",
     "output_type": "stream",
     "text": [
      "Accuracy: 0.9770114942528736\n",
      "              precision    recall  f1-score   support\n",
      "\n",
      "           0       0.33      1.00      0.50         2\n",
      "           1       1.00      0.98      0.99       172\n",
      "\n",
      "    accuracy                           0.98       174\n",
      "   macro avg       0.67      0.99      0.74       174\n",
      "weighted avg       0.99      0.98      0.98       174\n",
      "\n"
     ]
    }
   ],
   "source": [
    "from sklearn.naive_bayes import GaussianNB\n",
    "\n",
    "# Create a Naive Bayes model\n",
    "nb_model = GaussianNB()\n",
    "\n",
    "# Train the model\n",
    "nb_model.fit(X_train, y_train)\n",
    "\n",
    "# Make predictions on the test set\n",
    "y_pred = nb_model.predict(X_test)\n",
    "\n",
    "# Evaluate the model\n",
    "accuracy = accuracy_score(y_test, y_pred)\n",
    "print(f'Accuracy: {accuracy}')\n",
    "print(classification_report(y_test, y_pred))\n"
   ]
  },
  {
   "cell_type": "markdown",
   "metadata": {},
   "source": [
    "### 6. Gradient Boosting (XGBoost):\n"
   ]
  },
  {
   "cell_type": "code",
   "execution_count": 49,
   "metadata": {},
   "outputs": [
    {
     "name": "stderr",
     "output_type": "stream",
     "text": [
      "c:\\Users\\becode\\AppData\\Local\\Programs\\Python\\Python311\\Lib\\site-packages\\xgboost\\data.py:335: FutureWarning: is_sparse is deprecated and will be removed in a future version. Check `isinstance(dtype, pd.SparseDtype)` instead.\n",
      "  if is_sparse(dtype):\n",
      "c:\\Users\\becode\\AppData\\Local\\Programs\\Python\\Python311\\Lib\\site-packages\\xgboost\\data.py:338: FutureWarning: is_categorical_dtype is deprecated and will be removed in a future version. Use isinstance(dtype, CategoricalDtype) instead\n",
      "  is_categorical_dtype(dtype) or is_pa_ext_categorical_dtype(dtype)\n",
      "c:\\Users\\becode\\AppData\\Local\\Programs\\Python\\Python311\\Lib\\site-packages\\xgboost\\data.py:384: FutureWarning: is_categorical_dtype is deprecated and will be removed in a future version. Use isinstance(dtype, CategoricalDtype) instead\n",
      "  if is_categorical_dtype(dtype):\n",
      "c:\\Users\\becode\\AppData\\Local\\Programs\\Python\\Python311\\Lib\\site-packages\\xgboost\\data.py:359: FutureWarning: is_categorical_dtype is deprecated and will be removed in a future version. Use isinstance(dtype, CategoricalDtype) instead\n",
      "  return is_int or is_bool or is_float or is_categorical_dtype(dtype)\n"
     ]
    },
    {
     "name": "stdout",
     "output_type": "stream",
     "text": [
      "Accuracy: 0.9770114942528736\n",
      "              precision    recall  f1-score   support\n",
      "\n",
      "           0       0.00      0.00      0.00         2\n",
      "           1       0.99      0.99      0.99       172\n",
      "\n",
      "    accuracy                           0.98       174\n",
      "   macro avg       0.49      0.49      0.49       174\n",
      "weighted avg       0.98      0.98      0.98       174\n",
      "\n"
     ]
    },
    {
     "name": "stderr",
     "output_type": "stream",
     "text": [
      "c:\\Users\\becode\\AppData\\Local\\Programs\\Python\\Python311\\Lib\\site-packages\\xgboost\\data.py:335: FutureWarning: is_sparse is deprecated and will be removed in a future version. Check `isinstance(dtype, pd.SparseDtype)` instead.\n",
      "  if is_sparse(dtype):\n",
      "c:\\Users\\becode\\AppData\\Local\\Programs\\Python\\Python311\\Lib\\site-packages\\xgboost\\data.py:338: FutureWarning: is_categorical_dtype is deprecated and will be removed in a future version. Use isinstance(dtype, CategoricalDtype) instead\n",
      "  is_categorical_dtype(dtype) or is_pa_ext_categorical_dtype(dtype)\n",
      "c:\\Users\\becode\\AppData\\Local\\Programs\\Python\\Python311\\Lib\\site-packages\\xgboost\\data.py:384: FutureWarning: is_categorical_dtype is deprecated and will be removed in a future version. Use isinstance(dtype, CategoricalDtype) instead\n",
      "  if is_categorical_dtype(dtype):\n",
      "c:\\Users\\becode\\AppData\\Local\\Programs\\Python\\Python311\\Lib\\site-packages\\xgboost\\data.py:359: FutureWarning: is_categorical_dtype is deprecated and will be removed in a future version. Use isinstance(dtype, CategoricalDtype) instead\n",
      "  return is_int or is_bool or is_float or is_categorical_dtype(dtype)\n"
     ]
    }
   ],
   "source": [
    "from xgboost import XGBClassifier\n",
    "\n",
    "# Create an XGBoost model\n",
    "xgb_model = XGBClassifier()\n",
    "\n",
    "# Train the model\n",
    "xgb_model.fit(X_train, y_train)\n",
    "\n",
    "# Make predictions on the test set\n",
    "y_pred = xgb_model.predict(X_test)\n",
    "\n",
    "# Evaluate the model\n",
    "accuracy = accuracy_score(y_test, y_pred)\n",
    "print(f'Accuracy: {accuracy}')\n",
    "print(classification_report(y_test, y_pred))\n"
   ]
  },
  {
   "cell_type": "markdown",
   "metadata": {},
   "source": [
    "### 7. Neural Networks (using TensorFlow/Keras):\n"
   ]
  },
  {
   "cell_type": "code",
   "execution_count": 50,
   "metadata": {},
   "outputs": [
    {
     "name": "stdout",
     "output_type": "stream",
     "text": [
      "Epoch 1/10\n",
      "18/18 [==============================] - 1s 18ms/step - loss: 0.6214 - accuracy: 0.8561 - val_loss: 0.5357 - val_accuracy: 0.9712\n",
      "Epoch 2/10\n",
      "18/18 [==============================] - 0s 5ms/step - loss: 0.4552 - accuracy: 0.9748 - val_loss: 0.3908 - val_accuracy: 0.9712\n",
      "Epoch 3/10\n",
      "18/18 [==============================] - 0s 6ms/step - loss: 0.3123 - accuracy: 0.9748 - val_loss: 0.2712 - val_accuracy: 0.9712\n",
      "Epoch 4/10\n",
      "18/18 [==============================] - 0s 5ms/step - loss: 0.2077 - accuracy: 0.9766 - val_loss: 0.1924 - val_accuracy: 0.9712\n",
      "Epoch 5/10\n",
      "18/18 [==============================] - 0s 6ms/step - loss: 0.1436 - accuracy: 0.9766 - val_loss: 0.1465 - val_accuracy: 0.9712\n",
      "Epoch 6/10\n",
      "18/18 [==============================] - 0s 6ms/step - loss: 0.1073 - accuracy: 0.9784 - val_loss: 0.1200 - val_accuracy: 0.9712\n",
      "Epoch 7/10\n",
      "18/18 [==============================] - 0s 5ms/step - loss: 0.0849 - accuracy: 0.9784 - val_loss: 0.1036 - val_accuracy: 0.9712\n",
      "Epoch 8/10\n",
      "18/18 [==============================] - 0s 5ms/step - loss: 0.0703 - accuracy: 0.9802 - val_loss: 0.0932 - val_accuracy: 0.9712\n",
      "Epoch 9/10\n",
      "18/18 [==============================] - 0s 6ms/step - loss: 0.0593 - accuracy: 0.9802 - val_loss: 0.0857 - val_accuracy: 0.9784\n",
      "Epoch 10/10\n",
      "18/18 [==============================] - 0s 5ms/step - loss: 0.0514 - accuracy: 0.9820 - val_loss: 0.0791 - val_accuracy: 0.9784\n",
      "6/6 [==============================] - 0s 0s/step - loss: 0.0571 - accuracy: 0.9885\n",
      "Accuracy: 0.9885057210922241\n"
     ]
    }
   ],
   "source": [
    "import tensorflow as tf\n",
    "from tensorflow.keras.models import Sequential\n",
    "from tensorflow.keras.layers import Dense\n",
    "\n",
    "# Create a neural network model\n",
    "model = Sequential()\n",
    "model.add(Dense(64, input_dim=X_train.shape[1], activation='relu'))\n",
    "model.add(Dense(1, activation='sigmoid'))\n",
    "\n",
    "# Compile the model\n",
    "model.compile(optimizer='adam', loss='binary_crossentropy', metrics=['accuracy'])\n",
    "\n",
    "# Train the model\n",
    "model.fit(X_train, y_train, epochs=10, batch_size=32, validation_split=0.2)\n",
    "\n",
    "# Evaluate the model\n",
    "loss, accuracy = model.evaluate(X_test, y_test)\n",
    "print(f'Accuracy: {accuracy}')\n"
   ]
  }
 ],
 "metadata": {
  "kernelspec": {
   "display_name": "Python 3",
   "language": "python",
   "name": "python3"
  },
  "language_info": {
   "codemirror_mode": {
    "name": "ipython",
    "version": 3
   },
   "file_extension": ".py",
   "mimetype": "text/x-python",
   "name": "python",
   "nbconvert_exporter": "python",
   "pygments_lexer": "ipython3",
   "version": "3.11.5"
  }
 },
 "nbformat": 4,
 "nbformat_minor": 2
}
