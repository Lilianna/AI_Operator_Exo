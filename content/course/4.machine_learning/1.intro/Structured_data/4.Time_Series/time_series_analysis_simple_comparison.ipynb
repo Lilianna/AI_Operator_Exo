{
  "nbformat": 4,
  "nbformat_minor": 0,
  "metadata": {
    "colab": {
      "provenance": []
    },
    "kernelspec": {
      "name": "python3",
      "display_name": "Python 3"
    },
    "language_info": {
      "name": "python"
    }
  },
  "cells": [
    {
      "cell_type": "markdown",
      "source": [
        "# Time series analysis: A simple comparison\n",
        "\n",
        "![timeseries_analysis](https://learning.oreilly.com/api/v2/epubs/urn:orm:book:9781801819626/files/Images/B17577_02_01.png)\n",
        "\n",
        "Time-Series Analysis (TSA) is the process of extracting a summary and other statistical information from time-series, most importantly, the analysis of trend and seasonality.\n",
        "\n",
        "\n",
        "\n",
        "When forecasting timeseries there are three main approaches you will encounter:\n",
        "\n",
        "1. The statistical approach\n",
        "2. The machine learning approach\n",
        "3. The deep learning approach\n",
        "\n",
        "In this notebook, we will focus on comparing the first two approaches through a simple example.\n",
        "\n",
        "Note: The biggest difference between statistics and ML is their purposes. While statistical models are used for finding and explaining the relationships between variables, ML models are built for providing accurate predictions without explicit programming. \n",
        "\n",
        "Although some statistical models can make predictions, the accuracy of these models is usually not the best as they cannot capture complex relationships between data. On the other hand, ML models can provide better predictions, but it is more difficult to understand and explain them.\n",
        "\n",
        "## Statistical (``Classical``) Approach\n",
        "\n",
        "When you hear the term 'classical' time series approaches we are dealing with models that could be characterized as having a longer tradition, and are rooted in statistics and mathematics. \n",
        "\n",
        "They tend to have `stronger` assumptions on the properties of the data for example, many of the models assume stationarity. If a time-series is stationary (i.e. its mean and standard deviation stays constant over time).  Another important consideration is that most classical models are linear, which means they assume linearity in the dependencies between values at the same time and between values at different time steps. \n",
        "\n",
        "In the case, that this condition is not met, we'd have to preprocess our time-series to enforce stationarity to apply this approach. \n",
        "\n",
        "Thus, classical models are usually applied as follows:\n",
        "\n",
        "* Test for stationarity\n",
        "* Differencing [if stationarity detected]\n",
        "* Fit method and forecast\n",
        "* Add back the trend and seasonality\n",
        "\n",
        "## Moving average and autoregression\n",
        "\n",
        "Classical models can be grouped into families of models – moving averages (MA), autoregressive (AR) models, ARMA, and ARIMA. \n",
        "\n",
        "* In a **moving average**, the average (usually, the arithmetic mean) of values is taken over a specific number of time points (time frame) in the past. The moving average can smooth the trend and cycle over the history of a time-series; however, as a model, the moving average can be used to forecast into the future as well.\n",
        "\n",
        "* An **autoregressive model (ARIMA)** regresses the variable on its own lagged values. In other words, the current value of the value is driven by immediately preceding values using a linear combination.\n",
        "\n",
        "  As a reminder, ARIMA is parametrized with parameters p, d, q, where:\n",
        "\n",
        "  * p is for the autoregressive model: AR(p)\n",
        "  * d is for the integration\n",
        "  * q is for the moving average: MA(q)\n",
        "\n",
        "The **statsmodel** library can help to estimate statistical models and perform statistical tests. It's built on SciPy and NumPy and has lots of statistical functions and models.\n",
        "\n",
        "#Example: Predicting Stock Prices\n",
        "\n",
        "We'll work with a stock ticker dataset from Yahoo finance that we'll download through the yfinance library. We'll first load the dataset, do some quick exploration, and then we'll build several models. We'll load a series of Standard & Poor's depositary receipts (SPDR S&P 500 ETF Trust).\n",
        "\n",
        "We have to indicate the date range and the ticker symbol. The daily prices come for Open, Close, and others. We'll work with the Open prices.\n",
        "\n"
      ],
      "metadata": {
        "id": "w4xmpm5HRzsR"
      }
    },
    {
      "cell_type": "code",
      "source": [
        "!pip install yfinance"
      ],
      "metadata": {
        "colab": {
          "base_uri": "https://localhost:8080/"
        },
        "id": "_vNrUPhTg7Km",
        "outputId": "cb6a93ce-55f5-4240-bf22-b2dc93efb14c"
      },
      "execution_count": 98,
      "outputs": [
        {
          "output_type": "stream",
          "name": "stdout",
          "text": [
            "Looking in indexes: https://pypi.org/simple, https://us-python.pkg.dev/colab-wheels/public/simple/\n",
            "Requirement already satisfied: yfinance in /usr/local/lib/python3.8/dist-packages (0.2.12)\n",
            "Requirement already satisfied: frozendict>=2.3.4 in /usr/local/lib/python3.8/dist-packages (from yfinance) (2.3.5)\n",
            "Requirement already satisfied: requests>=2.26 in /usr/local/lib/python3.8/dist-packages (from yfinance) (2.28.2)\n",
            "Requirement already satisfied: appdirs>=1.4.4 in /usr/local/lib/python3.8/dist-packages (from yfinance) (1.4.4)\n",
            "Requirement already satisfied: numpy>=1.16.5 in /usr/local/lib/python3.8/dist-packages (from yfinance) (1.22.4)\n",
            "Requirement already satisfied: beautifulsoup4>=4.11.1 in /usr/local/lib/python3.8/dist-packages (from yfinance) (4.11.2)\n",
            "Requirement already satisfied: multitasking>=0.0.7 in /usr/local/lib/python3.8/dist-packages (from yfinance) (0.0.11)\n",
            "Requirement already satisfied: lxml>=4.9.1 in /usr/local/lib/python3.8/dist-packages (from yfinance) (4.9.2)\n",
            "Requirement already satisfied: html5lib>=1.1 in /usr/local/lib/python3.8/dist-packages (from yfinance) (1.1)\n",
            "Requirement already satisfied: pytz>=2022.5 in /usr/local/lib/python3.8/dist-packages (from yfinance) (2022.7.1)\n",
            "Requirement already satisfied: pandas>=1.3.0 in /usr/local/lib/python3.8/dist-packages (from yfinance) (1.3.5)\n",
            "Requirement already satisfied: cryptography>=3.3.2 in /usr/local/lib/python3.8/dist-packages (from yfinance) (39.0.2)\n",
            "Requirement already satisfied: soupsieve>1.2 in /usr/local/lib/python3.8/dist-packages (from beautifulsoup4>=4.11.1->yfinance) (2.4)\n",
            "Requirement already satisfied: cffi>=1.12 in /usr/local/lib/python3.8/dist-packages (from cryptography>=3.3.2->yfinance) (1.15.1)\n",
            "Requirement already satisfied: six>=1.9 in /usr/local/lib/python3.8/dist-packages (from html5lib>=1.1->yfinance) (1.15.0)\n",
            "Requirement already satisfied: webencodings in /usr/local/lib/python3.8/dist-packages (from html5lib>=1.1->yfinance) (0.5.1)\n",
            "Requirement already satisfied: python-dateutil>=2.7.3 in /usr/local/lib/python3.8/dist-packages (from pandas>=1.3.0->yfinance) (2.8.2)\n",
            "Requirement already satisfied: idna<4,>=2.5 in /usr/local/lib/python3.8/dist-packages (from requests>=2.26->yfinance) (2.10)\n",
            "Requirement already satisfied: charset-normalizer<4,>=2 in /usr/local/lib/python3.8/dist-packages (from requests>=2.26->yfinance) (3.0.1)\n",
            "Requirement already satisfied: urllib3<1.27,>=1.21.1 in /usr/local/lib/python3.8/dist-packages (from requests>=2.26->yfinance) (1.26.14)\n",
            "Requirement already satisfied: certifi>=2017.4.17 in /usr/local/lib/python3.8/dist-packages (from requests>=2.26->yfinance) (2022.12.7)\n",
            "Requirement already satisfied: pycparser in /usr/local/lib/python3.8/dist-packages (from cffi>=1.12->cryptography>=3.3.2->yfinance) (2.21)\n"
          ]
        }
      ]
    },
    {
      "cell_type": "code",
      "source": [
        "import statsmodels.api as sm\n",
        "from datetime import datetime\n",
        "import yfinance as yf\n",
        "  \n",
        "start_date = datetime(2005, 1, 1)\n",
        "end_date = datetime(2021, 1, 1)\n",
        "df = yf.download( 'SPY',\n",
        "    start=start_date,\n",
        "    end = end_date\n",
        ")"
      ],
      "metadata": {
        "colab": {
          "base_uri": "https://localhost:8080/"
        },
        "id": "ZpZVqEHegPwf",
        "outputId": "7038d8ae-2d30-4794-e9e7-c2c398eb2622"
      },
      "execution_count": 99,
      "outputs": [
        {
          "output_type": "stream",
          "name": "stdout",
          "text": [
            "\r[*********************100%***********************]  1 of 1 completed\n"
          ]
        }
      ]
    },
    {
      "cell_type": "markdown",
      "source": [
        "It's always a good idea to visualize your data! Let's take a look."
      ],
      "metadata": {
        "id": "h3226mgbhFps"
      }
    },
    {
      "cell_type": "code",
      "source": [
        "import matplotlib.pyplot as plt\n",
        "plt.title('Opening Prices between {} and {}'.format(\n",
        "    start_date.date().isoformat(),\n",
        "    end_date.date().isoformat()\n",
        "))\n",
        "df['Open'].plot()\n",
        "plt.ylabel('Price')\n",
        "plt.xlabel('Date');"
      ],
      "metadata": {
        "colab": {
          "base_uri": "https://localhost:8080/",
          "height": 285
        },
        "id": "JgbxOVZ9hPxF",
        "outputId": "d3d706a2-f9c4-4c85-ba18-980fff5024dc"
      },
      "execution_count": 100,
      "outputs": [
        {
          "output_type": "display_data",
          "data": {
            "text/plain": [
              "<Figure size 432x288 with 1 Axes>"
            ],
            "image/png": "[encoded data removed]"
          },
          "metadata": {
            "needs_background": "light"
          }
        }
      ]
    },
    {
      "cell_type": "markdown",
      "source": [
        "Since this is daily data, and there are either 253 or 252 working days in the year, I've decided to resample the data to weekly data and make each year consistent. Some years have 53 weeks. We can't handle that, so we'll get rid of the 53rd week. We now have weekly data over 52 weeks across 16 years."
      ],
      "metadata": {
        "id": "CYpel68khWOZ"
      }
    },
    {
      "cell_type": "code",
      "source": [
        "df1 = df.reset_index().resample('W', on=\"Date\")['Open'].mean()\n",
        "df1 = df1[df1.index.week < 53]\n",
        "display(df1.head())\n",
        "\n",
        "plt.title('Opening Prices between {} and {}'.format(\n",
        "    start_date.date().isoformat(),\n",
        "    end_date.date().isoformat()\n",
        "))\n",
        "df1.plot()\n",
        "plt.ylabel('Price')\n",
        "plt.xlabel('Date');"
      ],
      "metadata": {
        "colab": {
          "base_uri": "https://localhost:8080/",
          "height": 467
        },
        "id": "-h7GUjTljjC5",
        "outputId": "92e7fdae-b044-4121-b607-a8f2ba284fc7"
      },
      "execution_count": 101,
      "outputs": [
        {
          "output_type": "stream",
          "name": "stderr",
          "text": [
            "<ipython-input-101-28e13d5efc98>:2: FutureWarning: weekofyear and week have been deprecated, please use DatetimeIndex.isocalendar().week instead, which returns a Series.  To exactly reproduce the behavior of week and weekofyear and return an Index, you may call pd.Int64Index(idx.isocalendar().week)\n",
            "  df1 = df1[df1.index.week < 53]\n"
          ]
        },
        {
          "output_type": "display_data",
          "data": {
            "text/plain": [
              "Date\n",
              "2005-01-09    119.634000\n",
              "2005-01-16    118.398000\n",
              "2005-01-23    118.290001\n",
              "2005-01-30    117.200000\n",
              "2005-02-06    118.663998\n",
              "Name: Open, dtype: float64"
            ]
          },
          "metadata": {}
        },
        {
          "output_type": "display_data",
          "data": {
            "text/plain": [
              "<Figure size 432x288 with 1 Axes>"
            ],
            "image/png": "[encoded data removed]"
          },
          "metadata": {
            "needs_background": "light"
          }
        }
      ]
    },
    {
      "cell_type": "markdown",
      "source": [
        "One final fix: statsmodels can use the frequency information associated with the DateTimeIndex; however, this is often not set and df1.index.freq is None. So, we'll set it ourselves:"
      ],
      "metadata": {
        "id": "YVivwGo5ih8h"
      }
    },
    {
      "cell_type": "code",
      "source": [
        "# To set the frequency to weekly we must fill any missing values (we'll use the foward fill method)\n",
        "df1 = df1.asfreq('W').fillna(method='ffill')\n",
        "\n",
        "# Check if we have effectively made our frequency into weekly.\n",
        "print(df1.index.freq)"
      ],
      "metadata": {
        "colab": {
          "base_uri": "https://localhost:8080/"
        },
        "id": "atEFyc_PihTv",
        "outputId": "7d6e40b4-019d-471f-a728-70a9a36649de"
      },
      "execution_count": 102,
      "outputs": [
        {
          "output_type": "stream",
          "name": "stdout",
          "text": [
            "<Week: weekday=6>\n"
          ]
        }
      ]
    },
    {
      "cell_type": "markdown",
      "source": [
        "Now we need to get some idea of reasonable ranges for the order of the model. We'll look at the autocorrelation and partial autocorrelation functions for this:"
      ],
      "metadata": {
        "id": "9TOimkfJjBzP"
      }
    },
    {
      "cell_type": "code",
      "source": [
        "fig, axs = plt.subplots(2)\n",
        "sm.graphics.tsa.plot_pacf(df1,method='ywm', lags=10, ax=axs[0])\n",
        "sm.graphics.tsa.plot_acf(df1, lags=10, ax=axs[1])\n",
        "plt.show()"
      ],
      "metadata": {
        "colab": {
          "base_uri": "https://localhost:8080/",
          "height": 281
        },
        "id": "TX39I92CjBVj",
        "outputId": "a1c20fc7-f2f5-4558-d69a-d8260ab8fa87"
      },
      "execution_count": 115,
      "outputs": [
        {
          "output_type": "display_data",
          "data": {
            "text/plain": [
              "<Figure size 432x288 with 2 Axes>"
            ],
            "image/png": "[encoded data removed]"
          },
          "metadata": {
            "needs_background": "light"
          }
        }
      ]
    },
    {
      "cell_type": "markdown",
      "source": [
        "These graphs show the correlation of the time-series with itself at lags of up to 20 time steps. \n",
        "\n",
        "* R or  values close to 0 mean that consecutive observations at the lags are not correlated with one another. \n",
        "* Inversely, correlations close to 1 or -1 indicate that there exists a strong positive or negative correlation between these observations at the lags.\n",
        "\n",
        "\n",
        "We can see that the partial autocorrelation with lag 1 is very high and much lower for higher lags. The autocorrelation is significant and high for all lags, but the significance drops as the lag increases.\n",
        "\n",
        "We can't use an autoregressive model straight off because it needs the time-series to be stationary, which means the mean and variance is constant over time – no seasonality, no trend.\n",
        "\n",
        "We can use statsmodels utilities to look at seasonality and trend from the time-series:"
      ],
      "metadata": {
        "id": "zCI1tSf4j183"
      }
    },
    {
      "cell_type": "code",
      "source": [
        "from statsmodels.tsa.seasonal import seasonal_decompose\n",
        "result = seasonal_decompose(df1, model='additive', period=52)\n",
        "result.plot()\n",
        "plt.show()"
      ],
      "metadata": {
        "colab": {
          "base_uri": "https://localhost:8080/",
          "height": 297
        },
        "id": "NysrlkY7j1Ot",
        "outputId": "4b6d1260-275f-4acd-88c6-9f4d239bad75"
      },
      "execution_count": 117,
      "outputs": [
        {
          "output_type": "display_data",
          "data": {
            "text/plain": [
              "<Figure size 432x288 with 4 Axes>"
            ],
            "image/png": "[encoded data removed]"
          },
          "metadata": {
            "needs_background": "light"
          }
        }
      ]
    },
    {
      "cell_type": "markdown",
      "source": [
        "As discussed, we need a stationary series for modeling. To establish stationarity, we need to remove the seasonal and trend components. We could also take off the seasonal or trend components that we estimated just before. Alternatively, we can use wrapper functionality in statsmodels or set the d parameter in ARIMA.\n",
        "\n",
        "We can use the Augmented Dickey-Fuller and KPSS tests to check for stationarity:"
      ],
      "metadata": {
        "id": "8tsS-DufkeKr"
      }
    },
    {
      "cell_type": "code",
      "source": [
        "from statsmodels.tsa.stattools import adfuller as ADF\n",
        "# To determine the amount of differencing needed, here d = 1.\n",
        "print(ADF(df1))\n",
        "\n",
        "mod = sm.tsa.arima.ARIMA(endog=df1, order=(1, 1, 0))\n",
        "res = mod.fit()\n",
        "print(res.summary())"
      ],
      "metadata": {
        "colab": {
          "base_uri": "https://localhost:8080/"
        },
        "id": "9QmKpyktkdH5",
        "outputId": "33cb5bd2-7417-48a9-c5b8-bca491a8ca9c"
      },
      "execution_count": 105,
      "outputs": [
        {
          "output_type": "stream",
          "name": "stdout",
          "text": [
            "(1.3246990005971708, 0.9967437094273013, 9, 824, {'1%': -3.438310908190086, '5%': -2.8650539530590673, '10%': -2.5686411274036196}, 4325.685952218077)\n",
            "                               SARIMAX Results                                \n",
            "==============================================================================\n",
            "Dep. Variable:                   Open   No. Observations:                  834\n",
            "Model:                 ARIMA(1, 1, 0)   Log Likelihood               -2211.813\n",
            "Date:                Wed, 08 Mar 2023   AIC                           4427.626\n",
            "Time:                        14:22:11   BIC                           4437.076\n",
            "Sample:                    01-09-2005   HQIC                          4431.249\n",
            "                         - 12-27-2020                                         \n",
            "Covariance Type:                  opg                                         \n",
            "==============================================================================\n",
            "                 coef    std err          z      P>|z|      [0.025      0.975]\n",
            "------------------------------------------------------------------------------\n",
            "ar.L1          0.3018      0.014     21.473      0.000       0.274       0.329\n",
            "sigma2        11.8518      0.229     51.809      0.000      11.403      12.300\n",
            "===================================================================================\n",
            "Ljung-Box (L1) (Q):                   0.20   Jarque-Bera (JB):              6624.96\n",
            "Prob(Q):                              0.66   Prob(JB):                         0.00\n",
            "Heteroskedasticity (H):               4.74   Skew:                            -1.73\n",
            "Prob(H) (two-sided):                  0.00   Kurtosis:                        16.38\n",
            "===================================================================================\n",
            "\n",
            "Warnings:\n",
            "[1] Covariance matrix calculated using the outer product of gradients (complex-step).\n"
          ]
        }
      ]
    },
    {
      "cell_type": "markdown",
      "source": [
        "This result summary gives all the key statistics. We see that the model was ARIMA(1, 1, 0). The [log-likelihood](https://www.statology.org/interpret-log-likelihood/) was -1965. We also see the [Bayesian Information Criterion](https://www.statology.org/bic-in-python/) and [Akaike Information Criterion](https://www.statology.org/aic-in-python/) values that we can use for model selection if we want.\n",
        "\n",
        "### How can we use this model? Let's forecast the open price for 1 steps!\n",
        "\n",
        "We will forecast 5 steps into the future and visualize our results. "
      ],
      "metadata": {
        "id": "yyGgDsX9lopc"
      }
    },
    {
      "cell_type": "code",
      "source": [
        "STEPS = 1\n",
        "forecasts_df = res.get_forecast(steps=STEPS).summary_frame() \n",
        "display(forecasts_df)"
      ],
      "metadata": {
        "colab": {
          "base_uri": "https://localhost:8080/",
          "height": 80
        },
        "id": "NZXKAXc9lP3L",
        "outputId": "53042e16-e7bc-48cd-eacb-7c624d8e38db"
      },
      "execution_count": 106,
      "outputs": [
        {
          "output_type": "display_data",
          "data": {
            "text/plain": [
              "Open              mean   mean_se  mean_ci_lower  mean_ci_upper\n",
              "2021-01-03  366.670056  3.442646     359.922593     373.417519"
            ],
            "text/html": [
              "\n",
              "  <div id=\"df-5859cb6d-45e3-4b3e-809f-13716dcc7615\">\n",
              "    <div class=\"colab-df-container\">\n",
              "      <div>\n",
              "<style scoped>\n",
              "    .dataframe tbody tr th:only-of-type {\n",
              "        vertical-align: middle;\n",
              "    }\n",
              "\n",
              "    .dataframe tbody tr th {\n",
              "        vertical-align: top;\n",
              "    }\n",
              "\n",
              "    .dataframe thead th {\n",
              "        text-align: right;\n",
              "    }\n",
              "</style>\n",
              "<table border=\"1\" class=\"dataframe\">\n",
              "  <thead>\n",
              "    <tr style=\"text-align: right;\">\n",
              "      <th>Open</th>\n",
              "      <th>mean</th>\n",
              "      <th>mean_se</th>\n",
              "      <th>mean_ci_lower</th>\n",
              "      <th>mean_ci_upper</th>\n",
              "    </tr>\n",
              "  </thead>\n",
              "  <tbody>\n",
              "    <tr>\n",
              "      <th>2021-01-03</th>\n",
              "      <td>366.670056</td>\n",
              "      <td>3.442646</td>\n",
              "      <td>359.922593</td>\n",
              "      <td>373.417519</td>\n",
              "    </tr>\n",
              "  </tbody>\n",
              "</table>\n",
              "</div>\n",
              "      <button class=\"colab-df-convert\" onclick=\"convertToInteractive('df-5859cb6d-45e3-4b3e-809f-13716dcc7615')\"\n",
              "              title=\"Convert this dataframe to an interactive table.\"\n",
              "              style=\"display:none;\">\n",
              "        \n",
              "  <svg xmlns=\"http://www.w3.org/2000/svg\" height=\"24px\"viewBox=\"0 0 24 24\"\n",
              "       width=\"24px\">\n",
              "    <path d=\"M0 0h24v24H0V0z\" fill=\"none\"/>\n",
              "    <path d=\"M18.56 5.44l.94 2.06.94-2.06 2.06-.94-2.06-.94-.94-2.06-.94 2.06-2.06.94zm-11 1L8.5 8.5l.94-2.06 2.06-.94-2.06-.94L8.5 2.5l-.94 2.06-2.06.94zm10 10l.94 2.06.94-2.06 2.06-.94-2.06-.94-.94-2.06-.94 2.06-2.06.94z\"/><path d=\"M17.41 7.96l-1.37-1.37c-.4-.4-.92-.59-1.43-.59-.52 0-1.04.2-1.43.59L10.3 9.45l-7.72 7.72c-.78.78-.78 2.05 0 2.83L4 21.41c.39.39.9.59 1.41.59.51 0 1.02-.2 1.41-.59l7.78-7.78 2.81-2.81c.8-.78.8-2.07 0-2.86zM5.41 20L4 18.59l7.72-7.72 1.47 1.35L5.41 20z\"/>\n",
              "  </svg>\n",
              "      </button>\n",
              "      \n",
              "  <style>\n",
              "    .colab-df-container {\n",
              "      display:flex;\n",
              "      flex-wrap:wrap;\n",
              "      gap: 12px;\n",
              "    }\n",
              "\n",
              "    .colab-df-convert {\n",
              "      background-color: #E8F0FE;\n",
              "      border: none;\n",
              "      border-radius: 50%;\n",
              "      cursor: pointer;\n",
              "      display: none;\n",
              "      fill: #1967D2;\n",
              "      height: 32px;\n",
              "      padding: 0 0 0 0;\n",
              "      width: 32px;\n",
              "    }\n",
              "\n",
              "    .colab-df-convert:hover {\n",
              "      background-color: #E2EBFA;\n",
              "      box-shadow: 0px 1px 2px rgba(60, 64, 67, 0.3), 0px 1px 3px 1px rgba(60, 64, 67, 0.15);\n",
              "      fill: #174EA6;\n",
              "    }\n",
              "\n",
              "    [theme=dark] .colab-df-convert {\n",
              "      background-color: #3B4455;\n",
              "      fill: #D2E3FC;\n",
              "    }\n",
              "\n",
              "    [theme=dark] .colab-df-convert:hover {\n",
              "      background-color: #434B5C;\n",
              "      box-shadow: 0px 1px 3px 1px rgba(0, 0, 0, 0.15);\n",
              "      filter: drop-shadow(0px 1px 2px rgba(0, 0, 0, 0.3));\n",
              "      fill: #FFFFFF;\n",
              "    }\n",
              "  </style>\n",
              "\n",
              "      <script>\n",
              "        const buttonEl =\n",
              "          document.querySelector('#df-5859cb6d-45e3-4b3e-809f-13716dcc7615 button.colab-df-convert');\n",
              "        buttonEl.style.display =\n",
              "          google.colab.kernel.accessAllowed ? 'block' : 'none';\n",
              "\n",
              "        async function convertToInteractive(key) {\n",
              "          const element = document.querySelector('#df-5859cb6d-45e3-4b3e-809f-13716dcc7615');\n",
              "          const dataTable =\n",
              "            await google.colab.kernel.invokeFunction('convertToInteractive',\n",
              "                                                     [key], {});\n",
              "          if (!dataTable) return;\n",
              "\n",
              "          const docLinkHtml = 'Like what you see? Visit the ' +\n",
              "            '<a target=\"_blank\" href=https://colab.research.google.com/notebooks/data_table.ipynb>data table notebook</a>'\n",
              "            + ' to learn more about interactive tables.';\n",
              "          element.innerHTML = '';\n",
              "          dataTable['output_type'] = 'display_data';\n",
              "          await google.colab.output.renderOutput(dataTable, element);\n",
              "          const docLink = document.createElement('div');\n",
              "          docLink.innerHTML = docLinkHtml;\n",
              "          element.appendChild(docLink);\n",
              "        }\n",
              "      </script>\n",
              "    </div>\n",
              "  </div>\n",
              "  "
            ]
          },
          "metadata": {}
        }
      ]
    },
    {
      "cell_type": "markdown",
      "source": [
        "Not bad, try with different parameters. Interesting ones to change are the trend parameter and the order of the model and see how this affects your model. "
      ],
      "metadata": {
        "id": "07w17z6_mrEG"
      }
    },
    {
      "cell_type": "markdown",
      "source": [
        "## ML Approach\n",
        "\n",
        "Time series forecasting is also an important area of machine learning (ML) and can be cast as a supervised learning problem. ML methods such as Regression, Neural Networks, Support Vector Machines, Random Forests and XGBoost — can be applied to it. \n",
        "\n",
        "Different than the statistical methods previously discussed, \n",
        "before machine learning can be used, time series forecasting problems must be [re-framed as supervised learning problems]((https://machinelearningmastery.com/convert-time-series-supervised-learning-problem-python/). \n",
        "\n",
        "We do so by creating features that capture the behaviour of the timeseries at previous 'time points' (i.e. adding lagged columns). \n",
        "\n",
        "Let's use the same dataset as before! Thankfully, we already explored the data a bit. We first need to featurize the data. Here, we'll do this by extracting date features.\n",
        "\n",
        "You can do it manually or using transformers and creating a pipeline! Let's remind ourself how our data looks like!\n",
        "\n",
        "\n",
        "\n"
      ],
      "metadata": {
        "id": "20c3B9ztOzua"
      }
    },
    {
      "cell_type": "code",
      "source": [
        "import pandas as pd\n",
        "open_df = pd.DataFrame(df1)\n",
        "display(open_df.head())"
      ],
      "metadata": {
        "colab": {
          "base_uri": "https://localhost:8080/",
          "height": 237
        },
        "id": "xdA5VztJpGHy",
        "outputId": "bedfd950-3d1d-4179-f173-ae782096e5e2"
      },
      "execution_count": 127,
      "outputs": [
        {
          "output_type": "display_data",
          "data": {
            "text/plain": [
              "                  Open\n",
              "Date                  \n",
              "2005-01-09  119.634000\n",
              "2005-01-16  118.398000\n",
              "2005-01-23  118.290001\n",
              "2005-01-30  117.200000\n",
              "2005-02-06  118.663998"
            ],
            "text/html": [
              "\n",
              "  <div id=\"df-e0ffa0a3-c274-4390-9e07-94ea9c919b4b\">\n",
              "    <div class=\"colab-df-container\">\n",
              "      <div>\n",
              "<style scoped>\n",
              "    .dataframe tbody tr th:only-of-type {\n",
              "        vertical-align: middle;\n",
              "    }\n",
              "\n",
              "    .dataframe tbody tr th {\n",
              "        vertical-align: top;\n",
              "    }\n",
              "\n",
              "    .dataframe thead th {\n",
              "        text-align: right;\n",
              "    }\n",
              "</style>\n",
              "<table border=\"1\" class=\"dataframe\">\n",
              "  <thead>\n",
              "    <tr style=\"text-align: right;\">\n",
              "      <th></th>\n",
              "      <th>Open</th>\n",
              "    </tr>\n",
              "    <tr>\n",
              "      <th>Date</th>\n",
              "      <th></th>\n",
              "    </tr>\n",
              "  </thead>\n",
              "  <tbody>\n",
              "    <tr>\n",
              "      <th>2005-01-09</th>\n",
              "      <td>119.634000</td>\n",
              "    </tr>\n",
              "    <tr>\n",
              "      <th>2005-01-16</th>\n",
              "      <td>118.398000</td>\n",
              "    </tr>\n",
              "    <tr>\n",
              "      <th>2005-01-23</th>\n",
              "      <td>118.290001</td>\n",
              "    </tr>\n",
              "    <tr>\n",
              "      <th>2005-01-30</th>\n",
              "      <td>117.200000</td>\n",
              "    </tr>\n",
              "    <tr>\n",
              "      <th>2005-02-06</th>\n",
              "      <td>118.663998</td>\n",
              "    </tr>\n",
              "  </tbody>\n",
              "</table>\n",
              "</div>\n",
              "      <button class=\"colab-df-convert\" onclick=\"convertToInteractive('df-e0ffa0a3-c274-4390-9e07-94ea9c919b4b')\"\n",
              "              title=\"Convert this dataframe to an interactive table.\"\n",
              "              style=\"display:none;\">\n",
              "        \n",
              "  <svg xmlns=\"http://www.w3.org/2000/svg\" height=\"24px\"viewBox=\"0 0 24 24\"\n",
              "       width=\"24px\">\n",
              "    <path d=\"M0 0h24v24H0V0z\" fill=\"none\"/>\n",
              "    <path d=\"M18.56 5.44l.94 2.06.94-2.06 2.06-.94-2.06-.94-.94-2.06-.94 2.06-2.06.94zm-11 1L8.5 8.5l.94-2.06 2.06-.94-2.06-.94L8.5 2.5l-.94 2.06-2.06.94zm10 10l.94 2.06.94-2.06 2.06-.94-2.06-.94-.94-2.06-.94 2.06-2.06.94z\"/><path d=\"M17.41 7.96l-1.37-1.37c-.4-.4-.92-.59-1.43-.59-.52 0-1.04.2-1.43.59L10.3 9.45l-7.72 7.72c-.78.78-.78 2.05 0 2.83L4 21.41c.39.39.9.59 1.41.59.51 0 1.02-.2 1.41-.59l7.78-7.78 2.81-2.81c.8-.78.8-2.07 0-2.86zM5.41 20L4 18.59l7.72-7.72 1.47 1.35L5.41 20z\"/>\n",
              "  </svg>\n",
              "      </button>\n",
              "      \n",
              "  <style>\n",
              "    .colab-df-container {\n",
              "      display:flex;\n",
              "      flex-wrap:wrap;\n",
              "      gap: 12px;\n",
              "    }\n",
              "\n",
              "    .colab-df-convert {\n",
              "      background-color: #E8F0FE;\n",
              "      border: none;\n",
              "      border-radius: 50%;\n",
              "      cursor: pointer;\n",
              "      display: none;\n",
              "      fill: #1967D2;\n",
              "      height: 32px;\n",
              "      padding: 0 0 0 0;\n",
              "      width: 32px;\n",
              "    }\n",
              "\n",
              "    .colab-df-convert:hover {\n",
              "      background-color: #E2EBFA;\n",
              "      box-shadow: 0px 1px 2px rgba(60, 64, 67, 0.3), 0px 1px 3px 1px rgba(60, 64, 67, 0.15);\n",
              "      fill: #174EA6;\n",
              "    }\n",
              "\n",
              "    [theme=dark] .colab-df-convert {\n",
              "      background-color: #3B4455;\n",
              "      fill: #D2E3FC;\n",
              "    }\n",
              "\n",
              "    [theme=dark] .colab-df-convert:hover {\n",
              "      background-color: #434B5C;\n",
              "      box-shadow: 0px 1px 3px 1px rgba(0, 0, 0, 0.15);\n",
              "      filter: drop-shadow(0px 1px 2px rgba(0, 0, 0, 0.3));\n",
              "      fill: #FFFFFF;\n",
              "    }\n",
              "  </style>\n",
              "\n",
              "      <script>\n",
              "        const buttonEl =\n",
              "          document.querySelector('#df-e0ffa0a3-c274-4390-9e07-94ea9c919b4b button.colab-df-convert');\n",
              "        buttonEl.style.display =\n",
              "          google.colab.kernel.accessAllowed ? 'block' : 'none';\n",
              "\n",
              "        async function convertToInteractive(key) {\n",
              "          const element = document.querySelector('#df-e0ffa0a3-c274-4390-9e07-94ea9c919b4b');\n",
              "          const dataTable =\n",
              "            await google.colab.kernel.invokeFunction('convertToInteractive',\n",
              "                                                     [key], {});\n",
              "          if (!dataTable) return;\n",
              "\n",
              "          const docLinkHtml = 'Like what you see? Visit the ' +\n",
              "            '<a target=\"_blank\" href=https://colab.research.google.com/notebooks/data_table.ipynb>data table notebook</a>'\n",
              "            + ' to learn more about interactive tables.';\n",
              "          element.innerHTML = '';\n",
              "          dataTable['output_type'] = 'display_data';\n",
              "          await google.colab.output.renderOutput(dataTable, element);\n",
              "          const docLink = document.createElement('div');\n",
              "          docLink.innerHTML = docLinkHtml;\n",
              "          element.appendChild(docLink);\n",
              "        }\n",
              "      </script>\n",
              "    </div>\n",
              "  </div>\n",
              "  "
            ]
          },
          "metadata": {}
        }
      ]
    },
    {
      "cell_type": "markdown",
      "source": [
        "In time series forecasting terminology the current time (t) and future times (t+1, t+n) are forecast times and past observations (t-1, t-n) are used to make forecasts.\n",
        "\n",
        "From our partial autocorrelation plot, we noticed that a lag of 1 relevant for our data. Let's create a `t-1` feature!\n",
        "\n"
      ],
      "metadata": {
        "id": "XnI9mjjWrqoc"
      }
    },
    {
      "cell_type": "code",
      "source": [
        "open_df['t-1'] = open_df['Open'].shift(1) #Note here that t-1 is one week before!\n",
        "open_df.dropna(inplace=True)\n",
        "display(open_df.head())"
      ],
      "metadata": {
        "id": "HpVHAjQFoMve",
        "colab": {
          "base_uri": "https://localhost:8080/",
          "height": 237
        },
        "outputId": "6a3d75cc-cecc-431d-ba91-b87b0cc9f8a9"
      },
      "execution_count": 128,
      "outputs": [
        {
          "output_type": "display_data",
          "data": {
            "text/plain": [
              "                  Open         t-1\n",
              "Date                              \n",
              "2005-01-16  118.398000  119.634000\n",
              "2005-01-23  118.290001  118.398000\n",
              "2005-01-30  117.200000  118.290001\n",
              "2005-02-06  118.663998  117.200000\n",
              "2005-02-13  120.039999  118.663998"
            ],
            "text/html": [
              "\n",
              "  <div id=\"df-771013a1-0fe5-4ce3-8a47-9698004cd4a4\">\n",
              "    <div class=\"colab-df-container\">\n",
              "      <div>\n",
              "<style scoped>\n",
              "    .dataframe tbody tr th:only-of-type {\n",
              "        vertical-align: middle;\n",
              "    }\n",
              "\n",
              "    .dataframe tbody tr th {\n",
              "        vertical-align: top;\n",
              "    }\n",
              "\n",
              "    .dataframe thead th {\n",
              "        text-align: right;\n",
              "    }\n",
              "</style>\n",
              "<table border=\"1\" class=\"dataframe\">\n",
              "  <thead>\n",
              "    <tr style=\"text-align: right;\">\n",
              "      <th></th>\n",
              "      <th>Open</th>\n",
              "      <th>t-1</th>\n",
              "    </tr>\n",
              "    <tr>\n",
              "      <th>Date</th>\n",
              "      <th></th>\n",
              "      <th></th>\n",
              "    </tr>\n",
              "  </thead>\n",
              "  <tbody>\n",
              "    <tr>\n",
              "      <th>2005-01-16</th>\n",
              "      <td>118.398000</td>\n",
              "      <td>119.634000</td>\n",
              "    </tr>\n",
              "    <tr>\n",
              "      <th>2005-01-23</th>\n",
              "      <td>118.290001</td>\n",
              "      <td>118.398000</td>\n",
              "    </tr>\n",
              "    <tr>\n",
              "      <th>2005-01-30</th>\n",
              "      <td>117.200000</td>\n",
              "      <td>118.290001</td>\n",
              "    </tr>\n",
              "    <tr>\n",
              "      <th>2005-02-06</th>\n",
              "      <td>118.663998</td>\n",
              "      <td>117.200000</td>\n",
              "    </tr>\n",
              "    <tr>\n",
              "      <th>2005-02-13</th>\n",
              "      <td>120.039999</td>\n",
              "      <td>118.663998</td>\n",
              "    </tr>\n",
              "  </tbody>\n",
              "</table>\n",
              "</div>\n",
              "      <button class=\"colab-df-convert\" onclick=\"convertToInteractive('df-771013a1-0fe5-4ce3-8a47-9698004cd4a4')\"\n",
              "              title=\"Convert this dataframe to an interactive table.\"\n",
              "              style=\"display:none;\">\n",
              "        \n",
              "  <svg xmlns=\"http://www.w3.org/2000/svg\" height=\"24px\"viewBox=\"0 0 24 24\"\n",
              "       width=\"24px\">\n",
              "    <path d=\"M0 0h24v24H0V0z\" fill=\"none\"/>\n",
              "    <path d=\"M18.56 5.44l.94 2.06.94-2.06 2.06-.94-2.06-.94-.94-2.06-.94 2.06-2.06.94zm-11 1L8.5 8.5l.94-2.06 2.06-.94-2.06-.94L8.5 2.5l-.94 2.06-2.06.94zm10 10l.94 2.06.94-2.06 2.06-.94-2.06-.94-.94-2.06-.94 2.06-2.06.94z\"/><path d=\"M17.41 7.96l-1.37-1.37c-.4-.4-.92-.59-1.43-.59-.52 0-1.04.2-1.43.59L10.3 9.45l-7.72 7.72c-.78.78-.78 2.05 0 2.83L4 21.41c.39.39.9.59 1.41.59.51 0 1.02-.2 1.41-.59l7.78-7.78 2.81-2.81c.8-.78.8-2.07 0-2.86zM5.41 20L4 18.59l7.72-7.72 1.47 1.35L5.41 20z\"/>\n",
              "  </svg>\n",
              "      </button>\n",
              "      \n",
              "  <style>\n",
              "    .colab-df-container {\n",
              "      display:flex;\n",
              "      flex-wrap:wrap;\n",
              "      gap: 12px;\n",
              "    }\n",
              "\n",
              "    .colab-df-convert {\n",
              "      background-color: #E8F0FE;\n",
              "      border: none;\n",
              "      border-radius: 50%;\n",
              "      cursor: pointer;\n",
              "      display: none;\n",
              "      fill: #1967D2;\n",
              "      height: 32px;\n",
              "      padding: 0 0 0 0;\n",
              "      width: 32px;\n",
              "    }\n",
              "\n",
              "    .colab-df-convert:hover {\n",
              "      background-color: #E2EBFA;\n",
              "      box-shadow: 0px 1px 2px rgba(60, 64, 67, 0.3), 0px 1px 3px 1px rgba(60, 64, 67, 0.15);\n",
              "      fill: #174EA6;\n",
              "    }\n",
              "\n",
              "    [theme=dark] .colab-df-convert {\n",
              "      background-color: #3B4455;\n",
              "      fill: #D2E3FC;\n",
              "    }\n",
              "\n",
              "    [theme=dark] .colab-df-convert:hover {\n",
              "      background-color: #434B5C;\n",
              "      box-shadow: 0px 1px 3px 1px rgba(0, 0, 0, 0.15);\n",
              "      filter: drop-shadow(0px 1px 2px rgba(0, 0, 0, 0.3));\n",
              "      fill: #FFFFFF;\n",
              "    }\n",
              "  </style>\n",
              "\n",
              "      <script>\n",
              "        const buttonEl =\n",
              "          document.querySelector('#df-771013a1-0fe5-4ce3-8a47-9698004cd4a4 button.colab-df-convert');\n",
              "        buttonEl.style.display =\n",
              "          google.colab.kernel.accessAllowed ? 'block' : 'none';\n",
              "\n",
              "        async function convertToInteractive(key) {\n",
              "          const element = document.querySelector('#df-771013a1-0fe5-4ce3-8a47-9698004cd4a4');\n",
              "          const dataTable =\n",
              "            await google.colab.kernel.invokeFunction('convertToInteractive',\n",
              "                                                     [key], {});\n",
              "          if (!dataTable) return;\n",
              "\n",
              "          const docLinkHtml = 'Like what you see? Visit the ' +\n",
              "            '<a target=\"_blank\" href=https://colab.research.google.com/notebooks/data_table.ipynb>data table notebook</a>'\n",
              "            + ' to learn more about interactive tables.';\n",
              "          element.innerHTML = '';\n",
              "          dataTable['output_type'] = 'display_data';\n",
              "          await google.colab.output.renderOutput(dataTable, element);\n",
              "          const docLink = document.createElement('div');\n",
              "          docLink.innerHTML = docLinkHtml;\n",
              "          element.appendChild(docLink);\n",
              "        }\n",
              "      </script>\n",
              "    </div>\n",
              "  </div>\n",
              "  "
            ]
          },
          "metadata": {}
        }
      ]
    },
    {
      "cell_type": "markdown",
      "source": [
        "Now it's time to split the dataset into training and test sets. This includes two issues:\n",
        "\n",
        "* We need to align the features with values ahead of time\n",
        "* We need to split the dataset into two by a cutoff time\n",
        "\n",
        "Let's first set the basic parameters for this. First, we want to predict into the future given a time horizon. Second, we need to decide how many data points we use for training and for testing.\n",
        "\n",
        "Something to note here is that the train-test-split for time-series data is special. Because you cannot change the order of the table, you have to ensure that you don't sample randomly as you want your test data to contain points that are in the future from the points in the train data (time always moves forward)."
      ],
      "metadata": {
        "id": "q966pUvEwyi7"
      }
    },
    {
      "cell_type": "code",
      "source": [
        "train_size= int(len(open_df) * 0.8)\n",
        "horizon = 1\n",
        "forecast = \"Open\"\n",
        "\n",
        "X_train, X_test = open_df.iloc[horizon:train_size], open_df.iloc[train_size+horizon:]\n",
        "y_train = open_df.shift(periods=horizon).iloc[horizon:train_size][forecast]\n",
        "y_test = open_df.shift(periods=horizon).iloc[train_size+horizon:][forecast]\n",
        "\n",
        "\n",
        "print(X_train.shape, X_test.shape)\n",
        "print(y_train.shape, y_test.shape)"
      ],
      "metadata": {
        "colab": {
          "base_uri": "https://localhost:8080/"
        },
        "id": "4o0cBATecn3j",
        "outputId": "28fdade4-a23f-40a8-c505-dcc4a6cb8f3e"
      },
      "execution_count": 129,
      "outputs": [
        {
          "output_type": "stream",
          "name": "stdout",
          "text": [
            "(665, 2) (166, 2)\n",
            "(665,) (166,)\n"
          ]
        }
      ]
    },
    {
      "cell_type": "code",
      "source": [
        "from xgboost import XGBRegressor\n",
        "\n",
        "xgb = XGBRegressor(objective='reg:squarederror', n_estimators=1000)\n",
        "xgb.fit(X_train, y_train)"
      ],
      "metadata": {
        "colab": {
          "base_uri": "https://localhost:8080/",
          "height": 247
        },
        "id": "1X6ntyQMy1_t",
        "outputId": "4fa738a9-db41-4282-cd48-f3344aeae845"
      },
      "execution_count": 130,
      "outputs": [
        {
          "output_type": "execute_result",
          "data": {
            "text/plain": [
              "XGBRegressor(base_score=None, booster=None, callbacks=None,\n",
              "             colsample_bylevel=None, colsample_bynode=None,\n",
              "             colsample_bytree=None, early_stopping_rounds=None,\n",
              "             enable_categorical=False, eval_metric=None, feature_types=None,\n",
              "             gamma=None, gpu_id=None, grow_policy=None, importance_type=None,\n",
              "             interaction_constraints=None, learning_rate=None, max_bin=None,\n",
              "             max_cat_threshold=None, max_cat_to_onehot=None,\n",
              "             max_delta_step=None, max_depth=None, max_leaves=None,\n",
              "             min_child_weight=None, missing=nan, monotone_constraints=None,\n",
              "             n_estimators=1000, n_jobs=None, num_parallel_tree=None,\n",
              "             predictor=None, random_state=None, ...)"
            ],
            "text/html": [
              "<style>#sk-container-id-8 {color: black;background-color: white;}#sk-container-id-8 pre{padding: 0;}#sk-container-id-8 div.sk-toggleable {background-color: white;}#sk-container-id-8 label.sk-toggleable__label {cursor: pointer;display: block;width: 100%;margin-bottom: 0;padding: 0.3em;box-sizing: border-box;text-align: center;}#sk-container-id-8 label.sk-toggleable__label-arrow:before {content: \"▸\";float: left;margin-right: 0.25em;color: #696969;}#sk-container-id-8 label.sk-toggleable__label-arrow:hover:before {color: black;}#sk-container-id-8 div.sk-estimator:hover label.sk-toggleable__label-arrow:before {color: black;}#sk-container-id-8 div.sk-toggleable__content {max-height: 0;max-width: 0;overflow: hidden;text-align: left;background-color: #f0f8ff;}#sk-container-id-8 div.sk-toggleable__content pre {margin: 0.2em;color: black;border-radius: 0.25em;background-color: #f0f8ff;}#sk-container-id-8 input.sk-toggleable__control:checked~div.sk-toggleable__content {max-height: 200px;max-width: 100%;overflow: auto;}#sk-container-id-8 input.sk-toggleable__control:checked~label.sk-toggleable__label-arrow:before {content: \"▾\";}#sk-container-id-8 div.sk-estimator input.sk-toggleable__control:checked~label.sk-toggleable__label {background-color: #d4ebff;}#sk-container-id-8 div.sk-label input.sk-toggleable__control:checked~label.sk-toggleable__label {background-color: #d4ebff;}#sk-container-id-8 input.sk-hidden--visually {border: 0;clip: rect(1px 1px 1px 1px);clip: rect(1px, 1px, 1px, 1px);height: 1px;margin: -1px;overflow: hidden;padding: 0;position: absolute;width: 1px;}#sk-container-id-8 div.sk-estimator {font-family: monospace;background-color: #f0f8ff;border: 1px dotted black;border-radius: 0.25em;box-sizing: border-box;margin-bottom: 0.5em;}#sk-container-id-8 div.sk-estimator:hover {background-color: #d4ebff;}#sk-container-id-8 div.sk-parallel-item::after {content: \"\";width: 100%;border-bottom: 1px solid gray;flex-grow: 1;}#sk-container-id-8 div.sk-label:hover label.sk-toggleable__label {background-color: #d4ebff;}#sk-container-id-8 div.sk-serial::before {content: \"\";position: absolute;border-left: 1px solid gray;box-sizing: border-box;top: 0;bottom: 0;left: 50%;z-index: 0;}#sk-container-id-8 div.sk-serial {display: flex;flex-direction: column;align-items: center;background-color: white;padding-right: 0.2em;padding-left: 0.2em;position: relative;}#sk-container-id-8 div.sk-item {position: relative;z-index: 1;}#sk-container-id-8 div.sk-parallel {display: flex;align-items: stretch;justify-content: center;background-color: white;position: relative;}#sk-container-id-8 div.sk-item::before, #sk-container-id-8 div.sk-parallel-item::before {content: \"\";position: absolute;border-left: 1px solid gray;box-sizing: border-box;top: 0;bottom: 0;left: 50%;z-index: -1;}#sk-container-id-8 div.sk-parallel-item {display: flex;flex-direction: column;z-index: 1;position: relative;background-color: white;}#sk-container-id-8 div.sk-parallel-item:first-child::after {align-self: flex-end;width: 50%;}#sk-container-id-8 div.sk-parallel-item:last-child::after {align-self: flex-start;width: 50%;}#sk-container-id-8 div.sk-parallel-item:only-child::after {width: 0;}#sk-container-id-8 div.sk-dashed-wrapped {border: 1px dashed gray;margin: 0 0.4em 0.5em 0.4em;box-sizing: border-box;padding-bottom: 0.4em;background-color: white;}#sk-container-id-8 div.sk-label label {font-family: monospace;font-weight: bold;display: inline-block;line-height: 1.2em;}#sk-container-id-8 div.sk-label-container {text-align: center;}#sk-container-id-8 div.sk-container {/* jupyter's `normalize.less` sets `[hidden] { display: none; }` but bootstrap.min.css set `[hidden] { display: none !important; }` so we also need the `!important` here to be able to override the default hidden behavior on the sphinx rendered scikit-learn.org. See: https://github.com/scikit-learn/scikit-learn/issues/21755 */display: inline-block !important;position: relative;}#sk-container-id-8 div.sk-text-repr-fallback {display: none;}</style><div id=\"sk-container-id-8\" class=\"sk-top-container\"><div class=\"sk-text-repr-fallback\"><pre>XGBRegressor(base_score=None, booster=None, callbacks=None,\n",
              "             colsample_bylevel=None, colsample_bynode=None,\n",
              "             colsample_bytree=None, early_stopping_rounds=None,\n",
              "             enable_categorical=False, eval_metric=None, feature_types=None,\n",
              "             gamma=None, gpu_id=None, grow_policy=None, importance_type=None,\n",
              "             interaction_constraints=None, learning_rate=None, max_bin=None,\n",
              "             max_cat_threshold=None, max_cat_to_onehot=None,\n",
              "             max_delta_step=None, max_depth=None, max_leaves=None,\n",
              "             min_child_weight=None, missing=nan, monotone_constraints=None,\n",
              "             n_estimators=1000, n_jobs=None, num_parallel_tree=None,\n",
              "             predictor=None, random_state=None, ...)</pre><b>In a Jupyter environment, please rerun this cell to show the HTML representation or trust the notebook. <br />On GitHub, the HTML representation is unable to render, please try loading this page with nbviewer.org.</b></div><div class=\"sk-container\" hidden><div class=\"sk-item\"><div class=\"sk-estimator sk-toggleable\"><input class=\"sk-toggleable__control sk-hidden--visually\" id=\"sk-estimator-id-8\" type=\"checkbox\" checked><label for=\"sk-estimator-id-8\" class=\"sk-toggleable__label sk-toggleable__label-arrow\">XGBRegressor</label><div class=\"sk-toggleable__content\"><pre>XGBRegressor(base_score=None, booster=None, callbacks=None,\n",
              "             colsample_bylevel=None, colsample_bynode=None,\n",
              "             colsample_bytree=None, early_stopping_rounds=None,\n",
              "             enable_categorical=False, eval_metric=None, feature_types=None,\n",
              "             gamma=None, gpu_id=None, grow_policy=None, importance_type=None,\n",
              "             interaction_constraints=None, learning_rate=None, max_bin=None,\n",
              "             max_cat_threshold=None, max_cat_to_onehot=None,\n",
              "             max_delta_step=None, max_depth=None, max_leaves=None,\n",
              "             min_child_weight=None, missing=nan, monotone_constraints=None,\n",
              "             n_estimators=1000, n_jobs=None, num_parallel_tree=None,\n",
              "             predictor=None, random_state=None, ...)</pre></div></div></div></div></div>"
            ]
          },
          "metadata": {},
          "execution_count": 130
        }
      ]
    },
    {
      "cell_type": "code",
      "source": [
        "# make a one-step prediction\n",
        "prediction = xgb.predict(X_test)\n",
        "\n",
        "# This will return the same prediction for all sample in the test set (check that!) we just need one so we pick the first one\n",
        "print(prediction[0])"
      ],
      "metadata": {
        "colab": {
          "base_uri": "https://localhost:8080/"
        },
        "id": "n_1lURPL07BZ",
        "outputId": "9ebb5c09-5c11-49a7-de2d-74e5c309745b"
      },
      "execution_count": 131,
      "outputs": [
        {
          "output_type": "stream",
          "name": "stdout",
          "text": [
            "252.83669\n"
          ]
        }
      ]
    },
    {
      "cell_type": "markdown",
      "source": [
        "## Evaluation \n",
        "If we are interested in making a one-step forecast, e.g. one month, then we can evaluate the model by training on the training dataset and predicting the first step in the test dataset. We can then add the real observation from the test set to the training dataset, refit the model, then have the model predict the second step in the test dataset.\n",
        "\n",
        "Repeating this process for the entire test dataset will give a one-step prediction for the entire test dataset from which an error measure can be calculated to evaluate the skill of the model. Read more: [How to Use XGBoost for Time Series Forecasting](https://machinelearningmastery.com/xgboost-for-time-series-forecasting/)."
      ],
      "metadata": {
        "id": "OD_Au8OY2hON"
      }
    },
    {
      "cell_type": "markdown",
      "source": [
        "## Final thoughts: How to choose the right approach?\n",
        "\n",
        "Beyond the 'mathematical' properties of your data, this also depends on the importance of understanding the relationships between variables, and ultimately on the decisions to be taken.\n",
        "\n",
        "You can apply statistical models when:\n",
        "\n",
        "* You understand specific interaction effects between variables. You have prior knowledge about their relationships, for example, before you analyse weight and height, you know there is positive linear relationship between these two variables.\n",
        "* Interpretability is important. You have to comply with strict regulations which requires you to understand exactly how the models work, especially when the decision affects a person’s life.\n",
        "* Your data is small. \n",
        "\n",
        "\n",
        "You can apply ML when:\n",
        "\n",
        "* High predictive accuracy is your goal. For example, if you work in an insurance company, you don’t want to accept a fraudster’s false claim and pay out in cash, so you want your predictive model on fraudulent claim to be as accurate as possible.\n",
        "* Interpretability is less important. You do not care much about why a decision was made. Being able to understand the model is ideal, but not a must.\n",
        "* Your data is big. You won’t be able to process the data in person. For example, individual patient’s charts and complex information about diagnoses, treatments, medications and more.\n",
        "\n",
        "## Additional Resources\n",
        "\n",
        "* [Machine Learning vs Statistical Modelling: which one is right for your business problem?](https://www.turintech.ai/machine-learning-vs-statistical-modelling-which-one-is-right-for-your-business-problem/) "
      ],
      "metadata": {
        "id": "0vOP0gSZco1A"
      }
    }
  ]
}