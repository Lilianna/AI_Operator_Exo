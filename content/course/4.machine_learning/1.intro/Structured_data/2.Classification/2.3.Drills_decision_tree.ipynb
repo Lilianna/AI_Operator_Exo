{
 "cells": [
  {
   "cell_type": "markdown",
   "metadata": {},
   "source": [
    "## Exercise 3\n",
    "* **Dataset:** [`Red wine`](https://www.kaggle.com/uciml/red-wine-quality-cortez-et-al-2009)\n",
    "* **Model to use:** [`Decision tree`](https://scikit-learn.org/stable/modules/tree.html)\n",
    "* **Model evaluation:** You can choose."
   ]
  },
  {
   "cell_type": "code",
   "execution_count": 1,
   "metadata": {},
   "outputs": [
    {
     "name": "stdout",
     "output_type": "stream",
     "text": [
      "Exercise 3: Decision Tree Classification Report\n",
      "\n",
      "              precision    recall  f1-score   support\n",
      "\n",
      "           3       0.00      0.00      0.00         1\n",
      "           4       0.07      0.10      0.08        10\n",
      "           5       0.65      0.68      0.66       130\n",
      "           6       0.57      0.53      0.55       132\n",
      "           7       0.50      0.50      0.50        42\n",
      "           8       0.00      0.00      0.00         5\n",
      "\n",
      "    accuracy                           0.56       320\n",
      "   macro avg       0.30      0.30      0.30       320\n",
      "weighted avg       0.57      0.56      0.56       320\n",
      "\n"
     ]
    }
   ],
   "source": [
    "# Add you code here.\n",
    "\n",
    "# Exercise 3: Decision Tree Classifier with Red Wine Dataset\n",
    "from sklearn.tree import DecisionTreeClassifier\n",
    "from sklearn.model_selection import train_test_split\n",
    "from sklearn.metrics import classification_report\n",
    "import pandas as pd\n",
    "\n",
    "# Load the Red Wine dataset\n",
    "red_wine_data = pd.read_csv('assets/winequality-red.csv')\n",
    "\n",
    "# Separate features (X) and target (y)\n",
    "X = red_wine_data.drop('quality', axis=1)\n",
    "y = red_wine_data['quality']\n",
    "\n",
    "# Split the dataset into training and testing sets\n",
    "X_train, X_test, y_train, y_test = train_test_split(X, y, test_size=0.2, random_state=42)\n",
    "\n",
    "# Create and train a Decision Tree Classifier\n",
    "decision_tree = DecisionTreeClassifier()\n",
    "decision_tree.fit(X_train, y_train)\n",
    "\n",
    "# Evaluate the model\n",
    "y_pred = decision_tree.predict(X_test)\n",
    "report = classification_report(y_test, y_pred)\n",
    "\n",
    "print(\"Exercise 3: Decision Tree Classification Report\\n\")\n",
    "print(report)\n",
    "\n",
    "\n"
   ]
  }
 ],
 "metadata": {
  "kernelspec": {
   "display_name": "Python 3",
   "language": "python",
   "name": "python3"
  },
  "language_info": {
   "codemirror_mode": {
    "name": "ipython",
    "version": 3
   },
   "file_extension": ".py",
   "mimetype": "text/x-python",
   "name": "python",
   "nbconvert_exporter": "python",
   "pygments_lexer": "ipython3",
   "version": "3.11.5"
  },
  "orig_nbformat": 2
 },
 "nbformat": 4,
 "nbformat_minor": 2
}
