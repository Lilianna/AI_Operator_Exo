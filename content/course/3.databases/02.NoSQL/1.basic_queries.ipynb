{
 "cells": [
  {
   "cell_type": "markdown",
   "metadata": {},
   "source": [
    "# NoSQL: Basic queries on non-relational databases\n",
    "\n",
    "## NoSQL: Review\n",
    "\n",
    "A NoSQL database is designed to handle data that are not structured in tabular relations. The data can be stored in key-value pairs (like Python dictionaries), documents (JSON), or graphs.\n",
    "\n",
    "<img src=\"../assets/nosql_vs_sql.jpeg\"  width = 500 px></img>\n",
    "\n",
    "Unlike relational databases (SQL), NoSQL is not using tables and rows. Also they are much more flexible since the structure of the entries is not predefined. Therefore you can add data without defining anything (even not the table itself).\n",
    "\n",
    "[This article](https://www.integrate.io/blog/the-sql-vs-nosql-difference/) gives a recap of the biggest differences between SQL and NoSQL database systems:\n",
    "|SQL|NoSQL|\n",
    "|---|---|\n",
    "|SQL databases are relational| NoSQL databases are non-relational. In NoSQL you cannot make relationships between tables (`JOIN`)|\n",
    "|SQL databases are table-based |NoSQL databases are document, key-value, graph, or wide-column stores.|\n",
    "|SQL databases use structured query language and have a predefined schema.| NoSQL databases have dynamic schemas for unstructured data.|\n",
    "|SQL databases are vertically scalable (by adding processing power)|NoSQL databases are horizontally scalable (by adding servers/machines).|\n",
    "|SQL databases are better for multi-row transactions|NoSQL is better for unstructured data like documents or JSON.|\n",
    "\n",
    "In the image, below you will find examples of popular SQL and NoSQL databases. \n",
    "\n",
    "<img src=\"../assets/popular_examples_nosql_sql.jpeg\" width =500px></img>\n",
    "\n",
    "In the next section, we'll cover an example using MongoDB. You will see that we can translate many of the basic SQL queries you know.\n",
    "\n",
    "## MongoDB\n",
    "\n",
    "<img src=\"https://upload.wikimedia.org/wikipedia/fr/thumb/4/45/MongoDB-Logo.svg/527px-MongoDB-Logo.svg.png\" />\n",
    "\n",
    "A lot of companies provide NoSQL architectures. One of the most popular is [MongoDB](https://www.mongodb.com/). A MongoDB database contains collections (tables) of documents (entries). The documents are stored in the JSON format which is very convenient to handle with Python!\n",
    "\n",
    "The syntax of the queries is based on JavaScript. They basically look like python dictionaries.\n",
    "\n",
    "Before diving in some exercises, you can have a look to [this quick intro](https://www.mongodb.com/docs/manual/tutorial/query-documents/) about MongoDB queries.\n",
    "\n",
    "### Creating the database\n",
    "\n",
    "We have created and filled a MongoDB database for you. You probably know already the database. It is the list of country leaders that you have used already in the Wikipedia project.\n",
    "\n",
    "You can set it up by deploying the Docker image we have pre-built:"
   ]
  },
  {
   "cell_type": "code",
   "execution_count": 1,
   "metadata": {},
   "outputs": [
    {
     "name": "stderr",
     "output_type": "stream",
     "text": [
      "error during connect: this error may indicate that the docker daemon is not running: Get \"http://%2F%2F.%2Fpipe%2Fdocker_engine/v1.24/containers/json?all=1&filters=%7B%22label%22%3A%7B%22com.docker.compose.config-hash%22%3Atrue%2C%22com.docker.compose.project%3D02nosql%22%3Atrue%7D%7D\": open //./pipe/docker_engine: The system cannot find the file specified.\n"
     ]
    }
   ],
   "source": [
    "# You can run it from this notebook with:\n",
    "!docker-compose up -d\n",
    "\n",
    "# Or in your terminal with:\n",
    "# docker-compose up -d"
   ]
  },
  {
   "cell_type": "markdown",
   "metadata": {},
   "source": [
    "### Conneting to the database\n",
    "\n",
    "For using MongoDB through python you will need to install the `pymongo` library."
   ]
  },
  {
   "cell_type": "code",
   "execution_count": 3,
   "metadata": {},
   "outputs": [
    {
     "ename": "ServerSelectionTimeoutError",
     "evalue": "localhost:27017: [WinError 10061] No connection could be made because the target machine actively refused it (configured timeouts: socketTimeoutMS: 20000.0ms, connectTimeoutMS: 20000.0ms), Timeout: 30s, Topology Description: <TopologyDescription id: 65450f8be1cfa983c680f472, topology_type: Unknown, servers: [<ServerDescription ('localhost', 27017) server_type: Unknown, rtt: None, error=AutoReconnect('localhost:27017: [WinError 10061] No connection could be made because the target machine actively refused it (configured timeouts: socketTimeoutMS: 20000.0ms, connectTimeoutMS: 20000.0ms)')>]>",
     "output_type": "error",
     "traceback": [
      "\u001b[1;31m---------------------------------------------------------------------------\u001b[0m",
      "\u001b[1;31mServerSelectionTimeoutError\u001b[0m               Traceback (most recent call last)",
      "\u001b[1;32mc:\\Users\\becode\\OneDrive\\Desktop\\week1\\repos\\DataOperator_Week1\\content\\course\\3.databases\\02.NoSQL\\1.basic_queries.ipynb Cell 4\u001b[0m line \u001b[0;36m1\n\u001b[0;32m      <a href='vscode-notebook-cell:/c%3A/Users/becode/OneDrive/Desktop/week1/repos/DataOperator_Week1/content/course/3.databases/02.NoSQL/1.basic_queries.ipynb#W3sZmlsZQ%3D%3D?line=6'>7</a>\u001b[0m db \u001b[39m=\u001b[39m client[\u001b[39m\"\u001b[39m\u001b[39mbecode\u001b[39m\u001b[39m\"\u001b[39m]\n\u001b[0;32m      <a href='vscode-notebook-cell:/c%3A/Users/becode/OneDrive/Desktop/week1/repos/DataOperator_Week1/content/course/3.databases/02.NoSQL/1.basic_queries.ipynb#W3sZmlsZQ%3D%3D?line=8'>9</a>\u001b[0m \u001b[39m# Let's see which collections are in the database\u001b[39;00m\n\u001b[1;32m---> <a href='vscode-notebook-cell:/c%3A/Users/becode/OneDrive/Desktop/week1/repos/DataOperator_Week1/content/course/3.databases/02.NoSQL/1.basic_queries.ipynb#W3sZmlsZQ%3D%3D?line=9'>10</a>\u001b[0m db\u001b[39m.\u001b[39;49mlist_collection_names()\n",
      "File \u001b[1;32mc:\\Users\\becode\\AppData\\Local\\Programs\\Python\\Python311\\Lib\\site-packages\\pymongo\\database.py:1147\u001b[0m, in \u001b[0;36mDatabase.list_collection_names\u001b[1;34m(self, session, filter, comment, **kwargs)\u001b[0m\n\u001b[0;32m   1144\u001b[0m     \u001b[39mif\u001b[39;00m \u001b[39mnot\u001b[39;00m \u001b[39mfilter\u001b[39m \u001b[39mor\u001b[39;00m (\u001b[39mlen\u001b[39m(\u001b[39mfilter\u001b[39m) \u001b[39m==\u001b[39m \u001b[39m1\u001b[39m \u001b[39mand\u001b[39;00m \u001b[39m\"\u001b[39m\u001b[39mname\u001b[39m\u001b[39m\"\u001b[39m \u001b[39min\u001b[39;00m \u001b[39mfilter\u001b[39m):\n\u001b[0;32m   1145\u001b[0m         kwargs[\u001b[39m\"\u001b[39m\u001b[39mnameOnly\u001b[39m\u001b[39m\"\u001b[39m] \u001b[39m=\u001b[39m \u001b[39mTrue\u001b[39;00m\n\u001b[1;32m-> 1147\u001b[0m \u001b[39mreturn\u001b[39;00m [result[\u001b[39m\"\u001b[39m\u001b[39mname\u001b[39m\u001b[39m\"\u001b[39m] \u001b[39mfor\u001b[39;00m result \u001b[39min\u001b[39;00m \u001b[39mself\u001b[39;49m\u001b[39m.\u001b[39;49mlist_collections(session\u001b[39m=\u001b[39;49msession, \u001b[39m*\u001b[39;49m\u001b[39m*\u001b[39;49mkwargs)]\n",
      "File \u001b[1;32mc:\\Users\\becode\\AppData\\Local\\Programs\\Python\\Python311\\Lib\\site-packages\\pymongo\\database.py:1099\u001b[0m, in \u001b[0;36mDatabase.list_collections\u001b[1;34m(self, session, filter, comment, **kwargs)\u001b[0m\n\u001b[0;32m   1091\u001b[0m \u001b[39mdef\u001b[39;00m \u001b[39m_cmd\u001b[39m(\n\u001b[0;32m   1092\u001b[0m     session: Optional[ClientSession],\n\u001b[0;32m   1093\u001b[0m     _server: Server,\n\u001b[0;32m   1094\u001b[0m     conn: Connection,\n\u001b[0;32m   1095\u001b[0m     read_preference: _ServerMode,\n\u001b[0;32m   1096\u001b[0m ) \u001b[39m-\u001b[39m\u001b[39m>\u001b[39m CommandCursor[MutableMapping[\u001b[39mstr\u001b[39m, Any]]:\n\u001b[0;32m   1097\u001b[0m     \u001b[39mreturn\u001b[39;00m \u001b[39mself\u001b[39m\u001b[39m.\u001b[39m_list_collections(conn, session, read_preference\u001b[39m=\u001b[39mread_preference, \u001b[39m*\u001b[39m\u001b[39m*\u001b[39mkwargs)\n\u001b[1;32m-> 1099\u001b[0m \u001b[39mreturn\u001b[39;00m \u001b[39mself\u001b[39;49m\u001b[39m.\u001b[39;49m__client\u001b[39m.\u001b[39;49m_retryable_read(_cmd, read_pref, session)\n",
      "File \u001b[1;32mc:\\Users\\becode\\AppData\\Local\\Programs\\Python\\Python311\\Lib\\site-packages\\pymongo\\mongo_client.py:1492\u001b[0m, in \u001b[0;36mMongoClient._retryable_read\u001b[1;34m(self, func, read_pref, session, address, retryable)\u001b[0m\n\u001b[0;32m   1487\u001b[0m \u001b[39m# Ensure that the client supports retrying on reads and there is no session in\u001b[39;00m\n\u001b[0;32m   1488\u001b[0m \u001b[39m# transaction, otherwise, we will not support retry behavior for this call.\u001b[39;00m\n\u001b[0;32m   1489\u001b[0m retryable \u001b[39m=\u001b[39m \u001b[39mbool\u001b[39m(\n\u001b[0;32m   1490\u001b[0m     retryable \u001b[39mand\u001b[39;00m \u001b[39mself\u001b[39m\u001b[39m.\u001b[39moptions\u001b[39m.\u001b[39mretry_reads \u001b[39mand\u001b[39;00m \u001b[39mnot\u001b[39;00m (session \u001b[39mand\u001b[39;00m session\u001b[39m.\u001b[39min_transaction)\n\u001b[0;32m   1491\u001b[0m )\n\u001b[1;32m-> 1492\u001b[0m \u001b[39mreturn\u001b[39;00m \u001b[39mself\u001b[39;49m\u001b[39m.\u001b[39;49m_retry_internal(\n\u001b[0;32m   1493\u001b[0m     func,\n\u001b[0;32m   1494\u001b[0m     session,\n\u001b[0;32m   1495\u001b[0m     \u001b[39mNone\u001b[39;49;00m,\n\u001b[0;32m   1496\u001b[0m     is_read\u001b[39m=\u001b[39;49m\u001b[39mTrue\u001b[39;49;00m,\n\u001b[0;32m   1497\u001b[0m     address\u001b[39m=\u001b[39;49maddress,\n\u001b[0;32m   1498\u001b[0m     read_pref\u001b[39m=\u001b[39;49mread_pref,\n\u001b[0;32m   1499\u001b[0m     retryable\u001b[39m=\u001b[39;49mretryable,\n\u001b[0;32m   1500\u001b[0m )\n",
      "File \u001b[1;32mc:\\Users\\becode\\AppData\\Local\\Programs\\Python\\Python311\\Lib\\site-packages\\pymongo\\_csot.py:107\u001b[0m, in \u001b[0;36mapply.<locals>.csot_wrapper\u001b[1;34m(self, *args, **kwargs)\u001b[0m\n\u001b[0;32m    105\u001b[0m         \u001b[39mwith\u001b[39;00m _TimeoutContext(timeout):\n\u001b[0;32m    106\u001b[0m             \u001b[39mreturn\u001b[39;00m func(\u001b[39mself\u001b[39m, \u001b[39m*\u001b[39margs, \u001b[39m*\u001b[39m\u001b[39m*\u001b[39mkwargs)\n\u001b[1;32m--> 107\u001b[0m \u001b[39mreturn\u001b[39;00m func(\u001b[39mself\u001b[39;49m, \u001b[39m*\u001b[39;49margs, \u001b[39m*\u001b[39;49m\u001b[39m*\u001b[39;49mkwargs)\n",
      "File \u001b[1;32mc:\\Users\\becode\\AppData\\Local\\Programs\\Python\\Python311\\Lib\\site-packages\\pymongo\\mongo_client.py:1462\u001b[0m, in \u001b[0;36mMongoClient._retry_internal\u001b[1;34m(self, func, session, bulk, is_read, address, read_pref, retryable)\u001b[0m\n\u001b[0;32m   1428\u001b[0m \u001b[39m@_csot\u001b[39m\u001b[39m.\u001b[39mapply\n\u001b[0;32m   1429\u001b[0m \u001b[39mdef\u001b[39;00m \u001b[39m_retry_internal\u001b[39m(\n\u001b[0;32m   1430\u001b[0m     \u001b[39mself\u001b[39m,\n\u001b[1;32m   (...)\u001b[0m\n\u001b[0;32m   1437\u001b[0m     retryable: \u001b[39mbool\u001b[39m \u001b[39m=\u001b[39m \u001b[39mFalse\u001b[39;00m,\n\u001b[0;32m   1438\u001b[0m ) \u001b[39m-\u001b[39m\u001b[39m>\u001b[39m T:\n\u001b[0;32m   1439\u001b[0m \u001b[39m    \u001b[39m\u001b[39m\"\"\"Internal retryable helper for all client transactions.\u001b[39;00m\n\u001b[0;32m   1440\u001b[0m \n\u001b[0;32m   1441\u001b[0m \u001b[39m    :Parameters:\u001b[39;00m\n\u001b[1;32m   (...)\u001b[0m\n\u001b[0;32m   1451\u001b[0m \u001b[39m      Output of the calling func()\u001b[39;00m\n\u001b[0;32m   1452\u001b[0m \u001b[39m    \"\"\"\u001b[39;00m\n\u001b[0;32m   1453\u001b[0m     \u001b[39mreturn\u001b[39;00m _ClientConnectionRetryable(\n\u001b[0;32m   1454\u001b[0m         mongo_client\u001b[39m=\u001b[39;49m\u001b[39mself\u001b[39;49m,\n\u001b[0;32m   1455\u001b[0m         func\u001b[39m=\u001b[39;49mfunc,\n\u001b[0;32m   1456\u001b[0m         bulk\u001b[39m=\u001b[39;49mbulk,\n\u001b[0;32m   1457\u001b[0m         is_read\u001b[39m=\u001b[39;49mis_read,\n\u001b[0;32m   1458\u001b[0m         session\u001b[39m=\u001b[39;49msession,\n\u001b[0;32m   1459\u001b[0m         read_pref\u001b[39m=\u001b[39;49mread_pref,\n\u001b[0;32m   1460\u001b[0m         address\u001b[39m=\u001b[39;49maddress,\n\u001b[0;32m   1461\u001b[0m         retryable\u001b[39m=\u001b[39;49mretryable,\n\u001b[1;32m-> 1462\u001b[0m     )\u001b[39m.\u001b[39;49mrun()\n",
      "File \u001b[1;32mc:\\Users\\becode\\AppData\\Local\\Programs\\Python\\Python311\\Lib\\site-packages\\pymongo\\mongo_client.py:2315\u001b[0m, in \u001b[0;36m_ClientConnectionRetryable.run\u001b[1;34m(self)\u001b[0m\n\u001b[0;32m   2313\u001b[0m \u001b[39mself\u001b[39m\u001b[39m.\u001b[39m_check_last_error(check_csot\u001b[39m=\u001b[39m\u001b[39mTrue\u001b[39;00m)\n\u001b[0;32m   2314\u001b[0m \u001b[39mtry\u001b[39;00m:\n\u001b[1;32m-> 2315\u001b[0m     \u001b[39mreturn\u001b[39;00m \u001b[39mself\u001b[39;49m\u001b[39m.\u001b[39;49m_read() \u001b[39mif\u001b[39;00m \u001b[39mself\u001b[39m\u001b[39m.\u001b[39m_is_read \u001b[39melse\u001b[39;00m \u001b[39mself\u001b[39m\u001b[39m.\u001b[39m_write()\n\u001b[0;32m   2316\u001b[0m \u001b[39mexcept\u001b[39;00m ServerSelectionTimeoutError:\n\u001b[0;32m   2317\u001b[0m     \u001b[39m# The application may think the write was never attempted\u001b[39;00m\n\u001b[0;32m   2318\u001b[0m     \u001b[39m# if we raise ServerSelectionTimeoutError on the retry\u001b[39;00m\n\u001b[0;32m   2319\u001b[0m     \u001b[39m# attempt. Raise the original exception instead.\u001b[39;00m\n\u001b[0;32m   2320\u001b[0m     \u001b[39mself\u001b[39m\u001b[39m.\u001b[39m_check_last_error()\n",
      "File \u001b[1;32mc:\\Users\\becode\\AppData\\Local\\Programs\\Python\\Python311\\Lib\\site-packages\\pymongo\\mongo_client.py:2436\u001b[0m, in \u001b[0;36m_ClientConnectionRetryable._read\u001b[1;34m(self)\u001b[0m\n\u001b[0;32m   2430\u001b[0m \u001b[39mdef\u001b[39;00m \u001b[39m_read\u001b[39m(\u001b[39mself\u001b[39m) \u001b[39m-\u001b[39m\u001b[39m>\u001b[39m T:\n\u001b[0;32m   2431\u001b[0m \u001b[39m    \u001b[39m\u001b[39m\"\"\"Wrapper method for read-type retryable client executions\u001b[39;00m\n\u001b[0;32m   2432\u001b[0m \n\u001b[0;32m   2433\u001b[0m \u001b[39m    :Returns:\u001b[39;00m\n\u001b[0;32m   2434\u001b[0m \u001b[39m        Output for func()'s call\u001b[39;00m\n\u001b[0;32m   2435\u001b[0m \u001b[39m    \"\"\"\u001b[39;00m\n\u001b[1;32m-> 2436\u001b[0m     \u001b[39mself\u001b[39m\u001b[39m.\u001b[39m_server \u001b[39m=\u001b[39m \u001b[39mself\u001b[39;49m\u001b[39m.\u001b[39;49m_get_server()\n\u001b[0;32m   2437\u001b[0m     \u001b[39massert\u001b[39;00m \u001b[39mself\u001b[39m\u001b[39m.\u001b[39m_read_pref \u001b[39mis\u001b[39;00m \u001b[39mnot\u001b[39;00m \u001b[39mNone\u001b[39;00m, \u001b[39m\"\u001b[39m\u001b[39mRead Preference required on read calls\u001b[39m\u001b[39m\"\u001b[39m\n\u001b[0;32m   2438\u001b[0m     \u001b[39mwith\u001b[39;00m \u001b[39mself\u001b[39m\u001b[39m.\u001b[39m_client\u001b[39m.\u001b[39m_conn_from_server(\u001b[39mself\u001b[39m\u001b[39m.\u001b[39m_read_pref, \u001b[39mself\u001b[39m\u001b[39m.\u001b[39m_server, \u001b[39mself\u001b[39m\u001b[39m.\u001b[39m_session) \u001b[39mas\u001b[39;00m (\n\u001b[0;32m   2439\u001b[0m         conn,\n\u001b[0;32m   2440\u001b[0m         read_pref,\n\u001b[0;32m   2441\u001b[0m     ):\n",
      "File \u001b[1;32mc:\\Users\\becode\\AppData\\Local\\Programs\\Python\\Python311\\Lib\\site-packages\\pymongo\\mongo_client.py:2399\u001b[0m, in \u001b[0;36m_ClientConnectionRetryable._get_server\u001b[1;34m(self)\u001b[0m\n\u001b[0;32m   2393\u001b[0m \u001b[39mdef\u001b[39;00m \u001b[39m_get_server\u001b[39m(\u001b[39mself\u001b[39m) \u001b[39m-\u001b[39m\u001b[39m>\u001b[39m Server:\n\u001b[0;32m   2394\u001b[0m \u001b[39m    \u001b[39m\u001b[39m\"\"\"Retrieves a server object based on provided object context\u001b[39;00m\n\u001b[0;32m   2395\u001b[0m \n\u001b[0;32m   2396\u001b[0m \u001b[39m    :Returns:\u001b[39;00m\n\u001b[0;32m   2397\u001b[0m \u001b[39m        Abstraction to connect to server\u001b[39;00m\n\u001b[0;32m   2398\u001b[0m \u001b[39m    \"\"\"\u001b[39;00m\n\u001b[1;32m-> 2399\u001b[0m     \u001b[39mreturn\u001b[39;00m \u001b[39mself\u001b[39;49m\u001b[39m.\u001b[39;49m_client\u001b[39m.\u001b[39;49m_select_server(\n\u001b[0;32m   2400\u001b[0m         \u001b[39mself\u001b[39;49m\u001b[39m.\u001b[39;49m_server_selector, \u001b[39mself\u001b[39;49m\u001b[39m.\u001b[39;49m_session, address\u001b[39m=\u001b[39;49m\u001b[39mself\u001b[39;49m\u001b[39m.\u001b[39;49m_address\n\u001b[0;32m   2401\u001b[0m     )\n",
      "File \u001b[1;32mc:\\Users\\becode\\AppData\\Local\\Programs\\Python\\Python311\\Lib\\site-packages\\pymongo\\mongo_client.py:1303\u001b[0m, in \u001b[0;36mMongoClient._select_server\u001b[1;34m(self, server_selector, session, address)\u001b[0m\n\u001b[0;32m   1301\u001b[0m             \u001b[39mraise\u001b[39;00m AutoReconnect(\u001b[39m\"\u001b[39m\u001b[39mserver \u001b[39m\u001b[39m%s\u001b[39;00m\u001b[39m:\u001b[39m\u001b[39m%s\u001b[39;00m\u001b[39m no longer available\u001b[39m\u001b[39m\"\u001b[39m \u001b[39m%\u001b[39m address)  \u001b[39m# noqa: UP031\u001b[39;00m\n\u001b[0;32m   1302\u001b[0m     \u001b[39melse\u001b[39;00m:\n\u001b[1;32m-> 1303\u001b[0m         server \u001b[39m=\u001b[39m topology\u001b[39m.\u001b[39;49mselect_server(server_selector)\n\u001b[0;32m   1304\u001b[0m     \u001b[39mreturn\u001b[39;00m server\n\u001b[0;32m   1305\u001b[0m \u001b[39mexcept\u001b[39;00m PyMongoError \u001b[39mas\u001b[39;00m exc:\n\u001b[0;32m   1306\u001b[0m     \u001b[39m# Server selection errors in a transaction are transient.\u001b[39;00m\n",
      "File \u001b[1;32mc:\\Users\\becode\\AppData\\Local\\Programs\\Python\\Python311\\Lib\\site-packages\\pymongo\\topology.py:302\u001b[0m, in \u001b[0;36mTopology.select_server\u001b[1;34m(self, selector, server_selection_timeout, address)\u001b[0m\n\u001b[0;32m    295\u001b[0m \u001b[39mdef\u001b[39;00m \u001b[39mselect_server\u001b[39m(\n\u001b[0;32m    296\u001b[0m     \u001b[39mself\u001b[39m,\n\u001b[0;32m    297\u001b[0m     selector: Callable[[Selection], Selection],\n\u001b[0;32m    298\u001b[0m     server_selection_timeout: Optional[\u001b[39mfloat\u001b[39m] \u001b[39m=\u001b[39m \u001b[39mNone\u001b[39;00m,\n\u001b[0;32m    299\u001b[0m     address: Optional[_Address] \u001b[39m=\u001b[39m \u001b[39mNone\u001b[39;00m,\n\u001b[0;32m    300\u001b[0m ) \u001b[39m-\u001b[39m\u001b[39m>\u001b[39m Server:\n\u001b[0;32m    301\u001b[0m \u001b[39m    \u001b[39m\u001b[39m\"\"\"Like select_servers, but choose a random server if several match.\"\"\"\u001b[39;00m\n\u001b[1;32m--> 302\u001b[0m     server \u001b[39m=\u001b[39m \u001b[39mself\u001b[39;49m\u001b[39m.\u001b[39;49m_select_server(selector, server_selection_timeout, address)\n\u001b[0;32m    303\u001b[0m     \u001b[39mif\u001b[39;00m _csot\u001b[39m.\u001b[39mget_timeout():\n\u001b[0;32m    304\u001b[0m         _csot\u001b[39m.\u001b[39mset_rtt(server\u001b[39m.\u001b[39mdescription\u001b[39m.\u001b[39mmin_round_trip_time)\n",
      "File \u001b[1;32mc:\\Users\\becode\\AppData\\Local\\Programs\\Python\\Python311\\Lib\\site-packages\\pymongo\\topology.py:286\u001b[0m, in \u001b[0;36mTopology._select_server\u001b[1;34m(self, selector, server_selection_timeout, address)\u001b[0m\n\u001b[0;32m    280\u001b[0m \u001b[39mdef\u001b[39;00m \u001b[39m_select_server\u001b[39m(\n\u001b[0;32m    281\u001b[0m     \u001b[39mself\u001b[39m,\n\u001b[0;32m    282\u001b[0m     selector: Callable[[Selection], Selection],\n\u001b[0;32m    283\u001b[0m     server_selection_timeout: Optional[\u001b[39mfloat\u001b[39m] \u001b[39m=\u001b[39m \u001b[39mNone\u001b[39;00m,\n\u001b[0;32m    284\u001b[0m     address: Optional[_Address] \u001b[39m=\u001b[39m \u001b[39mNone\u001b[39;00m,\n\u001b[0;32m    285\u001b[0m ) \u001b[39m-\u001b[39m\u001b[39m>\u001b[39m Server:\n\u001b[1;32m--> 286\u001b[0m     servers \u001b[39m=\u001b[39m \u001b[39mself\u001b[39;49m\u001b[39m.\u001b[39;49mselect_servers(selector, server_selection_timeout, address)\n\u001b[0;32m    287\u001b[0m     \u001b[39mif\u001b[39;00m \u001b[39mlen\u001b[39m(servers) \u001b[39m==\u001b[39m \u001b[39m1\u001b[39m:\n\u001b[0;32m    288\u001b[0m         \u001b[39mreturn\u001b[39;00m servers[\u001b[39m0\u001b[39m]\n",
      "File \u001b[1;32mc:\\Users\\becode\\AppData\\Local\\Programs\\Python\\Python311\\Lib\\site-packages\\pymongo\\topology.py:237\u001b[0m, in \u001b[0;36mTopology.select_servers\u001b[1;34m(self, selector, server_selection_timeout, address)\u001b[0m\n\u001b[0;32m    234\u001b[0m     server_timeout \u001b[39m=\u001b[39m server_selection_timeout\n\u001b[0;32m    236\u001b[0m \u001b[39mwith\u001b[39;00m \u001b[39mself\u001b[39m\u001b[39m.\u001b[39m_lock:\n\u001b[1;32m--> 237\u001b[0m     server_descriptions \u001b[39m=\u001b[39m \u001b[39mself\u001b[39;49m\u001b[39m.\u001b[39;49m_select_servers_loop(selector, server_timeout, address)\n\u001b[0;32m    239\u001b[0m     \u001b[39mreturn\u001b[39;00m [\n\u001b[0;32m    240\u001b[0m         cast(Server, \u001b[39mself\u001b[39m\u001b[39m.\u001b[39mget_server_by_address(sd\u001b[39m.\u001b[39maddress)) \u001b[39mfor\u001b[39;00m sd \u001b[39min\u001b[39;00m server_descriptions\n\u001b[0;32m    241\u001b[0m     ]\n",
      "File \u001b[1;32mc:\\Users\\becode\\AppData\\Local\\Programs\\Python\\Python311\\Lib\\site-packages\\pymongo\\topology.py:259\u001b[0m, in \u001b[0;36mTopology._select_servers_loop\u001b[1;34m(self, selector, timeout, address)\u001b[0m\n\u001b[0;32m    256\u001b[0m \u001b[39mwhile\u001b[39;00m \u001b[39mnot\u001b[39;00m server_descriptions:\n\u001b[0;32m    257\u001b[0m     \u001b[39m# No suitable servers.\u001b[39;00m\n\u001b[0;32m    258\u001b[0m     \u001b[39mif\u001b[39;00m timeout \u001b[39m==\u001b[39m \u001b[39m0\u001b[39m \u001b[39mor\u001b[39;00m now \u001b[39m>\u001b[39m end_time:\n\u001b[1;32m--> 259\u001b[0m         \u001b[39mraise\u001b[39;00m ServerSelectionTimeoutError(\n\u001b[0;32m    260\u001b[0m             \u001b[39mf\u001b[39m\u001b[39m\"\u001b[39m\u001b[39m{\u001b[39;00m\u001b[39mself\u001b[39m\u001b[39m.\u001b[39m_error_message(selector)\u001b[39m}\u001b[39;00m\u001b[39m, Timeout: \u001b[39m\u001b[39m{\u001b[39;00mtimeout\u001b[39m}\u001b[39;00m\u001b[39ms, Topology Description: \u001b[39m\u001b[39m{\u001b[39;00m\u001b[39mself\u001b[39m\u001b[39m.\u001b[39mdescription\u001b[39m!r}\u001b[39;00m\u001b[39m\"\u001b[39m\n\u001b[0;32m    261\u001b[0m         )\n\u001b[0;32m    263\u001b[0m     \u001b[39mself\u001b[39m\u001b[39m.\u001b[39m_ensure_opened()\n\u001b[0;32m    264\u001b[0m     \u001b[39mself\u001b[39m\u001b[39m.\u001b[39m_request_check_all()\n",
      "\u001b[1;31mServerSelectionTimeoutError\u001b[0m: localhost:27017: [WinError 10061] No connection could be made because the target machine actively refused it (configured timeouts: socketTimeoutMS: 20000.0ms, connectTimeoutMS: 20000.0ms), Timeout: 30s, Topology Description: <TopologyDescription id: 65450f8be1cfa983c680f472, topology_type: Unknown, servers: [<ServerDescription ('localhost', 27017) server_type: Unknown, rtt: None, error=AutoReconnect('localhost:27017: [WinError 10061] No connection could be made because the target machine actively refused it (configured timeouts: socketTimeoutMS: 20000.0ms, connectTimeoutMS: 20000.0ms)')>]>"
     ]
    }
   ],
   "source": [
    "from pymongo import MongoClient\n",
    "\n",
    "# Creation of a MongoDB Client (by giving the host and the port)\n",
    "client = MongoClient(host=\"localhost\", port=27017)\n",
    "\n",
    "# Instantiation of the database\n",
    "db = client[\"becode\"]\n",
    "\n",
    "# Let's see which collections are in the database\n",
    "db.list_collection_names()"
   ]
  },
  {
   "cell_type": "markdown",
   "metadata": {},
   "source": [
    "### Basic Queries\n",
    "\n",
    "**1. Show the first leader of the `leaders` collection by using the `find_one` method.**\n",
    "\n",
    "\n",
    "The corresponding `SQL` query would be :\n",
    "\n",
    "```sql\n",
    "SELECT * FROM leaders LIMIT 1;\n",
    "```"
   ]
  },
  {
   "cell_type": "code",
   "execution_count": 6,
   "metadata": {},
   "outputs": [
    {
     "data": {
      "text/plain": [
       "{'_id': ObjectId('64da27087c3cf3ff960cd957'),\n",
       " 'id': 'Q7747',\n",
       " 'first_name': 'Vladimir',\n",
       " 'last_name': 'Putin',\n",
       " 'birth_date': '1952-10-07',\n",
       " 'death_date': None,\n",
       " 'place_of_birth': 'Saint Petersburg',\n",
       " 'wikipedia_url': 'https://ru.wikipedia.org/wiki/%D0%9F%D1%83%D1%82%D0%B8%D0%BD,_%D0%92%D0%BB%D0%B0%D0%B4%D0%B8%D0%BC%D0%B8%D1%80_%D0%92%D0%BB%D0%B0%D0%B4%D0%B8%D0%BC%D0%B8%D1%80%D0%BE%D0%B2%D0%B8%D1%87',\n",
       " 'start_mandate': '2000-05-07',\n",
       " 'end_mandate': '2008-05-07',\n",
       " 'country': 'ru'}"
      ]
     },
     "execution_count": 6,
     "metadata": {},
     "output_type": "execute_result"
    }
   ],
   "source": [
    "db[\"leaders\"].find_one()"
   ]
  },
  {
   "cell_type": "markdown",
   "metadata": {},
   "source": [
    "**2. Show the first leader of the collection whose country is Belgium**\n",
    "\n",
    "To that purpose we will use the query as first parameter of the `find_one` function. The query is formatted as a dictionary.\n",
    "\n",
    "In SQL it would be like adding a `WHERE` condition to the query:\n",
    "\n",
    "```sql\n",
    "SELECT * FROM leaders WHERE country = 'be' LIMIT 1;\n",
    "```"
   ]
  },
  {
   "cell_type": "code",
   "execution_count": 7,
   "metadata": {},
   "outputs": [
    {
     "data": {
      "text/plain": [
       "{'_id': ObjectId('64da27087c3cf3ff960cd986'),\n",
       " 'id': 'Q12981',\n",
       " 'first_name': 'Yves',\n",
       " 'last_name': 'Leterme',\n",
       " 'birth_date': '1960-10-06',\n",
       " 'death_date': None,\n",
       " 'place_of_birth': 'Wervik',\n",
       " 'wikipedia_url': 'https://nl.wikipedia.org/wiki/Yves_Leterme',\n",
       " 'start_mandate': '2009-11-25',\n",
       " 'end_mandate': '2011-12-06',\n",
       " 'country': 'be'}"
      ]
     },
     "execution_count": 7,
     "metadata": {},
     "output_type": "execute_result"
    }
   ],
   "source": [
    "db[\"leaders\"].find_one({\"country\": \"be\"})"
   ]
  },
  {
   "cell_type": "markdown",
   "metadata": {},
   "source": [
    "**3. Select some fields to display**\n",
    "\n",
    "Let's use the same query by displaying only the `first_name` and the `last_name` of the leader. It corresponds to a `SELECT` in SQL.\n",
    "\n",
    "We will use the [project](https://www.mongodb.com/docs/manual/tutorial/project-fields-from-query-results/) as the second parameter of the function. It is also formatted as a dictionary whose the key contains the targeted field and the value is `1` if we want the field to be displayed\n",
    "\n",
    "The corresponding SQL query would be:\n",
    "\n",
    "```sql\n",
    "SELECT first_name, last_name FROM leaders WHERE country = 'be' LIMIT 1;\n",
    "```"
   ]
  },
  {
   "cell_type": "code",
   "execution_count": 8,
   "metadata": {},
   "outputs": [
    {
     "data": {
      "text/plain": [
       "{'_id': ObjectId('64da27087c3cf3ff960cd986'),\n",
       " 'first_name': 'Yves',\n",
       " 'last_name': 'Leterme'}"
      ]
     },
     "execution_count": 8,
     "metadata": {},
     "output_type": "execute_result"
    }
   ],
   "source": [
    "db[\"leaders\"].find_one({\"country\": \"be\"}, {\"first_name\": 1, \"last_name\": 1})"
   ]
  },
  {
   "cell_type": "markdown",
   "metadata": {},
   "source": [
    "We can also decide to not display a field. In that case we put `0` as value for the dictionary."
   ]
  },
  {
   "cell_type": "code",
   "execution_count": 9,
   "metadata": {},
   "outputs": [
    {
     "data": {
      "text/plain": [
       "{'_id': ObjectId('64da27087c3cf3ff960cd986'),\n",
       " 'first_name': 'Yves',\n",
       " 'last_name': 'Leterme',\n",
       " 'birth_date': '1960-10-06',\n",
       " 'death_date': None,\n",
       " 'place_of_birth': 'Wervik',\n",
       " 'start_mandate': '2009-11-25',\n",
       " 'end_mandate': '2011-12-06',\n",
       " 'country': 'be'}"
      ]
     },
     "execution_count": 9,
     "metadata": {},
     "output_type": "execute_result"
    }
   ],
   "source": [
    "db[\"leaders\"].find_one({\"country\": \"be\"}, {\"wikipedia_url\": 0, \"id\": 0})"
   ]
  },
  {
   "cell_type": "markdown",
   "metadata": {},
   "source": [
    "**5. Find the distinct countries.**\n",
    "\n",
    "The SQL equivalent:\n",
    "\n",
    "```sql\n",
    "SELECT DISTINCT country FROM leaders;\n",
    "```"
   ]
  },
  {
   "cell_type": "code",
   "execution_count": 10,
   "metadata": {},
   "outputs": [
    {
     "data": {
      "text/plain": [
       "['be', 'fr', 'ma', 'ru', 'us']"
      ]
     },
     "execution_count": 10,
     "metadata": {},
     "output_type": "execute_result"
    }
   ],
   "source": [
    "db[\"leaders\"].find().distinct(\"country\")"
   ]
  },
  {
   "cell_type": "markdown",
   "metadata": {},
   "source": [
    "**6. Find all the leaders who are still alive.**\n",
    "\n",
    "We can assume that they have no `death_date`, isn't?"
   ]
  },
  {
   "cell_type": "code",
   "execution_count": 12,
   "metadata": {},
   "outputs": [
    {
     "data": {
      "text/plain": [
       "<pymongo.cursor.Cursor at 0x228d5532e50>"
      ]
     },
     "execution_count": 12,
     "metadata": {},
     "output_type": "execute_result"
    }
   ],
   "source": [
    "db[\"leaders\"].find({\"death_date\": None}, {\"last_name\":1, \"first_name\":1, \"country\":1})"
   ]
  },
  {
   "cell_type": "markdown",
   "metadata": {},
   "source": [
    "As you see the `find` command returns a cursor. No worries we can process it by using a simple Python loop!"
   ]
  },
  {
   "cell_type": "code",
   "execution_count": 13,
   "metadata": {},
   "outputs": [
    {
     "name": "stdout",
     "output_type": "stream",
     "text": [
      "Vladimir Putin (ru)\n",
      "Mohammed None (ma)\n",
      "Dmitry Medvedev (ru)\n",
      "Mohammed None (ma)\n",
      "Mohammed None (ma)\n",
      "Barack Obama (us)\n",
      "Joe Biden (us)\n",
      "Bill Clinton (us)\n",
      "George Bush (us)\n",
      "Donald Trump (us)\n",
      "Jimmy Carter (us)\n",
      "Yves Leterme (be)\n",
      "Herman Van Rompaey (be)\n",
      "Guy Verhofstadt (be)\n",
      "Elio Di Rupo (be)\n",
      "Alexander De Croo (be)\n",
      "Mark Eyskens (be)\n",
      "Sophie Wilmès (be)\n",
      "François Hollande (fr)\n",
      "Nicolas Sarkozy (fr)\n",
      "Charles Michel (be)\n",
      "Emmanuel Macron (fr)\n"
     ]
    }
   ],
   "source": [
    "for leader in db[\"leaders\"].find({\"death_date\": None}, {\"last_name\":1, \"first_name\":1, \"country\":1}):\n",
    "    print(f\"{leader['first_name']} {leader['last_name']} ({leader['country']})\")"
   ]
  },
  {
   "cell_type": "markdown",
   "metadata": {},
   "source": [
    "**7. Let's now insert the leader of tomorrow: you?**\n",
    "\n",
    "As you know, MongoDB is flexible. It means that you can add entries although some fields are missing. Let's give a try:"
   ]
  },
  {
   "cell_type": "code",
   "execution_count": 14,
   "metadata": {},
   "outputs": [
    {
     "data": {
      "text/plain": [
       "<pymongo.results.InsertOneResult at 0x228d4301450>"
      ]
     },
     "execution_count": 14,
     "metadata": {},
     "output_type": "execute_result"
    }
   ],
   "source": [
    "you = {\n",
    "    'first_name': 'ADD HERE YOUR FIRST NAME',\n",
    "    'last_name': 'ADD HERE YOUR LAST NAME',\n",
    "    'birth_date': 'ADD HERE YOUR BIRTH DATE',\n",
    "    'country': 'ADD HERE YOUR COUNTRY CODE'\n",
    "}\n",
    "db[\"leaders\"].insert_one(you)"
   ]
  },
  {
   "cell_type": "markdown",
   "metadata": {},
   "source": [
    "Let's have a look to your data!"
   ]
  },
  {
   "cell_type": "code",
   "execution_count": 15,
   "metadata": {},
   "outputs": [
    {
     "data": {
      "text/plain": [
       "{'_id': ObjectId('64da27ea17ab33d0790aedb2'),\n",
       " 'first_name': 'ADD HERE YOUR FIRST NAME',\n",
       " 'last_name': 'ADD HERE YOUR LAST NAME',\n",
       " 'birth_date': 'ADD HERE YOUR BIRTH DATE',\n",
       " 'country': 'ADD HERE YOUR COUNTRY CODE'}"
      ]
     },
     "execution_count": 15,
     "metadata": {},
     "output_type": "execute_result"
    }
   ],
   "source": [
    "db[\"leaders\"].find_one({\"first_name\": \"ADD HERE YOUR FIRST NAME\"})"
   ]
  },
  {
   "cell_type": "markdown",
   "metadata": {},
   "source": [
    "We can observe two things here:\n",
    "- A field `_id` has been automatically added by Mongo. This field is incremental. That means that it will always be higher than the previous element of the collection.\n",
    "- Some fields are missing (the `place_of_birth` for instance). This is a property of NoSQL. All fields are not mandatory!\n",
    "\n",
    "We can check missing values by using the query `{\"$exists\":False}`:"
   ]
  },
  {
   "cell_type": "code",
   "execution_count": 16,
   "metadata": {},
   "outputs": [
    {
     "name": "stdout",
     "output_type": "stream",
     "text": [
      "{'_id': ObjectId('64da27ea17ab33d0790aedb2'), 'first_name': 'ADD HERE YOUR FIRST NAME', 'last_name': 'ADD HERE YOUR LAST NAME', 'birth_date': 'ADD HERE YOUR BIRTH DATE', 'country': 'ADD HERE YOUR COUNTRY CODE'}\n"
     ]
    }
   ],
   "source": [
    "for leader in db[\"leaders\"].find({\"place_of_birth\":{\"$exists\":False}}):\n",
    "    print(leader)"
   ]
  },
  {
   "cell_type": "markdown",
   "metadata": {},
   "source": [
    "### Update data\n",
    "\n",
    "Since your place of birth is missing in the data, let's add it now. The update function has two main arguments:\n",
    "- a query that will select the entries to update\n",
    "- an update operation. As always, it is formatted as a dictionary"
   ]
  },
  {
   "cell_type": "code",
   "execution_count": 17,
   "metadata": {},
   "outputs": [
    {
     "data": {
      "text/plain": [
       "<pymongo.results.UpdateResult at 0x228d551e800>"
      ]
     },
     "execution_count": 17,
     "metadata": {},
     "output_type": "execute_result"
    }
   ],
   "source": [
    "db[\"leaders\"].update_one({\"first_name\": \"ADD HERE YOUR FIRST NAME\"}, {\"$set\": {\"place_of_birth\": \"ADD HERE YOUR PLACE OF BIRTH\"}})"
   ]
  },
  {
   "cell_type": "markdown",
   "metadata": {},
   "source": [
    "#### Remove data\n",
    "\n",
    "Your dream is over ;-) Since you will not be a leader of tomorrow, we will remove you from the collection. The `delete` (or `delete_one`) function has one main argument: the query that will select the entries to be removed."
   ]
  },
  {
   "cell_type": "code",
   "execution_count": 18,
   "metadata": {},
   "outputs": [
    {
     "data": {
      "text/plain": [
       "<pymongo.results.DeleteResult at 0x228d3286890>"
      ]
     },
     "execution_count": 18,
     "metadata": {},
     "output_type": "execute_result"
    }
   ],
   "source": [
    "db[\"leaders\"].delete_one({\"first_name\": \"ADD HERE YOUR FIRST NAME\"})"
   ]
  },
  {
   "cell_type": "markdown",
   "metadata": {},
   "source": [
    "## Your Turn!\n",
    "\n",
    "Based on your knowledge and some Google search try to create the following queries:\n",
    "\n",
    "- Remove the leaders who have an empty or null (`None`) last name\n",
    "- Display all unique first names from the collection\n",
    "- Transform all the dates of the dataset by a datetime object (they are currently strings which is not a good practice). You can use a python script that interacts with the DB instead of doing everything in a single query\n",
    "- Display the 10 older leaders ordered by their birth date (search for how to sort and to use limits in MongoDB)\n",
    "- Create a Python script that computes the numbers of leaders by country\n",
    "- Do the same by using a MongoDB [aggregation pipeline](https://www.mongodb.com/docs/manual/aggregation/)"
   ]
  },
  {
   "cell_type": "code",
   "execution_count": null,
   "metadata": {},
   "outputs": [],
   "source": [
    "# Your code here (feel free to add some extra code blocks!)"
   ]
  },
  {
   "cell_type": "markdown",
   "metadata": {},
   "source": [
    "## Resources:\n",
    "* [NoSQL Concepts (DataCamp)](https://www.datacamp.com/courses/nosql-concepts)\n",
    "* [Introduction to MongoDB using Python (DataCamp)](https://www.datacamp.com/courses/introduction-to-using-mongodb-for-data-science-with-python)\n",
    "* [Getting started with MongoDB](https://docs.mongodb.com/manual/tutorial/)\n",
    "* [Python MongoDB Tutorial](https://www.mongodb.com/blog/post/getting-started-with-python-and-mongodb)\n",
    "* [Introduction to MongoDB Learning Path](https://learn.mongodb.com/learning-paths/introduction-to-mongodb)\n",
    "* [Build an App With Python, Flask, and MongoDB to Track UFOs](https://www.mongodb.com/developer/languages/python/flask-app-ufo-tracking/)"
   ]
  }
 ],
 "metadata": {
  "kernelspec": {
   "display_name": "Python 3.8.6 64-bit",
   "language": "python",
   "name": "python3"
  },
  "language_info": {
   "codemirror_mode": {
    "name": "ipython",
    "version": 3
   },
   "file_extension": ".py",
   "mimetype": "text/x-python",
   "name": "python",
   "nbconvert_exporter": "python",
   "pygments_lexer": "ipython3",
   "version": "3.11.5"
  },
  "vscode": {
   "interpreter": {
    "hash": "082e9a3bcad0a290d0001e938aa60b99250c6c2ef33a923c00b70f9826caf4b7"
   }
  }
 },
 "nbformat": 4,
 "nbformat_minor": 4
}
