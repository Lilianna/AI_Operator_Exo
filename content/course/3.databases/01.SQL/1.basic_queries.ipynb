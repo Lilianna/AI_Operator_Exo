{
 "cells": [
  {
   "cell_type": "markdown",
   "metadata": {},
   "source": [
    "# SQL: Basic queries on relational databases\n",
    "\n",
    "## Relational databases: Review\n",
    "\n",
    "A  **relational database** is a way of structuring information in tables, rows, and columns. You could compare it to an excel file (database) with several sheets (tables) that contain tabular data (rows and columns). The particularity of this database is its ability to create relationships between those tables by joining them.\n",
    "\n",
    "What is exactly a `join` ? Let's take an example by looking to the schema of a database of a music producer. You can see here that certain fields are common between several tables.\n",
    "\n",
    "For example: `ArtistID` exists in `artists` and in `albums`. Consequently the information from an artist can be included (_joined_) to the information of his/her albums.\n",
    "\n",
    "<img src=\"https://www.sqlitetutorial.net/wp-content/uploads/2015/11/sqlite-sample-database-color.jpg\" />\n",
    "\n",
    "SQL (Structured Query Language) is one of the most common languages for interacting with a relational database. It allows you to perform efficient and precise queries on the database, including queries among different tables.\n",
    "\n",
    "SQL mainly allows you to `select`, `insert`, `update` or `delete` data from the DB.\n",
    "\n",
    "Before diving in the exercises:\n",
    "\n",
    "- You can learn the basics of SQL language by practicing [this tutorial](https://www.w3schools.com/sql/sql_syntax.asp)\n",
    "- Try to understand the structure of the DB based on its schema. You will get more information about it [here](https://www.sqlitetutorial.net/sqlite-sample-database/)\n",
    "\n",
    "Now, let's do some exercices by using SQLite and the python module `sqlite3`. You don't need to install it, it is included in the Python distribution. Read more: [SQLite3 Documentation](https://docs.python.org/3/library/sqlite3.html).\n",
    "\n",
    "\n"
   ]
  },
  {
   "cell_type": "markdown",
   "metadata": {},
   "source": [
    "### Connetion to the database\n",
    "\n",
    "We need to create a new database and open a database connection to allow `sqlite3` to work with it. Call `sqlite3.connect()` to create a connection to the database in the current working directory, implicitly creating it if it does not exist.\n",
    "\n",
    "In order to execute SQL statements and fetch results from SQL queries, we will need to use a database cursor. Call `con.cursor()` to create the `Cursor`."
   ]
  },
  {
   "cell_type": "code",
   "execution_count": 11,
   "metadata": {},
   "outputs": [],
   "source": [
    "import sqlite3\n",
    "\n",
    "connexion = sqlite3.connect(\"../data/chinook.db\")\n",
    "cursor = connexion.cursor()"
   ]
  },
  {
   "cell_type": "code",
   "execution_count": 25,
   "metadata": {},
   "outputs": [
    {
     "name": "stdout",
     "output_type": "stream",
     "text": [
      "albums\n",
      "sqlite_sequence\n",
      "artists\n",
      "customers\n",
      "employees\n",
      "genres\n",
      "invoices\n",
      "invoice_items\n",
      "media_types\n",
      "playlists\n",
      "playlist_track\n",
      "tracks\n",
      "sqlite_stat1\n"
     ]
    }
   ],
   "source": [
    "import sqlite3\n",
    "\n",
    "# Replace 'your_database.db' with the path to your .db file\n",
    "db_file = \"../data/chinook.db\"\n",
    "\n",
    "# Connect to the SQLite database\n",
    "conn = sqlite3.connect(db_file)\n",
    "\n",
    "# Create a cursor object to interact with the database\n",
    "cursor = conn.cursor()\n",
    "\n",
    "# Execute an SQL query to retrieve the list of tables\n",
    "cursor.execute(\"SELECT name FROM sqlite_master WHERE type='table';\")\n",
    "\n",
    "# Fetch all the table names\n",
    "tables = cursor.fetchall()\n",
    "\n",
    "# Close the database connection\n",
    "# conn.close()\n",
    "\n",
    "# Print the list of tables\n",
    "for table in tables:\n",
    "    print(table[0])\n"
   ]
  },
  {
   "cell_type": "markdown",
   "metadata": {},
   "source": [
    "## Basic Queries\n",
    "\n",
    "**1. Show the 10 first entries of the table `artists`**\n",
    "\n",
    "The basic command in SQL is `SELECT` which is used for retrieving elements of certain columns `FROM` a table. `SELECT` indicates the columns to retrieve. By using `*` we chose to get keep all the columns. The keyword `LIMIT` is used for retrieving only the first `n` rows from the table.\n",
    "\n",
    "You can use `cursor.execute()` to execute that query and call `cursor.fetchall()` to fetch the resulting rows.\n"
   ]
  },
  {
   "cell_type": "code",
   "execution_count": 26,
   "metadata": {},
   "outputs": [
    {
     "data": {
      "text/plain": [
       "[(1, 'AC/DC'),\n",
       " (2, 'Accept'),\n",
       " (3, 'Aerosmith'),\n",
       " (4, 'Alanis Morissette'),\n",
       " (5, 'Alice In Chains'),\n",
       " (6, 'Antônio Carlos Jobim'),\n",
       " (7, 'Apocalyptica'),\n",
       " (8, 'Audioslave'),\n",
       " (9, 'BackBeat'),\n",
       " (10, 'Billy Cobham')]"
      ]
     },
     "execution_count": 26,
     "metadata": {},
     "output_type": "execute_result"
    }
   ],
   "source": [
    "cursor.execute(\"\"\"\n",
    "    SELECT\n",
    "        *\n",
    "    FROM\n",
    "        artists\n",
    "    LIMIT 10;\n",
    "\"\"\")\n",
    "cursor.fetchall()"
   ]
  },
  {
   "cell_type": "code",
   "execution_count": 27,
   "metadata": {},
   "outputs": [
    {
     "name": "stdout",
     "output_type": "stream",
     "text": [
      "Schema information has been saved to 'schema.txt'.\n"
     ]
    }
   ],
   "source": [
    "# EXPORT DATA SCHEMA \n",
    "import sqlite3\n",
    "\n",
    "db_file = '../data/chinook.db'\n",
    "output_file = 'schema.txt'  # The file where schema information will be saved\n",
    "\n",
    "# Connect to the SQLite database\n",
    "conn = sqlite3.connect(db_file)\n",
    "\n",
    "# Create a cursor object to interact with the database\n",
    "cursor = conn.cursor()\n",
    "\n",
    "# Execute an SQL query to retrieve the list of tables\n",
    "cursor.execute(\"SELECT name FROM sqlite_master WHERE type='table';\")\n",
    "\n",
    "# Fetch all the table names\n",
    "tables = cursor.fetchall()\n",
    "\n",
    "# Open the output file in write mode\n",
    "with open(output_file, 'w') as f:\n",
    "    # Iterate through each table and write the schema to the file\n",
    "    for table in tables:\n",
    "        table_name = table[0]\n",
    "        f.write(f\"Table Name: {table_name}\\n\")\n",
    "        \n",
    "        # Use PRAGMA statement to get table info\n",
    "        cursor.execute(f\"PRAGMA table_info({table_name});\")\n",
    "        table_info = cursor.fetchall()\n",
    "        \n",
    "        # Write the schema information for each column to the file\n",
    "        for column in table_info:\n",
    "            column_name = column[1]\n",
    "            data_type = column[2]\n",
    "            not_null = \"NOT NULL\" if column[3] else \"\"\n",
    "            default_value = f\"DEFAULT {column[4]}\" if column[4] is not None else \"\"\n",
    "            \n",
    "            f.write(f\"  - {column_name} {data_type} {not_null} {default_value}\\n\")\n",
    "        \n",
    "        f.write(\"\\n\" + \"=\"*40 + \"\\n\")\n",
    "\n",
    "print(f\"Schema information has been saved to '{output_file}'.\")\n"
   ]
  },
  {
   "cell_type": "code",
   "execution_count": 29,
   "metadata": {},
   "outputs": [
    {
     "name": "stdout",
     "output_type": "stream",
     "text": [
      "Table content has been appended to 'schema.txt'.\n"
     ]
    }
   ],
   "source": [
    "# View all TABLES \n",
    "import sqlite3\n",
    "import pandas as pd\n",
    "\n",
    "# Replace 'your_database.db' with the path to your .db file\n",
    "db_file = '../data/chinook.db'\n",
    "\n",
    "# Connect to the SQLite database\n",
    "conn = sqlite3.connect(db_file)\n",
    "\n",
    "# Create a cursor object to interact with the database\n",
    "cursor = conn.cursor()\n",
    "\n",
    "# Execute an SQL query to retrieve the list of tables\n",
    "cursor.execute(\"SELECT name FROM sqlite_master WHERE type='table';\")\n",
    "\n",
    "# Fetch all the table names\n",
    "tables = cursor.fetchall()\n",
    "\n",
    "# Open the existing 'schema.txt' file in append mode\n",
    "with open('schema.txt', 'a') as f:\n",
    "\n",
    "    # Iterate through each table and append the content to the 'schema.txt' file\n",
    "    for table in tables:\n",
    "        table_name = table[0]\n",
    "        query = f\"SELECT * FROM {table_name} LIMIT 5;\"\n",
    "        df = pd.read_sql_query(query, conn)\n",
    "        \n",
    "        # Append the table name and content to the 'schema.txt' file\n",
    "        f.write(f\"Table Name: {table_name}\\n\")\n",
    "        f.write(df.to_string(index=False) + \"\\n\")\n",
    "        f.write(\"\\n\" + \"=\"*40 + \"\\n\")\n",
    "\n",
    "print(\"Table content has been appended to 'schema.txt'.\")\n"
   ]
  },
  {
   "cell_type": "code",
   "execution_count": 30,
   "metadata": {},
   "outputs": [
    {
     "name": "stdout",
     "output_type": "stream",
     "text": [
      "Linked columns have been appended to 'schema.txt'.\n"
     ]
    }
   ],
   "source": [
    "import sqlite3\n",
    "\n",
    "# Replace 'your_database.db' with the path to your .db file\n",
    "db_file = '../data/chinook.db'\n",
    "\n",
    "# List of table names\n",
    "table_names = [\n",
    "    'albums',\n",
    "    'artists',\n",
    "    'customers',\n",
    "    'employees',\n",
    "    'genres',\n",
    "    'invoices',\n",
    "    'invoice_items',\n",
    "    'media_types',\n",
    "    'playlists',\n",
    "    'playlist_track',\n",
    "    'tracks'\n",
    "]\n",
    "\n",
    "# Open the existing 'schema.txt' file in append mode\n",
    "with open('schema.txt', 'a') as f:\n",
    "\n",
    "    # Connect to the SQLite database\n",
    "    conn = sqlite3.connect(db_file)\n",
    "\n",
    "    # Create a cursor object to interact with the database\n",
    "    cursor = conn.cursor()\n",
    "\n",
    "    # Dictionary to store linked columns for each table\n",
    "    linked_columns = {}\n",
    "\n",
    "    # Iterate through each table and identify linked columns\n",
    "    for table_name in table_names:\n",
    "        cursor.execute(\"PRAGMA foreign_key_list(\" + table_name + \");\")\n",
    "        foreign_keys = cursor.fetchall()\n",
    "\n",
    "        for foreign_key in foreign_keys:\n",
    "            from_column = foreign_key[3]\n",
    "            to_table = foreign_key[4]\n",
    "            to_column = foreign_key[5]\n",
    "\n",
    "            if table_name not in linked_columns:\n",
    "                linked_columns[table_name] = []\n",
    "\n",
    "            linked_columns[table_name].append((from_column, to_table, to_column))\n",
    "\n",
    "    # Write the linked columns to the 'schema.txt' file\n",
    "    for table, columns in linked_columns.items():\n",
    "        f.write(f\"Table: {table}\\n\")\n",
    "        for column_info in columns:\n",
    "            from_column, to_table, to_column = column_info\n",
    "            f.write(f\"  - {from_column} links to {to_table}.{to_column}\\n\")\n",
    "        f.write(\"\\n\" + \"=\"*40 + \"\\n\")\n",
    "\n",
    "# Notify the user\n",
    "print(\"Linked columns have been appended to 'schema.txt'.\")\n"
   ]
  },
  {
   "cell_type": "markdown",
   "metadata": {},
   "source": [
    "**2. Find the ID of Aerosmith** \n",
    "\n",
    "Let's introduce here conditions by using the keyword `WHERE`. The goal is to retrieve only the rows that meet a given condition.\n",
    "\n",
    "Here we will retrive here the column `artistId` from the table `artists` for the entries whose the name is `Aerosmith`."
   ]
  },
  {
   "cell_type": "code",
   "execution_count": 31,
   "metadata": {
    "tags": []
   },
   "outputs": [
    {
     "data": {
      "text/plain": [
       "3"
      ]
     },
     "execution_count": 31,
     "metadata": {},
     "output_type": "execute_result"
    }
   ],
   "source": [
    "query1 = f\"\"\"\n",
    "    SELECT\n",
    "        artistId\n",
    "    FROM\n",
    "        artists\n",
    "    WHERE\n",
    "        name = 'Aerosmith';\n",
    "\"\"\"\n",
    "cursor.execute(query1)\n",
    "artist_id = cursor.fetchone()[0]\n",
    "\n",
    "artist_id"
   ]
  },
  {
   "cell_type": "markdown",
   "metadata": {},
   "source": [
    "**3. Find the IDs of the albums of Aerosmith**\n",
    "\n",
    "Now that we have the `artistId` of Aerosmith we can use it in another query. We will retrieve the field `albumId` for the rows from album whose `artistId` is the one of Aerosmith."
   ]
  },
  {
   "cell_type": "code",
   "execution_count": 9,
   "metadata": {
    "tags": []
   },
   "outputs": [
    {
     "name": "stdout",
     "output_type": "stream",
     "text": [
      "['5']\n"
     ]
    }
   ],
   "source": [
    "query2 = f\"\"\"\n",
    "    SELECT\n",
    "        albumId\n",
    "    FROM \n",
    "        albums \n",
    "    WHERE \n",
    "        artistId = '{artist_id}';\n",
    "\"\"\"\n",
    "albums_ids = []\n",
    "for row in cursor.execute(query2):\n",
    "    albums_ids.append(str(row[0]))\n",
    "\n",
    "print(albums_ids)"
   ]
  },
  {
   "cell_type": "markdown",
   "metadata": {},
   "source": [
    "**4. Find the track names of the albums of Aerosmith**\n",
    "\n",
    "Now that we have the ids of all the albums of Aerosmith we can look for the tracks that are in those albums. We will introduce here the `DISTINCT` keyword that will retrieve unique values only.\n"
   ]
  },
  {
   "cell_type": "code",
   "execution_count": 10,
   "metadata": {
    "tags": []
   },
   "outputs": [
    {
     "name": "stdout",
     "output_type": "stream",
     "text": [
      "Walk On Water\n",
      "Love In An Elevator\n",
      "Rag Doll\n",
      "What It Takes\n",
      "Dude (Looks Like A Lady)\n",
      "Janie's Got A Gun\n",
      "Cryin'\n",
      "Amazing\n",
      "Blind Man\n",
      "Deuces Are Wild\n",
      "The Other Side\n",
      "Crazy\n",
      "Eat The Rich\n",
      "Angel\n",
      "Livin' On The Edge\n"
     ]
    }
   ],
   "source": [
    "query3 = f\"\"\"\n",
    "    SELECT\n",
    "        DISTINCT name\n",
    "    FROM\n",
    "        tracks\n",
    "    WHERE \n",
    "        albumId IN ({\",\".join(albums_ids)});\n",
    "\"\"\"\n",
    "\n",
    "for row in cursor.execute(query3):\n",
    "    print(row[0])"
   ]
  },
  {
   "cell_type": "markdown",
   "metadata": {},
   "source": [
    "**5. Put that in a single query!**\n",
    "\n",
    "Let's do everything we have done so far in a single query.\n",
    "\n",
    "Before that it is important to understand the concept of `PRIMARY KEY` and `FOREIGN KEY`:\n",
    "\n",
    "- **Primary Keys** are fields that are **unique** and cannot be null. It uniquely identifies each record in a table (in general this is the `id` of the item). Each table can have zero or one primary key (not more). This key can consist of one or multiple columns. \n",
    "- **Foreign Keys** are fields in one table that refer to the primary key of another table. One table can contain multiple foreign keys.\n",
    "\n",
    "Let's take an example: \n",
    "* In our dataset the table `artists` has `artistId` as primary key. The table `albums` uses `artistId` as a foreign key to refer to the table `artists`. \n",
    "* The idea of joining table is based on that: we will use the `JOIN` keyword in order to put information from different tables together by using common keys. \n",
    "* The keyword `ON` will specify which keys will be used to join the tables."
   ]
  },
  {
   "cell_type": "code",
   "execution_count": 8,
   "metadata": {},
   "outputs": [
    {
     "name": "stdout",
     "output_type": "stream",
     "text": [
      "Walk On Water\n",
      "Love In An Elevator\n",
      "Rag Doll\n",
      "What It Takes\n",
      "Dude (Looks Like A Lady)\n",
      "Janie's Got A Gun\n",
      "Cryin'\n",
      "Amazing\n",
      "Blind Man\n",
      "Deuces Are Wild\n",
      "The Other Side\n",
      "Crazy\n",
      "Eat The Rich\n",
      "Angel\n",
      "Livin' On The Edge\n"
     ]
    }
   ],
   "source": [
    "query4 = f\"\"\"\n",
    "    SELECT\n",
    "        distinct(tracks.name)\n",
    "    FROM\n",
    "        artists\n",
    "        JOIN albums ON artists.artistId = albums.artistId\n",
    "        JOIN tracks ON albums.albumId = tracks.albumId\n",
    "    WHERE \n",
    "        artists.name = 'Aerosmith';\n",
    "\"\"\"\n",
    "\n",
    "songs = set()\n",
    "for row in cursor.execute(query4):\n",
    "    print(row[0])\n",
    "    "
   ]
  },
  {
   "cell_type": "markdown",
   "metadata": {},
   "source": [
    "**6. Get the most productive artists**\n",
    "\n",
    "Let's count the number of albums by artist by using `GROUP BY`. We will select the artists and group all the albums they have released.\n",
    "\n",
    "`COUNT` will count the number of albums and `AS` will give a variable name to the counter (`nb_albums`).\n",
    "\n",
    "`ORDER BY` will rank the results according to the variable `nb_albums`. `DESC` gives the orientation of the rank (in that case: descending)\n",
    "\n",
    "`LIMIT` will show only the first results of the ranking (i.e. the most productive artists)."
   ]
  },
  {
   "cell_type": "code",
   "execution_count": 7,
   "metadata": {},
   "outputs": [
    {
     "data": {
      "text/plain": [
       "[('Iron Maiden', 21),\n",
       " ('Led Zeppelin', 14),\n",
       " ('Deep Purple', 11),\n",
       " ('Metallica', 10),\n",
       " ('U2', 10),\n",
       " ('Ozzy Osbourne', 6),\n",
       " ('Pearl Jam', 5),\n",
       " ('Various Artists', 4),\n",
       " ('Faith No More', 4),\n",
       " ('Foo Fighters', 4)]"
      ]
     },
     "execution_count": 7,
     "metadata": {},
     "output_type": "execute_result"
    }
   ],
   "source": [
    "query5 = \"\"\"\n",
    "\n",
    "    SELECT\n",
    "        artists.Name,\n",
    "        count(*) AS nb_albums\n",
    "    FROM\n",
    "        artists\n",
    "        JOIN albums on albums.ArtistId = artists.ArtistId\n",
    "    GROUP BY\n",
    "        artists.ArtistId\n",
    "    ORDER BY\n",
    "        nb_albums DESC\n",
    "    LIMIT 10;\n",
    "\n",
    "\"\"\"\n",
    "cursor.execute(query5)\n",
    "cursor.fetchall()"
   ]
  },
  {
   "cell_type": "markdown",
   "metadata": {},
   "source": [
    "#### Your turn!\n",
    "\n",
    "Based on your knowledge and some Google search try to create the following queries:\n",
    "\n",
    "- Count the number of tracks for all the albums of AC/DC\n",
    "- List all the artists doing 'Metal' (genre)\n",
    "- List the top 10 of invoiced countries\n",
    "- Calculate the total amount billed to each customer"
   ]
  },
  {
   "cell_type": "code",
   "execution_count": 34,
   "metadata": {},
   "outputs": [
    {
     "data": {
      "text/plain": [
       "[(1, 'For Those About To Rock We Salute You', 10), (4, 'Let There Be Rock', 8)]"
      ]
     },
     "execution_count": 34,
     "metadata": {},
     "output_type": "execute_result"
    }
   ],
   "source": [
    "#- Count the number of tracks for all the albums of AC/DC\n",
    "query_1 = \"\"\"\n",
    "SELECT\n",
    "    albums.AlbumId,\n",
    "    albums.Title AS AlbumTitle,\n",
    "    COUNT(tracks.TrackId) AS NumberOfTracks\n",
    "FROM\n",
    "    albums\n",
    "JOIN artists ON artists.ArtistId = albums.ArtistId\n",
    "JOIN tracks ON tracks.AlbumId = albums.AlbumId\n",
    "WHERE artists.Name = 'AC/DC'\n",
    "GROUP BY albums.AlbumId\n",
    "ORDER BY albums.AlbumId;\n",
    "\"\"\"\n",
    "cursor.execute(query_1)\n",
    "cursor.fetchall()"
   ]
  },
  {
   "cell_type": "code",
   "execution_count": 41,
   "metadata": {},
   "outputs": [
    {
     "data": {
      "text/plain": [
       "[('Apocalyptica',),\n",
       " (None,),\n",
       " ('Tony Iommi, Bill Ward, Geezer Butler, Ozzy Osbourne',),\n",
       " ('Roy Z',),\n",
       " ('Adrian Smith',),\n",
       " ('Eddie Casillas/Roy Z',),\n",
       " ('Molaney/Morris/Roberts/Wainwright',),\n",
       " ('Harris/Tatler',),\n",
       " ('Black Sabbath',),\n",
       " ('Seger',),\n",
       " ('Danzig',),\n",
       " ('Cave',),\n",
       " ('Diamond/Shermann',),\n",
       " ('A.Bouchard/J.Bouchard/S.Pearlman',),\n",
       " ('Traditional',),\n",
       " ('Collins/Van Zandt',),\n",
       " ('Sully Erna',),\n",
       " ('Sully Erna; Tony Rombola',),\n",
       " ('Duff McKagan/Slash/W. Axl Rose',),\n",
       " (\"Izzy Stradlin'/W. Axl Rose\",),\n",
       " ('Billy/Del James/W. Axl Rose/West Arkeen',),\n",
       " ('Bob Dylan',),\n",
       " ('W. Axl Rose',),\n",
       " (\"Izzy Stradlin'\",),\n",
       " ('Slash/W. Axl Rose',),\n",
       " ('Duff McKagan',),\n",
       " ('Steve Harris',),\n",
       " (\"Paul Di'Anno/Steve Harris\",),\n",
       " (\"David Murray/Paul Di'Anno/Steve Harris\",),\n",
       " ('Adrian Smith/Bruce Dickinson',),\n",
       " ('Bruce Dickinson/Janick Gers',),\n",
       " ('Adrian Smith/Bruce Dickinson/Steve Harris',),\n",
       " ('Bruce Dickinson/Steve Harris',),\n",
       " ('Bruce Dickinson',),\n",
       " ('Smith/Dickinson',),\n",
       " ('Harris',),\n",
       " ('Dickinson',),\n",
       " ('Harris/Di Anno',),\n",
       " ('Bruce Dickinson/David Murray',),\n",
       " ('David Murray/Steve Harris',),\n",
       " ('Dickinson/Smith',),\n",
       " ('Bruce Dickinson/Janick Gers/Steve Harris',),\n",
       " ('Bruce Dickinson/David Murray/Steve Harris',),\n",
       " ('Janick Gers/Steve Harris',),\n",
       " ('Adrian Smith; Bruce Dickinson',),\n",
       " ('Adrian Smith; Bruce Dickinson; Steve Harris',),\n",
       " ('Dave Murray; Steve Harris',),\n",
       " ('Bruce Dickinson; Harris',),\n",
       " ('Adrian Smith/Steve Harris',),\n",
       " ('Adrian Smith/Clive Burr/Steve Harris',),\n",
       " ('James Hetfield, Lars Ulrich and Kirk Hammett',),\n",
       " ('Ulrich',),\n",
       " ('James Hetfield, Lars Ulrich and Jason Newsted',),\n",
       " ('Holocaust',),\n",
       " ('Killing Joke',),\n",
       " ('Bourge/Phillips/Shelley',),\n",
       " ('Jones/Sirotto/Smith',),\n",
       " ('Deacon/May/Mercury/Taylor',),\n",
       " ('Culmer/Exalt',),\n",
       " ('Sweet Savage',),\n",
       " ('Clarke/Kilmister/Tayler',),\n",
       " ('Clarke/Farren/Kilmister/Tayler',),\n",
       " ('James Hetfield, Lars Ulrich',),\n",
       " ('James Hetfield, Lars Ulrich, Dave Mustaine',),\n",
       " ('James Hetfield',),\n",
       " ('Cliff Burton',),\n",
       " ('James Hetfield, Lars Ulrich, Kirk Hammett',),\n",
       " ('J.Hetfield/L.Ulrich',),\n",
       " ('K.Hammett',),\n",
       " ('C.Burton',),\n",
       " ('Hetfield, Ulrich, Hammett',),\n",
       " ('Hetfield, Ulrich',),\n",
       " ('Hetfield, Ulrich, Newsted',),\n",
       " ('Metallica',),\n",
       " ('Bob Rock/James Hetfield/Kirk Hammett/Lars Ulrich',),\n",
       " ('James Hetfield, Lars Ulrich & Jason Newsted',),\n",
       " ('James Hetfield, Lars Ulrich & Kirk Hammett',),\n",
       " ('James Hetfield & Lars Ulrich',),\n",
       " ('James Hetfield and Lars Ulrich',),\n",
       " ('James Hetfield, Lars Ulrich and Cliff Burton',),\n",
       " ('Clarke/Kilmister/Taylor',),\n",
       " ('Heath/Robinson',),\n",
       " ('Dufort/Johnson/McAuliffe/Williams',),\n",
       " ('Mick Mars/Nikki Sixx/Tommy Lee/Vince Neil',),\n",
       " ('Mick Mars/Nikki Sixx/Tommy Lee',),\n",
       " ('Nikki Sixx',),\n",
       " ('Nikki Sixx/Tommy Lee/Vince Neil',),\n",
       " ('Bryan Adams/Nikki Sixx/Scott Humphrey',),\n",
       " ('Mick Mars/Nikki Sixx',),\n",
       " ('Cub Coda/Michael Lutz',),\n",
       " ('O. Osbourne, R. Daisley, R. Rhoads',),\n",
       " ('O. Osbourne, R. Daisley, R. Rhoads, L. Kerslake',),\n",
       " ('A. F. Iommi, W. Ward, T. Butler, J. Osbourne',),\n",
       " ('R. Rhoads',),\n",
       " ('Dolmayan, John/Malakian, Daron/Odadjian, Shavo',),\n",
       " ('Tankian, Serj',),\n",
       " ('Sykes',),\n",
       " ('Marsden',),\n",
       " ('Galley',),\n",
       " ('Vandenberg',),\n",
       " ('Coverdale',),\n",
       " ('Moody',),\n",
       " ('Marsden/Moody',)]"
      ]
     },
     "execution_count": 41,
     "metadata": {},
     "output_type": "execute_result"
    }
   ],
   "source": [
    "#- List all the artists doing 'Metal' (genre)\n",
    "query_2 = \"\"\"\n",
    "SELECT DISTINCT\n",
    "    tracks.Composer\n",
    "FROM \n",
    "    tracks\n",
    "JOIN genres ON tracks.GenreId = genres.GenreId\n",
    "WHERE genres.Name = \"Metal\"\n",
    "\n",
    "\"\"\"\n",
    "cursor.execute(query_2)\n",
    "cursor.fetchall()\n"
   ]
  },
  {
   "cell_type": "code",
   "execution_count": 43,
   "metadata": {},
   "outputs": [
    {
     "data": {
      "text/plain": [
       "[('USA', 91),\n",
       " ('Canada', 56),\n",
       " ('France', 35),\n",
       " ('Brazil', 35),\n",
       " ('Germany', 28),\n",
       " ('United Kingdom', 21),\n",
       " ('Portugal', 14),\n",
       " ('Czech Republic', 14),\n",
       " ('India', 13),\n",
       " ('Sweden', 7)]"
      ]
     },
     "execution_count": 43,
     "metadata": {},
     "output_type": "execute_result"
    }
   ],
   "source": [
    "#- List the top 10 of invoiced countries\n",
    "query_3 = \"\"\"\n",
    " \n",
    "SELECT invoices.BillingCountry, COUNT(invoices.InvoiceId) AS NumberOfInvoices\n",
    "FROM invoices\n",
    "GROUP by invoices.BillingCountry\n",
    "ORDER by NumberOfInvoices DESC\n",
    "LIMIT 10;\n",
    "\n",
    "\"\"\"\n",
    "cursor.execute(query_3)\n",
    "cursor.fetchall()\n",
    "\n"
   ]
  },
  {
   "cell_type": "code",
   "execution_count": 51,
   "metadata": {},
   "outputs": [
    {
     "data": {
      "text/plain": [
       "[('Helena Holý', 49.620000000000005),\n",
       " ('Richard Cunningham', 47.620000000000005),\n",
       " ('Luis Rojas', 46.62),\n",
       " ('Ladislav Kovács', 45.62),\n",
       " (\"Hugh O'Reilly\", 45.62),\n",
       " ('Julia Barnett', 43.620000000000005),\n",
       " ('Frank Ralston', 43.62),\n",
       " ('Fynn Zimmermann', 43.62),\n",
       " ('Astrid Gruber', 42.62),\n",
       " ('Victor Stevens', 42.62)]"
      ]
     },
     "execution_count": 51,
     "metadata": {},
     "output_type": "execute_result"
    }
   ],
   "source": [
    "#- Calculate the total amount billed to each customer\n",
    "query_4 = \"\"\"\n",
    " \n",
    "SELECT customers.FirstName || ' ' || customers.LastName AS CustomerName, SUM(invoices.Total) AS TotalInvoice\n",
    "FROM invoices\n",
    "JOIN customers ON invoices.CustomerId = customers.CustomerId\n",
    "GROUP BY invoices.CustomerId\n",
    "ORDER BY TotalInvoice DESC\n",
    "LIMIT 10;\n",
    "\n",
    "\"\"\"\n",
    "cursor.execute(query_4)\n",
    "cursor.fetchall()\n",
    "# SELECT customers.FirstName + \" \" + customers.LastName AS name, SUM(invoices.Total) AS TotalInvoice\n"
   ]
  },
  {
   "cell_type": "code",
   "execution_count": null,
   "metadata": {},
   "outputs": [],
   "source": [
    "# Close the database connection\n",
    "conn.close()"
   ]
  },
  {
   "cell_type": "markdown",
   "metadata": {},
   "source": [
    "## Resources\n",
    "\n",
    "- [Top 70 most important queries](https://bytescout.com/blog/20-important-sql-queries.html)\n",
    "- [TablePlus](https://tableplus.com/): A nice editor for SQL queries\n",
    "- [SQL Fundamentals ](https://app.datacamp.com/learn/skill-tracks/sql-fundamentals)(DataCamp Track, 5 courses)\n",
    "- [SQL for Business Analysts ](https://app.datacamp.com/learn/skill-tracks/sql-for-business-analysts)(DataCamp Track, 5 courses)\n",
    "- [Data Analyst in SQL ](https://app.datacamp.com/learn/career-tracks/data-analyst-in-sql)(DataCamp Track, 12 courses)\n",
    "- [The 80 Top SQL Interview Questions and Answers for Beginners & Intermediate Practitioners](https://www.datacamp.com/blog/top-sql-interview-questions-and-answers-for-beginners-and-intermediate-practitioners)"
   ]
  }
 ],
 "metadata": {
  "kernelspec": {
   "display_name": "Python 3.9.13 64-bit (microsoft store)",
   "language": "python",
   "name": "python3"
  },
  "language_info": {
   "codemirror_mode": {
    "name": "ipython",
    "version": 3
   },
   "file_extension": ".py",
   "mimetype": "text/x-python",
   "name": "python",
   "nbconvert_exporter": "python",
   "pygments_lexer": "ipython3",
   "version": "3.11.5"
  },
  "vscode": {
   "interpreter": {
    "hash": "5af58ead5434bcaec4ba320c097b4ab95f4d47b5cc097d838e053a401accc545"
   }
  }
 },
 "nbformat": 4,
 "nbformat_minor": 4
}
