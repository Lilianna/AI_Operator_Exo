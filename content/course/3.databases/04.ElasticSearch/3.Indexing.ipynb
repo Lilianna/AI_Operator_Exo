{
 "cells": [
  {
   "cell_type": "markdown",
   "metadata": {},
   "source": [
    "# Indexing documents with ElasticSearch\n",
    "\n",
    "In this notebook we will download a dataset of newspaper articles that we will put in the ElasticSearch index we have created. To that purpose we will use the [ES Python client](https://pypi.org/project/elasticsearch/). You will first need to install it in your Python environment.\n",
    "\n",
    "Let's now connect through Python to the ES instance we have created before, and check its info (exactly as we did in the browser)"
   ]
  },
  {
   "cell_type": "code",
   "execution_count": 1,
   "metadata": {},
   "outputs": [
    {
     "ename": "ConnectionError",
     "evalue": "Connection error caused by: ConnectionError(Connection error caused by: NewConnectionError(<urllib3.connection.HTTPConnection object at 0x000002E67E923D90>: Failed to establish a new connection: [WinError 10061] No connection could be made because the target machine actively refused it))",
     "output_type": "error",
     "traceback": [
      "\u001b[1;31m---------------------------------------------------------------------------\u001b[0m",
      "\u001b[1;31mConnectionError\u001b[0m                           Traceback (most recent call last)",
      "\u001b[1;32mc:\\Users\\becode\\OneDrive\\Desktop\\week1\\repos\\DataOperator_Week1\\content\\course\\3.databases\\04.ElasticSearch\\3.Indexing.ipynb Cell 2\u001b[0m line \u001b[0;36m4\n\u001b[0;32m      <a href='vscode-notebook-cell:/c%3A/Users/becode/OneDrive/Desktop/week1/repos/DataOperator_Week1/content/course/3.databases/04.ElasticSearch/3.Indexing.ipynb#W1sZmlsZQ%3D%3D?line=0'>1</a>\u001b[0m \u001b[39mfrom\u001b[39;00m \u001b[39melasticsearch\u001b[39;00m \u001b[39mimport\u001b[39;00m Elasticsearch\n\u001b[0;32m      <a href='vscode-notebook-cell:/c%3A/Users/becode/OneDrive/Desktop/week1/repos/DataOperator_Week1/content/course/3.databases/04.ElasticSearch/3.Indexing.ipynb#W1sZmlsZQ%3D%3D?line=2'>3</a>\u001b[0m client \u001b[39m=\u001b[39m Elasticsearch(\u001b[39m\"\u001b[39m\u001b[39mhttp://localhost:9200\u001b[39m\u001b[39m\"\u001b[39m)\n\u001b[1;32m----> <a href='vscode-notebook-cell:/c%3A/Users/becode/OneDrive/Desktop/week1/repos/DataOperator_Week1/content/course/3.databases/04.ElasticSearch/3.Indexing.ipynb#W1sZmlsZQ%3D%3D?line=3'>4</a>\u001b[0m \u001b[39mdict\u001b[39m(client\u001b[39m.\u001b[39;49minfo())\n",
      "File \u001b[1;32mc:\\Users\\becode\\AppData\\Local\\Programs\\Python\\Python311\\Lib\\site-packages\\elasticsearch\\_sync\\client\\utils.py:402\u001b[0m, in \u001b[0;36m_rewrite_parameters.<locals>.wrapper.<locals>.wrapped\u001b[1;34m(*args, **kwargs)\u001b[0m\n\u001b[0;32m    399\u001b[0m         \u001b[39mexcept\u001b[39;00m \u001b[39mKeyError\u001b[39;00m:\n\u001b[0;32m    400\u001b[0m             \u001b[39mpass\u001b[39;00m\n\u001b[1;32m--> 402\u001b[0m \u001b[39mreturn\u001b[39;00m api(\u001b[39m*\u001b[39;49margs, \u001b[39m*\u001b[39;49m\u001b[39m*\u001b[39;49mkwargs)\n",
      "File \u001b[1;32mc:\\Users\\becode\\AppData\\Local\\Programs\\Python\\Python311\\Lib\\site-packages\\elasticsearch\\_sync\\client\\__init__.py:2229\u001b[0m, in \u001b[0;36mElasticsearch.info\u001b[1;34m(self, error_trace, filter_path, human, pretty)\u001b[0m\n\u001b[0;32m   2227\u001b[0m     __query[\u001b[39m\"\u001b[39m\u001b[39mpretty\u001b[39m\u001b[39m\"\u001b[39m] \u001b[39m=\u001b[39m pretty\n\u001b[0;32m   2228\u001b[0m __headers \u001b[39m=\u001b[39m {\u001b[39m\"\u001b[39m\u001b[39maccept\u001b[39m\u001b[39m\"\u001b[39m: \u001b[39m\"\u001b[39m\u001b[39mapplication/json\u001b[39m\u001b[39m\"\u001b[39m}\n\u001b[1;32m-> 2229\u001b[0m \u001b[39mreturn\u001b[39;00m \u001b[39mself\u001b[39;49m\u001b[39m.\u001b[39;49mperform_request(  \u001b[39m# type: ignore[return-value]\u001b[39;49;00m\n\u001b[0;32m   2230\u001b[0m     \u001b[39m\"\u001b[39;49m\u001b[39mGET\u001b[39;49m\u001b[39m\"\u001b[39;49m, __path, params\u001b[39m=\u001b[39;49m__query, headers\u001b[39m=\u001b[39;49m__headers\n\u001b[0;32m   2231\u001b[0m )\n",
      "File \u001b[1;32mc:\\Users\\becode\\AppData\\Local\\Programs\\Python\\Python311\\Lib\\site-packages\\elasticsearch\\_sync\\client\\_base.py:285\u001b[0m, in \u001b[0;36mBaseClient.perform_request\u001b[1;34m(self, method, path, params, headers, body)\u001b[0m\n\u001b[0;32m    282\u001b[0m \u001b[39melse\u001b[39;00m:\n\u001b[0;32m    283\u001b[0m     target \u001b[39m=\u001b[39m path\n\u001b[1;32m--> 285\u001b[0m meta, resp_body \u001b[39m=\u001b[39m \u001b[39mself\u001b[39;49m\u001b[39m.\u001b[39;49mtransport\u001b[39m.\u001b[39;49mperform_request(\n\u001b[0;32m    286\u001b[0m     method,\n\u001b[0;32m    287\u001b[0m     target,\n\u001b[0;32m    288\u001b[0m     headers\u001b[39m=\u001b[39;49mrequest_headers,\n\u001b[0;32m    289\u001b[0m     body\u001b[39m=\u001b[39;49mbody,\n\u001b[0;32m    290\u001b[0m     request_timeout\u001b[39m=\u001b[39;49m\u001b[39mself\u001b[39;49m\u001b[39m.\u001b[39;49m_request_timeout,\n\u001b[0;32m    291\u001b[0m     max_retries\u001b[39m=\u001b[39;49m\u001b[39mself\u001b[39;49m\u001b[39m.\u001b[39;49m_max_retries,\n\u001b[0;32m    292\u001b[0m     retry_on_status\u001b[39m=\u001b[39;49m\u001b[39mself\u001b[39;49m\u001b[39m.\u001b[39;49m_retry_on_status,\n\u001b[0;32m    293\u001b[0m     retry_on_timeout\u001b[39m=\u001b[39;49m\u001b[39mself\u001b[39;49m\u001b[39m.\u001b[39;49m_retry_on_timeout,\n\u001b[0;32m    294\u001b[0m     client_meta\u001b[39m=\u001b[39;49m\u001b[39mself\u001b[39;49m\u001b[39m.\u001b[39;49m_client_meta,\n\u001b[0;32m    295\u001b[0m )\n\u001b[0;32m    297\u001b[0m \u001b[39m# HEAD with a 404 is returned as a normal response\u001b[39;00m\n\u001b[0;32m    298\u001b[0m \u001b[39m# since this is used as an 'exists' functionality.\u001b[39;00m\n\u001b[0;32m    299\u001b[0m \u001b[39mif\u001b[39;00m \u001b[39mnot\u001b[39;00m (method \u001b[39m==\u001b[39m \u001b[39m\"\u001b[39m\u001b[39mHEAD\u001b[39m\u001b[39m\"\u001b[39m \u001b[39mand\u001b[39;00m meta\u001b[39m.\u001b[39mstatus \u001b[39m==\u001b[39m \u001b[39m404\u001b[39m) \u001b[39mand\u001b[39;00m (\n\u001b[0;32m    300\u001b[0m     \u001b[39mnot\u001b[39;00m \u001b[39m200\u001b[39m \u001b[39m<\u001b[39m\u001b[39m=\u001b[39m meta\u001b[39m.\u001b[39mstatus \u001b[39m<\u001b[39m \u001b[39m299\u001b[39m\n\u001b[0;32m    301\u001b[0m     \u001b[39mand\u001b[39;00m (\n\u001b[1;32m   (...)\u001b[0m\n\u001b[0;32m    305\u001b[0m     )\n\u001b[0;32m    306\u001b[0m ):\n",
      "File \u001b[1;32mc:\\Users\\becode\\AppData\\Local\\Programs\\Python\\Python311\\Lib\\site-packages\\elastic_transport\\_transport.py:328\u001b[0m, in \u001b[0;36mTransport.perform_request\u001b[1;34m(self, method, target, body, headers, max_retries, retry_on_status, retry_on_timeout, request_timeout, client_meta)\u001b[0m\n\u001b[0;32m    326\u001b[0m start_time \u001b[39m=\u001b[39m time\u001b[39m.\u001b[39mtime()\n\u001b[0;32m    327\u001b[0m \u001b[39mtry\u001b[39;00m:\n\u001b[1;32m--> 328\u001b[0m     meta, raw_data \u001b[39m=\u001b[39m node\u001b[39m.\u001b[39;49mperform_request(\n\u001b[0;32m    329\u001b[0m         method,\n\u001b[0;32m    330\u001b[0m         target,\n\u001b[0;32m    331\u001b[0m         body\u001b[39m=\u001b[39;49mrequest_body,\n\u001b[0;32m    332\u001b[0m         headers\u001b[39m=\u001b[39;49mrequest_headers,\n\u001b[0;32m    333\u001b[0m         request_timeout\u001b[39m=\u001b[39;49mrequest_timeout,\n\u001b[0;32m    334\u001b[0m     )\n\u001b[0;32m    335\u001b[0m     _logger\u001b[39m.\u001b[39minfo(\n\u001b[0;32m    336\u001b[0m         \u001b[39m\"\u001b[39m\u001b[39m%s\u001b[39;00m\u001b[39m \u001b[39m\u001b[39m%s\u001b[39;00m\u001b[39m%s\u001b[39;00m\u001b[39m [status:\u001b[39m\u001b[39m%s\u001b[39;00m\u001b[39m duration:\u001b[39m\u001b[39m%.3f\u001b[39;00m\u001b[39ms]\u001b[39m\u001b[39m\"\u001b[39m\n\u001b[0;32m    337\u001b[0m         \u001b[39m%\u001b[39m (\n\u001b[1;32m   (...)\u001b[0m\n\u001b[0;32m    343\u001b[0m         )\n\u001b[0;32m    344\u001b[0m     )\n\u001b[0;32m    346\u001b[0m     \u001b[39mif\u001b[39;00m method \u001b[39m!=\u001b[39m \u001b[39m\"\u001b[39m\u001b[39mHEAD\u001b[39m\u001b[39m\"\u001b[39m:\n",
      "File \u001b[1;32mc:\\Users\\becode\\AppData\\Local\\Programs\\Python\\Python311\\Lib\\site-packages\\elastic_transport\\_node\\_http_urllib3.py:202\u001b[0m, in \u001b[0;36mUrllib3HttpNode.perform_request\u001b[1;34m(self, method, target, body, headers, request_timeout)\u001b[0m\n\u001b[0;32m    194\u001b[0m         err \u001b[39m=\u001b[39m \u001b[39mConnectionError\u001b[39;00m(\u001b[39mstr\u001b[39m(e), errors\u001b[39m=\u001b[39m(e,))\n\u001b[0;32m    195\u001b[0m     \u001b[39mself\u001b[39m\u001b[39m.\u001b[39m_log_request(\n\u001b[0;32m    196\u001b[0m         method\u001b[39m=\u001b[39mmethod,\n\u001b[0;32m    197\u001b[0m         target\u001b[39m=\u001b[39mtarget,\n\u001b[1;32m   (...)\u001b[0m\n\u001b[0;32m    200\u001b[0m         exception\u001b[39m=\u001b[39merr,\n\u001b[0;32m    201\u001b[0m     )\n\u001b[1;32m--> 202\u001b[0m     \u001b[39mraise\u001b[39;00m err \u001b[39mfrom\u001b[39;00m \u001b[39mNone\u001b[39;00m\n\u001b[0;32m    204\u001b[0m meta \u001b[39m=\u001b[39m ApiResponseMeta(\n\u001b[0;32m    205\u001b[0m     node\u001b[39m=\u001b[39m\u001b[39mself\u001b[39m\u001b[39m.\u001b[39mconfig,\n\u001b[0;32m    206\u001b[0m     duration\u001b[39m=\u001b[39mduration,\n\u001b[1;32m   (...)\u001b[0m\n\u001b[0;32m    209\u001b[0m     headers\u001b[39m=\u001b[39mresponse_headers,\n\u001b[0;32m    210\u001b[0m )\n\u001b[0;32m    211\u001b[0m \u001b[39mself\u001b[39m\u001b[39m.\u001b[39m_log_request(\n\u001b[0;32m    212\u001b[0m     method\u001b[39m=\u001b[39mmethod,\n\u001b[0;32m    213\u001b[0m     target\u001b[39m=\u001b[39mtarget,\n\u001b[1;32m   (...)\u001b[0m\n\u001b[0;32m    217\u001b[0m     response\u001b[39m=\u001b[39mdata,\n\u001b[0;32m    218\u001b[0m )\n",
      "\u001b[1;31mConnectionError\u001b[0m: Connection error caused by: ConnectionError(Connection error caused by: NewConnectionError(<urllib3.connection.HTTPConnection object at 0x000002E67E923D90>: Failed to establish a new connection: [WinError 10061] No connection could be made because the target machine actively refused it))"
     ]
    }
   ],
   "source": [
    "from elasticsearch import Elasticsearch\n",
    "\n",
    "client = Elasticsearch(\"http://localhost:9200\")\n",
    "dict(client.info())"
   ]
  },
  {
   "cell_type": "markdown",
   "metadata": {},
   "source": [
    "With the following command we can check what are the indices already stored in the ES instance. Since we have not created any index yet, there should not be any result!"
   ]
  },
  {
   "cell_type": "code",
   "execution_count": 2,
   "metadata": {},
   "outputs": [
    {
     "ename": "ConnectionError",
     "evalue": "Connection error caused by: ConnectionError(Connection error caused by: NewConnectionError(<urllib3.connection.HTTPConnection object at 0x000002E67F1994D0>: Failed to establish a new connection: [WinError 10061] No connection could be made because the target machine actively refused it))",
     "output_type": "error",
     "traceback": [
      "\u001b[1;31m---------------------------------------------------------------------------\u001b[0m",
      "\u001b[1;31mConnectionError\u001b[0m                           Traceback (most recent call last)",
      "\u001b[1;32mc:\\Users\\becode\\OneDrive\\Desktop\\week1\\repos\\DataOperator_Week1\\content\\course\\3.databases\\04.ElasticSearch\\3.Indexing.ipynb Cell 4\u001b[0m line \u001b[0;36m1\n\u001b[1;32m----> <a href='vscode-notebook-cell:/c%3A/Users/becode/OneDrive/Desktop/week1/repos/DataOperator_Week1/content/course/3.databases/04.ElasticSearch/3.Indexing.ipynb#W3sZmlsZQ%3D%3D?line=0'>1</a>\u001b[0m \u001b[39mlist\u001b[39m(client\u001b[39m.\u001b[39;49mindices\u001b[39m.\u001b[39;49mget_alias())\n",
      "File \u001b[1;32mc:\\Users\\becode\\AppData\\Local\\Programs\\Python\\Python311\\Lib\\site-packages\\elasticsearch\\_sync\\client\\utils.py:402\u001b[0m, in \u001b[0;36m_rewrite_parameters.<locals>.wrapper.<locals>.wrapped\u001b[1;34m(*args, **kwargs)\u001b[0m\n\u001b[0;32m    399\u001b[0m         \u001b[39mexcept\u001b[39;00m \u001b[39mKeyError\u001b[39;00m:\n\u001b[0;32m    400\u001b[0m             \u001b[39mpass\u001b[39;00m\n\u001b[1;32m--> 402\u001b[0m \u001b[39mreturn\u001b[39;00m api(\u001b[39m*\u001b[39;49margs, \u001b[39m*\u001b[39;49m\u001b[39m*\u001b[39;49mkwargs)\n",
      "File \u001b[1;32mc:\\Users\\becode\\AppData\\Local\\Programs\\Python\\Python311\\Lib\\site-packages\\elasticsearch\\_sync\\client\\indices.py:1720\u001b[0m, in \u001b[0;36mIndicesClient.get_alias\u001b[1;34m(self, index, name, allow_no_indices, error_trace, expand_wildcards, filter_path, human, ignore_unavailable, local, pretty)\u001b[0m\n\u001b[0;32m   1718\u001b[0m     __query[\u001b[39m\"\u001b[39m\u001b[39mpretty\u001b[39m\u001b[39m\"\u001b[39m] \u001b[39m=\u001b[39m pretty\n\u001b[0;32m   1719\u001b[0m __headers \u001b[39m=\u001b[39m {\u001b[39m\"\u001b[39m\u001b[39maccept\u001b[39m\u001b[39m\"\u001b[39m: \u001b[39m\"\u001b[39m\u001b[39mapplication/json\u001b[39m\u001b[39m\"\u001b[39m}\n\u001b[1;32m-> 1720\u001b[0m \u001b[39mreturn\u001b[39;00m \u001b[39mself\u001b[39;49m\u001b[39m.\u001b[39;49mperform_request(  \u001b[39m# type: ignore[return-value]\u001b[39;49;00m\n\u001b[0;32m   1721\u001b[0m     \u001b[39m\"\u001b[39;49m\u001b[39mGET\u001b[39;49m\u001b[39m\"\u001b[39;49m, __path, params\u001b[39m=\u001b[39;49m__query, headers\u001b[39m=\u001b[39;49m__headers\n\u001b[0;32m   1722\u001b[0m )\n",
      "File \u001b[1;32mc:\\Users\\becode\\AppData\\Local\\Programs\\Python\\Python311\\Lib\\site-packages\\elasticsearch\\_sync\\client\\_base.py:389\u001b[0m, in \u001b[0;36mNamespacedClient.perform_request\u001b[1;34m(self, method, path, params, headers, body)\u001b[0m\n\u001b[0;32m    378\u001b[0m \u001b[39mdef\u001b[39;00m \u001b[39mperform_request\u001b[39m(\n\u001b[0;32m    379\u001b[0m     \u001b[39mself\u001b[39m,\n\u001b[0;32m    380\u001b[0m     method: \u001b[39mstr\u001b[39m,\n\u001b[1;32m   (...)\u001b[0m\n\u001b[0;32m    387\u001b[0m     \u001b[39m# Use the internal clients .perform_request() implementation\u001b[39;00m\n\u001b[0;32m    388\u001b[0m     \u001b[39m# so we take advantage of their transport options.\u001b[39;00m\n\u001b[1;32m--> 389\u001b[0m     \u001b[39mreturn\u001b[39;00m \u001b[39mself\u001b[39;49m\u001b[39m.\u001b[39;49m_client\u001b[39m.\u001b[39;49mperform_request(\n\u001b[0;32m    390\u001b[0m         method, path, params\u001b[39m=\u001b[39;49mparams, headers\u001b[39m=\u001b[39;49mheaders, body\u001b[39m=\u001b[39;49mbody\n\u001b[0;32m    391\u001b[0m     )\n",
      "File \u001b[1;32mc:\\Users\\becode\\AppData\\Local\\Programs\\Python\\Python311\\Lib\\site-packages\\elasticsearch\\_sync\\client\\_base.py:285\u001b[0m, in \u001b[0;36mBaseClient.perform_request\u001b[1;34m(self, method, path, params, headers, body)\u001b[0m\n\u001b[0;32m    282\u001b[0m \u001b[39melse\u001b[39;00m:\n\u001b[0;32m    283\u001b[0m     target \u001b[39m=\u001b[39m path\n\u001b[1;32m--> 285\u001b[0m meta, resp_body \u001b[39m=\u001b[39m \u001b[39mself\u001b[39;49m\u001b[39m.\u001b[39;49mtransport\u001b[39m.\u001b[39;49mperform_request(\n\u001b[0;32m    286\u001b[0m     method,\n\u001b[0;32m    287\u001b[0m     target,\n\u001b[0;32m    288\u001b[0m     headers\u001b[39m=\u001b[39;49mrequest_headers,\n\u001b[0;32m    289\u001b[0m     body\u001b[39m=\u001b[39;49mbody,\n\u001b[0;32m    290\u001b[0m     request_timeout\u001b[39m=\u001b[39;49m\u001b[39mself\u001b[39;49m\u001b[39m.\u001b[39;49m_request_timeout,\n\u001b[0;32m    291\u001b[0m     max_retries\u001b[39m=\u001b[39;49m\u001b[39mself\u001b[39;49m\u001b[39m.\u001b[39;49m_max_retries,\n\u001b[0;32m    292\u001b[0m     retry_on_status\u001b[39m=\u001b[39;49m\u001b[39mself\u001b[39;49m\u001b[39m.\u001b[39;49m_retry_on_status,\n\u001b[0;32m    293\u001b[0m     retry_on_timeout\u001b[39m=\u001b[39;49m\u001b[39mself\u001b[39;49m\u001b[39m.\u001b[39;49m_retry_on_timeout,\n\u001b[0;32m    294\u001b[0m     client_meta\u001b[39m=\u001b[39;49m\u001b[39mself\u001b[39;49m\u001b[39m.\u001b[39;49m_client_meta,\n\u001b[0;32m    295\u001b[0m )\n\u001b[0;32m    297\u001b[0m \u001b[39m# HEAD with a 404 is returned as a normal response\u001b[39;00m\n\u001b[0;32m    298\u001b[0m \u001b[39m# since this is used as an 'exists' functionality.\u001b[39;00m\n\u001b[0;32m    299\u001b[0m \u001b[39mif\u001b[39;00m \u001b[39mnot\u001b[39;00m (method \u001b[39m==\u001b[39m \u001b[39m\"\u001b[39m\u001b[39mHEAD\u001b[39m\u001b[39m\"\u001b[39m \u001b[39mand\u001b[39;00m meta\u001b[39m.\u001b[39mstatus \u001b[39m==\u001b[39m \u001b[39m404\u001b[39m) \u001b[39mand\u001b[39;00m (\n\u001b[0;32m    300\u001b[0m     \u001b[39mnot\u001b[39;00m \u001b[39m200\u001b[39m \u001b[39m<\u001b[39m\u001b[39m=\u001b[39m meta\u001b[39m.\u001b[39mstatus \u001b[39m<\u001b[39m \u001b[39m299\u001b[39m\n\u001b[0;32m    301\u001b[0m     \u001b[39mand\u001b[39;00m (\n\u001b[1;32m   (...)\u001b[0m\n\u001b[0;32m    305\u001b[0m     )\n\u001b[0;32m    306\u001b[0m ):\n",
      "File \u001b[1;32mc:\\Users\\becode\\AppData\\Local\\Programs\\Python\\Python311\\Lib\\site-packages\\elastic_transport\\_transport.py:328\u001b[0m, in \u001b[0;36mTransport.perform_request\u001b[1;34m(self, method, target, body, headers, max_retries, retry_on_status, retry_on_timeout, request_timeout, client_meta)\u001b[0m\n\u001b[0;32m    326\u001b[0m start_time \u001b[39m=\u001b[39m time\u001b[39m.\u001b[39mtime()\n\u001b[0;32m    327\u001b[0m \u001b[39mtry\u001b[39;00m:\n\u001b[1;32m--> 328\u001b[0m     meta, raw_data \u001b[39m=\u001b[39m node\u001b[39m.\u001b[39;49mperform_request(\n\u001b[0;32m    329\u001b[0m         method,\n\u001b[0;32m    330\u001b[0m         target,\n\u001b[0;32m    331\u001b[0m         body\u001b[39m=\u001b[39;49mrequest_body,\n\u001b[0;32m    332\u001b[0m         headers\u001b[39m=\u001b[39;49mrequest_headers,\n\u001b[0;32m    333\u001b[0m         request_timeout\u001b[39m=\u001b[39;49mrequest_timeout,\n\u001b[0;32m    334\u001b[0m     )\n\u001b[0;32m    335\u001b[0m     _logger\u001b[39m.\u001b[39minfo(\n\u001b[0;32m    336\u001b[0m         \u001b[39m\"\u001b[39m\u001b[39m%s\u001b[39;00m\u001b[39m \u001b[39m\u001b[39m%s\u001b[39;00m\u001b[39m%s\u001b[39;00m\u001b[39m [status:\u001b[39m\u001b[39m%s\u001b[39;00m\u001b[39m duration:\u001b[39m\u001b[39m%.3f\u001b[39;00m\u001b[39ms]\u001b[39m\u001b[39m\"\u001b[39m\n\u001b[0;32m    337\u001b[0m         \u001b[39m%\u001b[39m (\n\u001b[1;32m   (...)\u001b[0m\n\u001b[0;32m    343\u001b[0m         )\n\u001b[0;32m    344\u001b[0m     )\n\u001b[0;32m    346\u001b[0m     \u001b[39mif\u001b[39;00m method \u001b[39m!=\u001b[39m \u001b[39m\"\u001b[39m\u001b[39mHEAD\u001b[39m\u001b[39m\"\u001b[39m:\n",
      "File \u001b[1;32mc:\\Users\\becode\\AppData\\Local\\Programs\\Python\\Python311\\Lib\\site-packages\\elastic_transport\\_node\\_http_urllib3.py:202\u001b[0m, in \u001b[0;36mUrllib3HttpNode.perform_request\u001b[1;34m(self, method, target, body, headers, request_timeout)\u001b[0m\n\u001b[0;32m    194\u001b[0m         err \u001b[39m=\u001b[39m \u001b[39mConnectionError\u001b[39;00m(\u001b[39mstr\u001b[39m(e), errors\u001b[39m=\u001b[39m(e,))\n\u001b[0;32m    195\u001b[0m     \u001b[39mself\u001b[39m\u001b[39m.\u001b[39m_log_request(\n\u001b[0;32m    196\u001b[0m         method\u001b[39m=\u001b[39mmethod,\n\u001b[0;32m    197\u001b[0m         target\u001b[39m=\u001b[39mtarget,\n\u001b[1;32m   (...)\u001b[0m\n\u001b[0;32m    200\u001b[0m         exception\u001b[39m=\u001b[39merr,\n\u001b[0;32m    201\u001b[0m     )\n\u001b[1;32m--> 202\u001b[0m     \u001b[39mraise\u001b[39;00m err \u001b[39mfrom\u001b[39;00m \u001b[39mNone\u001b[39;00m\n\u001b[0;32m    204\u001b[0m meta \u001b[39m=\u001b[39m ApiResponseMeta(\n\u001b[0;32m    205\u001b[0m     node\u001b[39m=\u001b[39m\u001b[39mself\u001b[39m\u001b[39m.\u001b[39mconfig,\n\u001b[0;32m    206\u001b[0m     duration\u001b[39m=\u001b[39mduration,\n\u001b[1;32m   (...)\u001b[0m\n\u001b[0;32m    209\u001b[0m     headers\u001b[39m=\u001b[39mresponse_headers,\n\u001b[0;32m    210\u001b[0m )\n\u001b[0;32m    211\u001b[0m \u001b[39mself\u001b[39m\u001b[39m.\u001b[39m_log_request(\n\u001b[0;32m    212\u001b[0m     method\u001b[39m=\u001b[39mmethod,\n\u001b[0;32m    213\u001b[0m     target\u001b[39m=\u001b[39mtarget,\n\u001b[1;32m   (...)\u001b[0m\n\u001b[0;32m    217\u001b[0m     response\u001b[39m=\u001b[39mdata,\n\u001b[0;32m    218\u001b[0m )\n",
      "\u001b[1;31mConnectionError\u001b[0m: Connection error caused by: ConnectionError(Connection error caused by: NewConnectionError(<urllib3.connection.HTTPConnection object at 0x000002E67F1994D0>: Failed to establish a new connection: [WinError 10061] No connection could be made because the target machine actively refused it))"
     ]
    }
   ],
   "source": [
    "list(client.indices.get_alias())"
   ]
  },
  {
   "cell_type": "markdown",
   "metadata": {},
   "source": [
    "### The Dataset\n",
    "\n",
    "For this project we will use the [News Category Dataset](https://www.kaggle.com/datasets/rmisra/news-category-dataset) from Kaggle. Take some time to understand its structure and its specificities.\n",
    "\n",
    "Then you can download it, unzip it and specify here below the path of the `JSON` file on your computer. We then can have a look to the structure of one article."
   ]
  },
  {
   "cell_type": "code",
   "execution_count": null,
   "metadata": {},
   "outputs": [],
   "source": [
    "input_file = \"/YOUR_PATH_TO_THE_DATASET\""
   ]
  },
  {
   "cell_type": "code",
   "execution_count": null,
   "metadata": {},
   "outputs": [],
   "source": [
    "import json\n",
    "articles = []\n",
    "for line in open(input_file):\n",
    "    articles.append(json.loads(line))\n",
    "\n",
    "articles[0]"
   ]
  },
  {
   "cell_type": "markdown",
   "metadata": {},
   "source": [
    "Based on that structure we will create a `mapping`. It consists of defining how a document, and the fields it contains, are stored and indexed. Remember how to create table in SQL, this is the same idea. You will find more info about mapping [here](https://www.elastic.co/guide/en/elasticsearch/reference/current/mapping.html).\n",
    "\n",
    "In our case, the documents have 6 fields, that we can classify like this:\n",
    "\n",
    "- Full text fields (relevant to query in a search engine):\n",
    "    - `headline`\n",
    "    - `short_description`\n",
    "- Datetime\n",
    "    - `date`\n",
    "- Keyword (string for which we don't want to do complex search queries):\n",
    "    - `link`\n",
    "    - `category`\n",
    "    - `authors`\n",
    "\n",
    "For the full text fields we can specify an [analyzer](https://www.elastic.co/guide/en/elasticsearch/reference/current/analyzer.html) to be applied on the text. The analyzer defines how to index and search a text field. Elasticsearch has a few built-in analyzers (including language-based analysers) but we can also create our own, which can be useful for very specific content (*e.g* tweets because they contain hashtags that should not be considered by the full text search). In this case we will use the built-in [english analyzer](https://www.elastic.co/guide/en/elasticsearch/reference/current/analysis-lang-analyzer.html#english-analyzer)\n",
    "\n",
    "We can now build the following mapping:"
   ]
  },
  {
   "cell_type": "code",
   "execution_count": null,
   "metadata": {},
   "outputs": [],
   "source": [
    "mapping = {\n",
    "    \"properties\": {\n",
    "        \"headline\": {\n",
    "            \"type\": \"text\",\n",
    "            \"analyzer\": \"english\"\n",
    "        },\n",
    "        \"short_description\": {\n",
    "            \"type\": \"text\",\n",
    "            \"analyzer\": \"english\"\n",
    "        },\n",
    "        \"date\": {\n",
    "            \"type\": \"date\"\n",
    "        },\n",
    "        \"category\": {\n",
    "            \"type\": \"keyword\"\n",
    "        },\n",
    "        \"link\": {\n",
    "            \"type\": \"keyword\",\n",
    "        },\n",
    "        \"authors\": {\n",
    "            \"type\": \"keyword\"\n",
    "        }\n",
    "    }\n",
    "}"
   ]
  },
  {
   "cell_type": "markdown",
   "metadata": {},
   "source": [
    "### Indexing"
   ]
  },
  {
   "cell_type": "markdown",
   "metadata": {},
   "source": [
    "We will now create an index named `articles` based on the mapping we have defined. Prior we will check if this index does not exists already. If it exists we will delete it."
   ]
  },
  {
   "cell_type": "code",
   "execution_count": null,
   "metadata": {},
   "outputs": [],
   "source": [
    "if not client.indices.exists(index=\"articles\"):\n",
    "    client.indices.create(index=\"articles\", mappings=mapping)\n",
    "else:\n",
    "    client.indices.delete(index=\"articles\")\n"
   ]
  },
  {
   "cell_type": "markdown",
   "metadata": {},
   "source": [
    "By running again the command that lists the indexes on our ES instance we can now see that the `articles` index has been created:"
   ]
  },
  {
   "cell_type": "code",
   "execution_count": null,
   "metadata": {},
   "outputs": [],
   "source": [
    "list(client.indices.get_alias())"
   ]
  },
  {
   "cell_type": "markdown",
   "metadata": {},
   "source": [
    "We can now index our articles one by one. Let's try to index the 10.000 first documents. Let's do it by using `tqdm` for checking the time it takes. If the library is not installed yet, you can install it."
   ]
  },
  {
   "cell_type": "code",
   "execution_count": null,
   "metadata": {},
   "outputs": [],
   "source": [
    "from tqdm import tqdm\n",
    "\n",
    "for article in tqdm(articles[:10000]):\n",
    "    client.index(index=\"articles\", id=article[\"link\"], document=article)\n"
   ]
  },
  {
   "cell_type": "markdown",
   "metadata": {},
   "source": [
    "As you can see the process is quite slow. We can speed it up the process by indexing batches of documents.\n",
    "\n",
    "Let's try it on the same sample:"
   ]
  },
  {
   "cell_type": "code",
   "execution_count": null,
   "metadata": {},
   "outputs": [],
   "source": [
    "from datetime import datetime\n",
    "from elasticsearch import helpers\n",
    "\n",
    "start = datetime.now()\n",
    "\n",
    "bulk = []\n",
    "for article in articles[:10000]:\n",
    "    bulk.append({\n",
    "        \"_index\": \"articles\",\n",
    "        \"_id\": article[\"link\"], # We will define the URL of the articles as unique identifier. That means that if we reindex the same article, it will be overwritten.\n",
    "        \"_source\": article\n",
    "    })\n",
    "\n",
    "helpers.bulk(client, bulk)\n",
    "print(f\"Done in {datetime.now() - start}\")"
   ]
  },
  {
   "cell_type": "markdown",
   "metadata": {},
   "source": [
    "Much faster, isn't ? So we let you modify the code above in order to index the full list of articles.\n",
    "\n",
    "As soon as it is done, we can check if the documents have well been indexed by counting them. We can either check it through the browser (http://localhost:9200/articles/_count) or by using the Python client:"
   ]
  },
  {
   "cell_type": "code",
   "execution_count": null,
   "metadata": {},
   "outputs": [],
   "source": [
    "client.count(index='articles').get('count')"
   ]
  },
  {
   "cell_type": "markdown",
   "metadata": {},
   "source": [
    "## Well Done! \n",
    "\n",
    "Your first Elasticsearch index is up and running! Let's now try some queries in [the next notebook](4.Queries.ipynb)."
   ]
  }
 ],
 "metadata": {
  "kernelspec": {
   "display_name": "Python 3.10.5 ('venv': venv)",
   "language": "python",
   "name": "python3"
  },
  "language_info": {
   "codemirror_mode": {
    "name": "ipython",
    "version": 3
   },
   "file_extension": ".py",
   "mimetype": "text/x-python",
   "name": "python",
   "nbconvert_exporter": "python",
   "pygments_lexer": "ipython3",
   "version": "3.11.5"
  },
  "orig_nbformat": 4,
  "vscode": {
   "interpreter": {
    "hash": "075c4aacec6b2fdbf28b9009428016162994a6c73f84b383c1feb4b5c90c294c"
   }
  }
 },
 "nbformat": 4,
 "nbformat_minor": 2
}
