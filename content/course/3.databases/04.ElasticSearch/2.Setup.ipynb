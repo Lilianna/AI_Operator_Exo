{
 "cells": [
  {
   "cell_type": "markdown",
   "metadata": {},
   "source": [
    "\n",
    "\n",
    "\n",
    "# Install and setup Elasticsearch\n",
    "\n",
    "In this notebook we will set up a basic instance of ElasticSearch by using a Docker image. It will create an ElasticSearch instance on your computer (port 9200).\n",
    "\n",
    "If you want to install it by yourself (and to play with the configuration) you can have a look [here](https://www.elastic.co/guide/en/elasticsearch/reference/current/install-elasticsearch.html)\n",
    "\n",
    "Let's deploy the Docker image we have pre-built for you:\n"
   ]
  },
  {
   "cell_type": "code",
   "execution_count": 1,
   "metadata": {},
   "outputs": [
    {
     "name": "stderr",
     "output_type": "stream",
     "text": [
      "error during connect: this error may indicate that the docker daemon is not running: Get \"http://%2F%2F.%2Fpipe%2Fdocker_engine/v1.24/containers/json?all=1&filters=%7B%22label%22%3A%7B%22com.docker.compose.config-hash%22%3Atrue%2C%22com.docker.compose.project%3D04elasticsearch%22%3Atrue%7D%7D\": open //./pipe/docker_engine: The system cannot find the file specified.\n"
     ]
    }
   ],
   "source": [
    "!docker-compose up -d"
   ]
  },
  {
   "cell_type": "markdown",
   "metadata": {},
   "source": [
    "You can now check that the instance is deployed by opening the following URL in your browser: http://localhost:9200/\n",
    "\n",
    "As a result you should have something like this\n",
    "\n",
    "```json\n",
    "{\n",
    "  \"name\": \"8d8cdc1cf516\",\n",
    "  \"cluster_name\": \"docker-cluster\",\n",
    "  \"cluster_uuid\": \"lZ0HjCZvRsGFjKGItAswOQ\",\n",
    "  \"version\": {\n",
    "    \"number\": \"8.5.0\",\n",
    "    \"build_flavor\": \"default\",\n",
    "    \"build_type\": \"docker\",\n",
    "    \"build_hash\": \"c94b4700cda13820dad5aa74fae6db185ca5c304\",\n",
    "    \"build_date\": \"2022-10-24T16:54:16.433628434Z\",\n",
    "    \"build_snapshot\": false,\n",
    "    \"lucene_version\": \"9.4.1\",\n",
    "    \"minimum_wire_compatibility_version\": \"7.17.0\",\n",
    "    \"minimum_index_compatibility_version\": \"7.0.0\"\n",
    "  },\n",
    "  \"tagline\": \"You Know, for Search\"\n",
    "}\n",
    "```"
   ]
  },
  {
   "cell_type": "markdown",
   "metadata": {},
   "source": [
    "You can also check the health of your cluster by having a look to the following URL: http://localhost:9200/_cluster/health\n",
    "\n",
    "It tells you about your cluster, including the name and all important status, plus some stats on nodes, shards, etc.\n",
    "\n",
    "If you want to check more information about your instance by using simple urls, you can have a look [here](https://www.elkman.io/blog/useful-elasticsearch-api-urls).\n",
    "\n",
    "Now that we have set up an ElasticSearch instance, it's time to create our first index. Let's move [here](./3.Indexing.ipynb) to do it by using Python."
   ]
  }
 ],
 "metadata": {
  "kernelspec": {
   "display_name": "Python 3.10.5 ('venv': venv)",
   "language": "python",
   "name": "python3"
  },
  "language_info": {
   "codemirror_mode": {
    "name": "ipython",
    "version": 3
   },
   "file_extension": ".py",
   "mimetype": "text/x-python",
   "name": "python",
   "nbconvert_exporter": "python",
   "pygments_lexer": "ipython3",
   "version": "3.11.5"
  },
  "orig_nbformat": 4,
  "vscode": {
   "interpreter": {
    "hash": "075c4aacec6b2fdbf28b9009428016162994a6c73f84b383c1feb4b5c90c294c"
   }
  }
 },
 "nbformat": 4,
 "nbformat_minor": 2
}
