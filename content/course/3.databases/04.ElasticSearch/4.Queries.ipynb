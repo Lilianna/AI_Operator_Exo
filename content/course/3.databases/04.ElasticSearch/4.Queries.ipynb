{
 "cells": [
  {
   "cell_type": "markdown",
   "metadata": {},
   "source": [
    "# Elasticsearch queries\n",
    "\n",
    "Now that we have created our first index we can do some queries on it. To learn the basics of Elasticearch queries, we advice you to have a look to [this document](https://www.elastic.co/guide/en/elasticsearch/reference/current/query-dsl.html).\n",
    "\n",
    "As before, we will use the Python client and we will first connect it to our index."
   ]
  },
  {
   "cell_type": "code",
   "execution_count": null,
   "metadata": {},
   "outputs": [],
   "source": [
    "from elasticsearch import Elasticsearch\n",
    "from pprint import pprint\n",
    "client = Elasticsearch(\"http://localhost:9200\")"
   ]
  },
  {
   "cell_type": "markdown",
   "metadata": {},
   "source": [
    "## Basic queries\n",
    "\n",
    "Let's start with a simple query: find the articles whose headline contains the word `football` and count the results."
   ]
  },
  {
   "cell_type": "code",
   "execution_count": null,
   "metadata": {},
   "outputs": [],
   "source": [
    "query = {\n",
    "    \"query_string\": {\n",
    "        \"query\": \"football\",\n",
    "        \"default_field\": \"headline\"\n",
    "    }\n",
    "}\n",
    "\n",
    "result = client.search(index=\"articles\", query=query)\n",
    "\n",
    "# Print the number of results\n",
    "print(f\"Nb articles: {result['hits']['total']['value']}\")\n",
    "\n",
    "# Print the first article\n",
    "for hit in result['hits']['hits'][:1]:\n",
    "  pprint(hit)"
   ]
  },
  {
   "cell_type": "markdown",
   "metadata": {},
   "source": [
    "Some texts will contain the word `soccer` instead of `football`. ElasticSearch allows us to use boolean operators (`AND`, `OR`, `NOT`) to complexify a little bit our queries. Let's give an example here:"
   ]
  },
  {
   "cell_type": "code",
   "execution_count": null,
   "metadata": {},
   "outputs": [],
   "source": [
    "query = {\n",
    "    \"query_string\": {\n",
    "        \"query\": \"soccer OR football\",\n",
    "        \"default_field\": \"headline\"\n",
    "    }\n",
    "}\n",
    "\n",
    "result = client.search(index=\"articles\", query=query)\n",
    "\n",
    "# Print the number of results\n",
    "print(f\"Nb articles: {result['hits']['total']['value']}\")\n",
    "\n",
    "# Print the first article\n",
    "for hit in result['hits']['hits'][:1]:\n",
    "  pprint(hit)"
   ]
  },
  {
   "cell_type": "markdown",
   "metadata": {},
   "source": [
    "**Exercise:** Create a query that gets the articles whose `short_description` contains `football` or `soccer` but not `player` and display the 10 first results"
   ]
  },
  {
   "cell_type": "code",
   "execution_count": null,
   "metadata": {},
   "outputs": [],
   "source": []
  },
  {
   "cell_type": "markdown",
   "metadata": {},
   "source": [
    "## Filters\n",
    "\n",
    "We can complexify queries by adding filters. For example we could get the articles about Madonna that were published in 2017."
   ]
  },
  {
   "cell_type": "code",
   "execution_count": null,
   "metadata": {},
   "outputs": [],
   "source": [
    "query = {\n",
    "     \"bool\":{\n",
    "         \"must\":{\n",
    "            \"query_string\":{\n",
    "               \"query\":\"Madonna\",\n",
    "               \"default_field\": \"headline\"\n",
    "            }\n",
    "         },\n",
    "         \"filter\":{\n",
    "            \"range\": {\n",
    "                \"date\":{\n",
    "                    \"gte\":\"2017-01-01\",\n",
    "                    \"lt\": \"2018-01-01\"\n",
    "                }  \n",
    "            }\n",
    "         }\n",
    "      }\n",
    "}\n",
    "\n",
    "result = client.search(index=\"articles\", query=query)\n",
    "\n",
    "\n",
    "# Print the number of results\n",
    "print(f\"Nb articles: {result['hits']['total']['value']}\")\n",
    "\n",
    "# Print the first article\n",
    "for hit in result['hits']['hits'][:1]:\n",
    "  pprint(hit)"
   ]
  },
  {
   "cell_type": "markdown",
   "metadata": {},
   "source": [
    "## Your Turn\n",
    "\n",
    "Based on your knowledge and some Google search try to create the following queries:\n",
    "\n",
    "- Search for the articles about Donald Trump during his mandate (Jan 2017 - Jan 2021)\n",
    "- Count the total number of articles in the category `WORLD NEWS`\n",
    "- Search for the articles that contains the word `computer` in both `headline` and `short_description`\n",
    "- Search for the articles that strictly match `computer science`\n",
    "- Query all data that has the phrase `Barack Obama` in the headline. Then, perform aggregations to count the number of those articles per `category`. Like in MongoDB, you can have a look to [aggregation pipelines](https://www.elastic.co/guide/en/elasticsearch/reference/current/search-aggregations-pipeline.html)"
   ]
  },
  {
   "cell_type": "code",
   "execution_count": null,
   "metadata": {},
   "outputs": [],
   "source": [
    "## Your code here (feel free to add more code cells!)"
   ]
  }
 ],
 "metadata": {
  "kernelspec": {
   "display_name": "Python 3.10.5 ('venv': venv)",
   "language": "python",
   "name": "python3"
  },
  "language_info": {
   "codemirror_mode": {
    "name": "ipython",
    "version": 3
   },
   "file_extension": ".py",
   "mimetype": "text/x-python",
   "name": "python",
   "nbconvert_exporter": "python",
   "pygments_lexer": "ipython3",
   "version": "3.11.5"
  },
  "orig_nbformat": 4,
  "vscode": {
   "interpreter": {
    "hash": "075c4aacec6b2fdbf28b9009428016162994a6c73f84b383c1feb4b5c90c294c"
   }
  }
 },
 "nbformat": 4,
 "nbformat_minor": 2
}
